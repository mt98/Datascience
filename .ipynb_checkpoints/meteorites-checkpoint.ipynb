{
 "cells": [
  {
   "cell_type": "markdown",
   "metadata": {
    "id": "IHQipXfOiO0L"
   },
   "source": [
    "## Pandas Profiling: NASA Meteorites example\n",
    "Source of data: https://data.nasa.gov/Space-Science/Meteorite-Landings/gh4g-9sfh"
   ]
  },
  {
   "cell_type": "markdown",
   "metadata": {
    "id": "4ZaYahZ4iO0N"
   },
   "source": [
    "The autoreload instruction reloads modules automatically before code execution, which is helpful for the update below."
   ]
  },
  {
   "cell_type": "code",
   "execution_count": 1,
   "metadata": {
    "id": "gSF8nrcWiO0N"
   },
   "outputs": [],
   "source": [
    "%load_ext autoreload\n",
    "%autoreload 2"
   ]
  },
  {
   "cell_type": "markdown",
   "metadata": {
    "id": "KWHd-3iwiO0N"
   },
   "source": [
    "Make sure that we have the latest version of pandas-profiling."
   ]
  },
  {
   "cell_type": "code",
   "execution_count": 2,
   "metadata": {
    "id": "5wSEBOMLiO0O"
   },
   "outputs": [
    {
     "name": "stdout",
     "output_type": "stream",
     "text": [
      "Collecting pandas-profiling[notebook]\n",
      "  Downloading pandas_profiling-3.6.6-py2.py3-none-any.whl (324 kB)\n",
      "\u001b[K     |████████████████████████████████| 324 kB 3.4 MB/s eta 0:00:01\n",
      "\u001b[?25hCollecting ydata-profiling\n",
      "  Downloading ydata_profiling-4.6.1-py2.py3-none-any.whl (357 kB)\n",
      "\u001b[K     |████████████████████████████████| 357 kB 26.4 MB/s eta 0:00:01\n",
      "\u001b[?25hRequirement already satisfied: ipywidgets>=7.5.1 in /Users/mks9338/opt/anaconda3/lib/python3.9/site-packages (from pandas-profiling[notebook]) (7.6.5)\n",
      "Requirement already satisfied: jupyter-core>=4.6.3 in /Users/mks9338/opt/anaconda3/lib/python3.9/site-packages (from pandas-profiling[notebook]) (4.9.2)\n",
      "Requirement already satisfied: jupyter-client>=5.3.4 in /Users/mks9338/opt/anaconda3/lib/python3.9/site-packages (from pandas-profiling[notebook]) (6.1.12)\n",
      "Requirement already satisfied: ipython-genutils~=0.2.0 in /Users/mks9338/opt/anaconda3/lib/python3.9/site-packages (from ipywidgets>=7.5.1->pandas-profiling[notebook]) (0.2.0)\n",
      "Requirement already satisfied: ipython>=4.0.0 in /Users/mks9338/opt/anaconda3/lib/python3.9/site-packages (from ipywidgets>=7.5.1->pandas-profiling[notebook]) (8.2.0)\n",
      "Requirement already satisfied: widgetsnbextension~=3.5.0 in /Users/mks9338/opt/anaconda3/lib/python3.9/site-packages (from ipywidgets>=7.5.1->pandas-profiling[notebook]) (3.5.2)\n",
      "Requirement already satisfied: nbformat>=4.2.0 in /Users/mks9338/opt/anaconda3/lib/python3.9/site-packages (from ipywidgets>=7.5.1->pandas-profiling[notebook]) (5.3.0)\n",
      "Requirement already satisfied: traitlets>=4.3.1 in /Users/mks9338/opt/anaconda3/lib/python3.9/site-packages (from ipywidgets>=7.5.1->pandas-profiling[notebook]) (5.1.1)\n",
      "Requirement already satisfied: jupyterlab-widgets>=1.0.0 in /Users/mks9338/opt/anaconda3/lib/python3.9/site-packages (from ipywidgets>=7.5.1->pandas-profiling[notebook]) (1.0.0)\n",
      "Requirement already satisfied: ipykernel>=4.5.1 in /Users/mks9338/opt/anaconda3/lib/python3.9/site-packages (from ipywidgets>=7.5.1->pandas-profiling[notebook]) (6.9.1)\n",
      "Requirement already satisfied: matplotlib-inline<0.2.0,>=0.1.0 in /Users/mks9338/opt/anaconda3/lib/python3.9/site-packages (from ipykernel>=4.5.1->ipywidgets>=7.5.1->pandas-profiling[notebook]) (0.1.2)\n",
      "Requirement already satisfied: tornado<7.0,>=4.2 in /Users/mks9338/opt/anaconda3/lib/python3.9/site-packages (from ipykernel>=4.5.1->ipywidgets>=7.5.1->pandas-profiling[notebook]) (6.1)\n",
      "Requirement already satisfied: appnope in /Users/mks9338/opt/anaconda3/lib/python3.9/site-packages (from ipykernel>=4.5.1->ipywidgets>=7.5.1->pandas-profiling[notebook]) (0.1.2)\n",
      "Requirement already satisfied: nest-asyncio in /Users/mks9338/opt/anaconda3/lib/python3.9/site-packages (from ipykernel>=4.5.1->ipywidgets>=7.5.1->pandas-profiling[notebook]) (1.5.5)\n",
      "Requirement already satisfied: debugpy<2.0,>=1.0.0 in /Users/mks9338/opt/anaconda3/lib/python3.9/site-packages (from ipykernel>=4.5.1->ipywidgets>=7.5.1->pandas-profiling[notebook]) (1.5.1)\n",
      "Requirement already satisfied: jedi>=0.16 in /Users/mks9338/opt/anaconda3/lib/python3.9/site-packages (from ipython>=4.0.0->ipywidgets>=7.5.1->pandas-profiling[notebook]) (0.18.1)\n",
      "Requirement already satisfied: pexpect>4.3 in /Users/mks9338/opt/anaconda3/lib/python3.9/site-packages (from ipython>=4.0.0->ipywidgets>=7.5.1->pandas-profiling[notebook]) (4.8.0)\n",
      "Requirement already satisfied: backcall in /Users/mks9338/opt/anaconda3/lib/python3.9/site-packages (from ipython>=4.0.0->ipywidgets>=7.5.1->pandas-profiling[notebook]) (0.2.0)\n",
      "Requirement already satisfied: decorator in /Users/mks9338/opt/anaconda3/lib/python3.9/site-packages (from ipython>=4.0.0->ipywidgets>=7.5.1->pandas-profiling[notebook]) (5.1.1)\n",
      "Requirement already satisfied: pickleshare in /Users/mks9338/opt/anaconda3/lib/python3.9/site-packages (from ipython>=4.0.0->ipywidgets>=7.5.1->pandas-profiling[notebook]) (0.7.5)\n",
      "Requirement already satisfied: prompt-toolkit!=3.0.0,!=3.0.1,<3.1.0,>=2.0.0 in /Users/mks9338/opt/anaconda3/lib/python3.9/site-packages (from ipython>=4.0.0->ipywidgets>=7.5.1->pandas-profiling[notebook]) (3.0.20)\n",
      "Requirement already satisfied: pygments>=2.4.0 in /Users/mks9338/opt/anaconda3/lib/python3.9/site-packages (from ipython>=4.0.0->ipywidgets>=7.5.1->pandas-profiling[notebook]) (2.11.2)\n",
      "Requirement already satisfied: setuptools>=18.5 in /Users/mks9338/opt/anaconda3/lib/python3.9/site-packages (from ipython>=4.0.0->ipywidgets>=7.5.1->pandas-profiling[notebook]) (61.2.0)\n",
      "Requirement already satisfied: stack-data in /Users/mks9338/opt/anaconda3/lib/python3.9/site-packages (from ipython>=4.0.0->ipywidgets>=7.5.1->pandas-profiling[notebook]) (0.2.0)\n",
      "Requirement already satisfied: parso<0.9.0,>=0.8.0 in /Users/mks9338/opt/anaconda3/lib/python3.9/site-packages (from jedi>=0.16->ipython>=4.0.0->ipywidgets>=7.5.1->pandas-profiling[notebook]) (0.8.3)\n",
      "Requirement already satisfied: python-dateutil>=2.1 in /Users/mks9338/opt/anaconda3/lib/python3.9/site-packages (from jupyter-client>=5.3.4->pandas-profiling[notebook]) (2.8.2)\n",
      "Requirement already satisfied: pyzmq>=13 in /Users/mks9338/opt/anaconda3/lib/python3.9/site-packages (from jupyter-client>=5.3.4->pandas-profiling[notebook]) (22.3.0)\n",
      "Requirement already satisfied: jsonschema>=2.6 in /Users/mks9338/opt/anaconda3/lib/python3.9/site-packages (from nbformat>=4.2.0->ipywidgets>=7.5.1->pandas-profiling[notebook]) (4.4.0)\n",
      "Requirement already satisfied: fastjsonschema in /Users/mks9338/opt/anaconda3/lib/python3.9/site-packages (from nbformat>=4.2.0->ipywidgets>=7.5.1->pandas-profiling[notebook]) (2.15.1)\n",
      "Requirement already satisfied: pyrsistent!=0.17.0,!=0.17.1,!=0.17.2,>=0.14.0 in /Users/mks9338/opt/anaconda3/lib/python3.9/site-packages (from jsonschema>=2.6->nbformat>=4.2.0->ipywidgets>=7.5.1->pandas-profiling[notebook]) (0.18.0)\n",
      "Requirement already satisfied: attrs>=17.4.0 in /Users/mks9338/opt/anaconda3/lib/python3.9/site-packages (from jsonschema>=2.6->nbformat>=4.2.0->ipywidgets>=7.5.1->pandas-profiling[notebook]) (21.4.0)\n",
      "Requirement already satisfied: ptyprocess>=0.5 in /Users/mks9338/opt/anaconda3/lib/python3.9/site-packages (from pexpect>4.3->ipython>=4.0.0->ipywidgets>=7.5.1->pandas-profiling[notebook]) (0.7.0)\n",
      "Requirement already satisfied: wcwidth in /Users/mks9338/opt/anaconda3/lib/python3.9/site-packages (from prompt-toolkit!=3.0.0,!=3.0.1,<3.1.0,>=2.0.0->ipython>=4.0.0->ipywidgets>=7.5.1->pandas-profiling[notebook]) (0.2.5)\n",
      "Requirement already satisfied: six>=1.5 in /Users/mks9338/opt/anaconda3/lib/python3.9/site-packages (from python-dateutil>=2.1->jupyter-client>=5.3.4->pandas-profiling[notebook]) (1.16.0)\n",
      "Requirement already satisfied: notebook>=4.4.1 in /Users/mks9338/opt/anaconda3/lib/python3.9/site-packages (from widgetsnbextension~=3.5.0->ipywidgets>=7.5.1->pandas-profiling[notebook]) (6.4.8)\n",
      "Requirement already satisfied: terminado>=0.8.3 in /Users/mks9338/opt/anaconda3/lib/python3.9/site-packages (from notebook>=4.4.1->widgetsnbextension~=3.5.0->ipywidgets>=7.5.1->pandas-profiling[notebook]) (0.13.1)\n",
      "Requirement already satisfied: jinja2 in /Users/mks9338/opt/anaconda3/lib/python3.9/site-packages (from notebook>=4.4.1->widgetsnbextension~=3.5.0->ipywidgets>=7.5.1->pandas-profiling[notebook]) (2.11.3)\n",
      "Requirement already satisfied: nbconvert in /Users/mks9338/opt/anaconda3/lib/python3.9/site-packages (from notebook>=4.4.1->widgetsnbextension~=3.5.0->ipywidgets>=7.5.1->pandas-profiling[notebook]) (6.4.4)\n",
      "Requirement already satisfied: argon2-cffi in /Users/mks9338/opt/anaconda3/lib/python3.9/site-packages (from notebook>=4.4.1->widgetsnbextension~=3.5.0->ipywidgets>=7.5.1->pandas-profiling[notebook]) (21.3.0)\n",
      "Requirement already satisfied: Send2Trash>=1.8.0 in /Users/mks9338/opt/anaconda3/lib/python3.9/site-packages (from notebook>=4.4.1->widgetsnbextension~=3.5.0->ipywidgets>=7.5.1->pandas-profiling[notebook]) (1.8.0)\n",
      "Requirement already satisfied: prometheus-client in /Users/mks9338/opt/anaconda3/lib/python3.9/site-packages (from notebook>=4.4.1->widgetsnbextension~=3.5.0->ipywidgets>=7.5.1->pandas-profiling[notebook]) (0.13.1)\n",
      "Requirement already satisfied: argon2-cffi-bindings in /Users/mks9338/opt/anaconda3/lib/python3.9/site-packages (from argon2-cffi->notebook>=4.4.1->widgetsnbextension~=3.5.0->ipywidgets>=7.5.1->pandas-profiling[notebook]) (21.2.0)\n",
      "Requirement already satisfied: cffi>=1.0.1 in /Users/mks9338/opt/anaconda3/lib/python3.9/site-packages (from argon2-cffi-bindings->argon2-cffi->notebook>=4.4.1->widgetsnbextension~=3.5.0->ipywidgets>=7.5.1->pandas-profiling[notebook]) (1.15.0)\n",
      "Requirement already satisfied: pycparser in /Users/mks9338/opt/anaconda3/lib/python3.9/site-packages (from cffi>=1.0.1->argon2-cffi-bindings->argon2-cffi->notebook>=4.4.1->widgetsnbextension~=3.5.0->ipywidgets>=7.5.1->pandas-profiling[notebook]) (2.21)\n",
      "Requirement already satisfied: MarkupSafe>=0.23 in /Users/mks9338/opt/anaconda3/lib/python3.9/site-packages (from jinja2->notebook>=4.4.1->widgetsnbextension~=3.5.0->ipywidgets>=7.5.1->pandas-profiling[notebook]) (2.0.1)\n"
     ]
    },
    {
     "name": "stdout",
     "output_type": "stream",
     "text": [
      "Requirement already satisfied: testpath in /Users/mks9338/opt/anaconda3/lib/python3.9/site-packages (from nbconvert->notebook>=4.4.1->widgetsnbextension~=3.5.0->ipywidgets>=7.5.1->pandas-profiling[notebook]) (0.5.0)\n",
      "Requirement already satisfied: entrypoints>=0.2.2 in /Users/mks9338/opt/anaconda3/lib/python3.9/site-packages (from nbconvert->notebook>=4.4.1->widgetsnbextension~=3.5.0->ipywidgets>=7.5.1->pandas-profiling[notebook]) (0.4)\n",
      "Requirement already satisfied: defusedxml in /Users/mks9338/opt/anaconda3/lib/python3.9/site-packages (from nbconvert->notebook>=4.4.1->widgetsnbextension~=3.5.0->ipywidgets>=7.5.1->pandas-profiling[notebook]) (0.7.1)\n",
      "Requirement already satisfied: pandocfilters>=1.4.1 in /Users/mks9338/opt/anaconda3/lib/python3.9/site-packages (from nbconvert->notebook>=4.4.1->widgetsnbextension~=3.5.0->ipywidgets>=7.5.1->pandas-profiling[notebook]) (1.5.0)\n",
      "Requirement already satisfied: mistune<2,>=0.8.1 in /Users/mks9338/opt/anaconda3/lib/python3.9/site-packages (from nbconvert->notebook>=4.4.1->widgetsnbextension~=3.5.0->ipywidgets>=7.5.1->pandas-profiling[notebook]) (0.8.4)\n",
      "Requirement already satisfied: jupyterlab-pygments in /Users/mks9338/opt/anaconda3/lib/python3.9/site-packages (from nbconvert->notebook>=4.4.1->widgetsnbextension~=3.5.0->ipywidgets>=7.5.1->pandas-profiling[notebook]) (0.1.2)\n",
      "Requirement already satisfied: bleach in /Users/mks9338/opt/anaconda3/lib/python3.9/site-packages (from nbconvert->notebook>=4.4.1->widgetsnbextension~=3.5.0->ipywidgets>=7.5.1->pandas-profiling[notebook]) (4.1.0)\n",
      "Requirement already satisfied: beautifulsoup4 in /Users/mks9338/opt/anaconda3/lib/python3.9/site-packages (from nbconvert->notebook>=4.4.1->widgetsnbextension~=3.5.0->ipywidgets>=7.5.1->pandas-profiling[notebook]) (4.11.1)\n",
      "Requirement already satisfied: nbclient<0.6.0,>=0.5.0 in /Users/mks9338/opt/anaconda3/lib/python3.9/site-packages (from nbconvert->notebook>=4.4.1->widgetsnbextension~=3.5.0->ipywidgets>=7.5.1->pandas-profiling[notebook]) (0.5.13)\n",
      "Requirement already satisfied: soupsieve>1.2 in /Users/mks9338/opt/anaconda3/lib/python3.9/site-packages (from beautifulsoup4->nbconvert->notebook>=4.4.1->widgetsnbextension~=3.5.0->ipywidgets>=7.5.1->pandas-profiling[notebook]) (2.3.1)\n",
      "Requirement already satisfied: packaging in /Users/mks9338/opt/anaconda3/lib/python3.9/site-packages (from bleach->nbconvert->notebook>=4.4.1->widgetsnbextension~=3.5.0->ipywidgets>=7.5.1->pandas-profiling[notebook]) (21.3)\n",
      "Requirement already satisfied: webencodings in /Users/mks9338/opt/anaconda3/lib/python3.9/site-packages (from bleach->nbconvert->notebook>=4.4.1->widgetsnbextension~=3.5.0->ipywidgets>=7.5.1->pandas-profiling[notebook]) (0.5.1)\n",
      "Requirement already satisfied: pyparsing!=3.0.5,>=2.0.2 in /Users/mks9338/opt/anaconda3/lib/python3.9/site-packages (from packaging->bleach->nbconvert->notebook>=4.4.1->widgetsnbextension~=3.5.0->ipywidgets>=7.5.1->pandas-profiling[notebook]) (3.0.4)\n",
      "Requirement already satisfied: executing in /Users/mks9338/opt/anaconda3/lib/python3.9/site-packages (from stack-data->ipython>=4.0.0->ipywidgets>=7.5.1->pandas-profiling[notebook]) (0.8.3)\n",
      "Requirement already satisfied: asttokens in /Users/mks9338/opt/anaconda3/lib/python3.9/site-packages (from stack-data->ipython>=4.0.0->ipywidgets>=7.5.1->pandas-profiling[notebook]) (2.0.5)\n",
      "Requirement already satisfied: pure-eval in /Users/mks9338/opt/anaconda3/lib/python3.9/site-packages (from stack-data->ipython>=4.0.0->ipywidgets>=7.5.1->pandas-profiling[notebook]) (0.2.2)\n",
      "Requirement already satisfied: matplotlib<=3.7.3,>=3.2 in /Users/mks9338/opt/anaconda3/lib/python3.9/site-packages (from ydata-profiling->pandas-profiling[notebook]) (3.5.1)\n",
      "Requirement already satisfied: PyYAML<6.1,>=5.0.0 in /Users/mks9338/opt/anaconda3/lib/python3.9/site-packages (from ydata-profiling->pandas-profiling[notebook]) (6.0)\n",
      "Collecting multimethod<2,>=1.4\n",
      "  Downloading multimethod-1.10-py3-none-any.whl (9.9 kB)\n",
      "Collecting imagehash==4.3.1\n",
      "  Downloading ImageHash-4.3.1-py2.py3-none-any.whl (296 kB)\n",
      "\u001b[K     |████████████████████████████████| 296 kB 46.6 MB/s eta 0:00:01\n",
      "\u001b[?25hCollecting pydantic>=2\n",
      "  Downloading pydantic-2.4.2-py3-none-any.whl (395 kB)\n",
      "\u001b[K     |████████████████████████████████| 395 kB 22.3 MB/s eta 0:00:01\n",
      "\u001b[?25hRequirement already satisfied: tqdm<5,>=4.48.2 in /Users/mks9338/opt/anaconda3/lib/python3.9/site-packages (from ydata-profiling->pandas-profiling[notebook]) (4.64.0)\n",
      "Collecting htmlmin==0.1.12\n",
      "  Downloading htmlmin-0.1.12.tar.gz (19 kB)\n",
      "Collecting wordcloud>=1.9.1\n",
      "  Downloading wordcloud-1.9.2-cp39-cp39-macosx_10_9_x86_64.whl (161 kB)\n",
      "\u001b[K     |████████████████████████████████| 161 kB 47.1 MB/s eta 0:00:01\n",
      "\u001b[?25hRequirement already satisfied: requests<3,>=2.24.0 in /Users/mks9338/opt/anaconda3/lib/python3.9/site-packages (from ydata-profiling->pandas-profiling[notebook]) (2.27.1)\n",
      "Collecting dacite>=1.8\n",
      "  Downloading dacite-1.8.1-py3-none-any.whl (14 kB)\n",
      "Collecting numba<0.59.0,>=0.56.0\n",
      "  Downloading numba-0.58.1-cp39-cp39-macosx_10_9_x86_64.whl (2.6 MB)\n",
      "\u001b[K     |████████████████████████████████| 2.6 MB 40.3 MB/s eta 0:00:01\n",
      "\u001b[?25hCollecting pandas!=1.4.0,<2.1,>1.1\n",
      "  Downloading pandas-2.0.3-cp39-cp39-macosx_10_9_x86_64.whl (11.8 MB)\n",
      "\u001b[K     |████████████████████████████████| 11.8 MB 68.6 MB/s eta 0:00:01\n",
      "\u001b[?25hCollecting phik<0.13,>=0.11.1\n",
      "  Downloading phik-0.12.3-cp39-cp39-macosx_10_13_x86_64.whl (652 kB)\n",
      "\u001b[K     |████████████████████████████████| 652 kB 37.8 MB/s eta 0:00:01\n",
      "\u001b[?25hRequirement already satisfied: scipy<1.12,>=1.4.1 in /Users/mks9338/opt/anaconda3/lib/python3.9/site-packages (from ydata-profiling->pandas-profiling[notebook]) (1.11.0)\n",
      "Collecting typeguard<5,>=4.1.2\n",
      "  Downloading typeguard-4.1.5-py3-none-any.whl (34 kB)\n",
      "Requirement already satisfied: seaborn<0.13,>=0.10.1 in /Users/mks9338/opt/anaconda3/lib/python3.9/site-packages (from ydata-profiling->pandas-profiling[notebook]) (0.11.2)\n",
      "Collecting visions[type_image_path]==0.7.5\n",
      "  Downloading visions-0.7.5-py3-none-any.whl (102 kB)\n",
      "\u001b[K     |████████████████████████████████| 102 kB 45.0 MB/s eta 0:00:01\n",
      "\u001b[?25hRequirement already satisfied: statsmodels<1,>=0.13.2 in /Users/mks9338/opt/anaconda3/lib/python3.9/site-packages (from ydata-profiling->pandas-profiling[notebook]) (0.13.2)\n",
      "Requirement already satisfied: numpy<1.26,>=1.16.0 in /Users/mks9338/opt/anaconda3/lib/python3.9/site-packages (from ydata-profiling->pandas-profiling[notebook]) (1.22.4)\n",
      "Requirement already satisfied: PyWavelets in /Users/mks9338/opt/anaconda3/lib/python3.9/site-packages (from imagehash==4.3.1->ydata-profiling->pandas-profiling[notebook]) (1.3.0)\n",
      "Requirement already satisfied: pillow in /Users/mks9338/opt/anaconda3/lib/python3.9/site-packages (from imagehash==4.3.1->ydata-profiling->pandas-profiling[notebook]) (9.0.1)\n",
      "Requirement already satisfied: networkx>=2.4 in /Users/mks9338/opt/anaconda3/lib/python3.9/site-packages (from visions[type_image_path]==0.7.5->ydata-profiling->pandas-profiling[notebook]) (2.7.1)\n",
      "Collecting tangled-up-in-unicode>=0.0.4\n",
      "  Downloading tangled_up_in_unicode-0.2.0-py3-none-any.whl (4.7 MB)\n",
      "\u001b[K     |████████████████████████████████| 4.7 MB 46.3 MB/s eta 0:00:01\n",
      "\u001b[?25hRequirement already satisfied: cycler>=0.10 in /Users/mks9338/opt/anaconda3/lib/python3.9/site-packages (from matplotlib<=3.7.3,>=3.2->ydata-profiling->pandas-profiling[notebook]) (0.11.0)\n",
      "Requirement already satisfied: kiwisolver>=1.0.1 in /Users/mks9338/opt/anaconda3/lib/python3.9/site-packages (from matplotlib<=3.7.3,>=3.2->ydata-profiling->pandas-profiling[notebook]) (1.3.2)\n",
      "Requirement already satisfied: fonttools>=4.22.0 in /Users/mks9338/opt/anaconda3/lib/python3.9/site-packages (from matplotlib<=3.7.3,>=3.2->ydata-profiling->pandas-profiling[notebook]) (4.25.0)\n",
      "Collecting llvmlite<0.42,>=0.41.0dev0\n",
      "  Downloading llvmlite-0.41.1-cp39-cp39-macosx_10_9_x86_64.whl (31.0 MB)\n",
      "\u001b[K     |████████████████████████████████| 31.0 MB 137.0 MB/s eta 0:00:01\n",
      "\u001b[?25hRequirement already satisfied: tzdata>=2022.1 in /Users/mks9338/opt/anaconda3/lib/python3.9/site-packages (from pandas!=1.4.0,<2.1,>1.1->ydata-profiling->pandas-profiling[notebook]) (2023.3)\n",
      "Requirement already satisfied: pytz>=2020.1 in /Users/mks9338/opt/anaconda3/lib/python3.9/site-packages (from pandas!=1.4.0,<2.1,>1.1->ydata-profiling->pandas-profiling[notebook]) (2021.3)\n"
     ]
    },
    {
     "name": "stdout",
     "output_type": "stream",
     "text": [
      "Requirement already satisfied: joblib>=0.14.1 in /Users/mks9338/opt/anaconda3/lib/python3.9/site-packages (from phik<0.13,>=0.11.1->ydata-profiling->pandas-profiling[notebook]) (1.1.0)\n",
      "Collecting annotated-types>=0.4.0\n",
      "  Downloading annotated_types-0.6.0-py3-none-any.whl (12 kB)\n",
      "Collecting typing-extensions>=4.6.1\n",
      "  Downloading typing_extensions-4.8.0-py3-none-any.whl (31 kB)\n",
      "Collecting pydantic-core==2.10.1\n",
      "  Downloading pydantic_core-2.10.1-cp39-cp39-macosx_10_7_x86_64.whl (1.9 MB)\n",
      "\u001b[K     |████████████████████████████████| 1.9 MB 97.5 MB/s eta 0:00:01\n",
      "\u001b[?25hRequirement already satisfied: idna<4,>=2.5 in /Users/mks9338/opt/anaconda3/lib/python3.9/site-packages (from requests<3,>=2.24.0->ydata-profiling->pandas-profiling[notebook]) (3.3)\n",
      "Requirement already satisfied: certifi>=2017.4.17 in /Users/mks9338/opt/anaconda3/lib/python3.9/site-packages (from requests<3,>=2.24.0->ydata-profiling->pandas-profiling[notebook]) (2021.10.8)\n",
      "Requirement already satisfied: urllib3<1.27,>=1.21.1 in /Users/mks9338/opt/anaconda3/lib/python3.9/site-packages (from requests<3,>=2.24.0->ydata-profiling->pandas-profiling[notebook]) (1.26.9)\n",
      "Requirement already satisfied: charset-normalizer~=2.0.0 in /Users/mks9338/opt/anaconda3/lib/python3.9/site-packages (from requests<3,>=2.24.0->ydata-profiling->pandas-profiling[notebook]) (2.0.4)\n",
      "Requirement already satisfied: patsy>=0.5.2 in /Users/mks9338/opt/anaconda3/lib/python3.9/site-packages (from statsmodels<1,>=0.13.2->ydata-profiling->pandas-profiling[notebook]) (0.5.2)\n",
      "Requirement already satisfied: importlib-metadata>=3.6 in /Users/mks9338/opt/anaconda3/lib/python3.9/site-packages (from typeguard<5,>=4.1.2->ydata-profiling->pandas-profiling[notebook]) (4.11.3)\n",
      "Requirement already satisfied: zipp>=0.5 in /Users/mks9338/opt/anaconda3/lib/python3.9/site-packages (from importlib-metadata>=3.6->typeguard<5,>=4.1.2->ydata-profiling->pandas-profiling[notebook]) (3.7.0)\n",
      "Building wheels for collected packages: htmlmin\n",
      "  Building wheel for htmlmin (setup.py) ... \u001b[?25ldone\n",
      "\u001b[?25h  Created wheel for htmlmin: filename=htmlmin-0.1.12-py3-none-any.whl size=27096 sha256=92b009aa8487d31acffca41be8a8a38a4f53b103bf8e1b46ee22e0734f498402\n",
      "  Stored in directory: /Users/mks9338/Library/Caches/pip/wheels/1d/05/04/c6d7d3b66539d9e659ac6dfe81e2d0fd4c1a8316cc5a403300\n",
      "Successfully built htmlmin\n",
      "Installing collected packages: typing-extensions, tangled-up-in-unicode, pandas, multimethod, visions, pydantic-core, llvmlite, imagehash, annotated-types, wordcloud, typeguard, pydantic, phik, numba, htmlmin, dacite, ydata-profiling, pandas-profiling\n",
      "  Attempting uninstall: typing-extensions\n",
      "    Found existing installation: typing-extensions 4.1.1\n",
      "    Uninstalling typing-extensions-4.1.1:\n",
      "      Successfully uninstalled typing-extensions-4.1.1\n",
      "  Attempting uninstall: pandas\n",
      "    Found existing installation: pandas 2.1.0\n",
      "    Uninstalling pandas-2.1.0:\n",
      "      Successfully uninstalled pandas-2.1.0\n",
      "  Attempting uninstall: llvmlite\n",
      "    Found existing installation: llvmlite 0.38.0\n",
      "    Uninstalling llvmlite-0.38.0:\n",
      "      Successfully uninstalled llvmlite-0.38.0\n",
      "  Attempting uninstall: numba\n",
      "    Found existing installation: numba 0.55.1\n",
      "    Uninstalling numba-0.55.1:\n",
      "      Successfully uninstalled numba-0.55.1\n",
      "Successfully installed annotated-types-0.6.0 dacite-1.8.1 htmlmin-0.1.12 imagehash-4.3.1 llvmlite-0.41.1 multimethod-1.10 numba-0.58.1 pandas-2.0.3 pandas-profiling-3.6.6 phik-0.12.3 pydantic-2.4.2 pydantic-core-2.10.1 tangled-up-in-unicode-0.2.0 typeguard-4.1.5 typing-extensions-4.8.0 visions-0.7.5 wordcloud-1.9.2 ydata-profiling-4.6.1\n",
      "Enabling notebook extension jupyter-js-widgets/extension...\n",
      "      - Validating: \u001b[32mOK\u001b[0m\n"
     ]
    }
   ],
   "source": [
    "import sys\n",
    "\n",
    "!{sys.executable} -m pip install -U pandas-profiling[notebook]\n",
    "!jupyter nbextension enable --py widgetsnbextension"
   ]
  },
  {
   "cell_type": "markdown",
   "metadata": {
    "id": "YC6OTHtFiO0O"
   },
   "source": [
    "You might want to restart the kernel now."
   ]
  },
  {
   "cell_type": "markdown",
   "metadata": {
    "id": "_XhbUHiziO0O"
   },
   "source": [
    "### Import libraries"
   ]
  },
  {
   "cell_type": "code",
   "execution_count": null,
   "metadata": {
    "id": "u4VIv9LQiO0O"
   },
   "outputs": [],
   "source": [
    "from pathlib import Path\n",
    "\n",
    "import numpy as np\n",
    "import pandas as pd\n",
    "import requests\n",
    "\n",
    "import ydata_profiling\n",
    "from ydata_profiling.utils.cache import cache_file"
   ]
  },
  {
   "cell_type": "markdown",
   "metadata": {
    "id": "RxYpdX-SiO0O"
   },
   "source": [
    "### Load and prepare example dataset\n",
    "We add some fake variables for illustrating pandas-profiling capabilities"
   ]
  },
  {
   "cell_type": "code",
   "execution_count": null,
   "metadata": {
    "id": "CtT3uFMziO0P"
   },
   "outputs": [],
   "source": [
    "file_name = cache_file(\n",
    "    \"meteorites.csv\",\n",
    "    \"https://data.nasa.gov/api/views/gh4g-9sfh/rows.csv?accessType=DOWNLOAD\",\n",
    ")\n",
    "\n",
    "df = pd.read_csv(file_name)\n",
    "\n",
    "# Note: Pandas does not support dates before 1880, so we ignore these for this analysis\n",
    "df[\"year\"] = pd.to_datetime(df[\"year\"], errors=\"coerce\")\n",
    "\n",
    "# Example: Constant variable\n",
    "df[\"source\"] = \"NASA\"\n",
    "\n",
    "# Example: Boolean variable\n",
    "df[\"boolean\"] = np.random.choice([True, False], df.shape[0])\n",
    "\n",
    "# Example: Mixed with base types\n",
    "df[\"mixed\"] = np.random.choice([1, \"A\"], df.shape[0])\n",
    "\n",
    "# Example: Highly correlated variables\n",
    "df[\"reclat_city\"] = df[\"reclat\"] + np.random.normal(scale=5, size=(len(df)))\n",
    "\n",
    "# Example: Duplicate observations\n",
    "duplicates_to_add = pd.DataFrame(df.iloc[0:10])\n",
    "duplicates_to_add[\"name\"] = duplicates_to_add[\"name\"] + \" copy\"\n",
    "\n",
    "df = pd.concat([df, duplicates_to_add], ignore_index=True)"
   ]
  },
  {
   "cell_type": "markdown",
   "metadata": {
    "id": "XxMO_mpziO0P"
   },
   "source": [
    "### Inline report without saving object"
   ]
  },
  {
   "cell_type": "code",
   "execution_count": null,
   "metadata": {
    "id": "aJLJbJCPiO0P"
   },
   "outputs": [],
   "source": [
    "report = df.profile_report(\n",
    "    sort=None, html={\"style\": {\"full_width\": True}}, progress_bar=False\n",
    ")\n",
    "report"
   ]
  },
  {
   "cell_type": "markdown",
   "metadata": {
    "id": "LbDB31FGiO0P"
   },
   "source": [
    "### Save report to file"
   ]
  },
  {
   "cell_type": "code",
   "execution_count": null,
   "metadata": {
    "id": "F9Bvpx40iO0P"
   },
   "outputs": [],
   "source": [
    "profile_report = df.profile_report(html={\"style\": {\"full_width\": True}})\n",
    "profile_report.to_file(\"/tmp/example.html\")"
   ]
  },
  {
   "cell_type": "markdown",
   "metadata": {
    "id": "1EsF7NK9iO0P"
   },
   "source": [
    "### More analysis (Unicode) and Print existing ProfileReport object inline"
   ]
  },
  {
   "cell_type": "code",
   "execution_count": null,
   "metadata": {
    "id": "fzpsjqwniO0P"
   },
   "outputs": [],
   "source": [
    "profile_report = df.profile_report(\n",
    "    explorative=True, html={\"style\": {\"full_width\": True}}\n",
    ")\n",
    "profile_report"
   ]
  },
  {
   "cell_type": "markdown",
   "metadata": {
    "id": "HKNojDzkiO0P"
   },
   "source": [
    "### Notebook Widgets"
   ]
  },
  {
   "cell_type": "code",
   "execution_count": null,
   "metadata": {
    "id": "MRSYgYqciO0P"
   },
   "outputs": [],
   "source": [
    "profile_report.to_widgets()"
   ]
  }
 ],
 "metadata": {
  "colab": {
   "provenance": []
  },
  "kernelspec": {
   "display_name": "Python 3 (ipykernel)",
   "language": "python",
   "name": "python3"
  },
  "language_info": {
   "codemirror_mode": {
    "name": "ipython",
    "version": 3
   },
   "file_extension": ".py",
   "mimetype": "text/x-python",
   "name": "python",
   "nbconvert_exporter": "python",
   "pygments_lexer": "ipython3",
   "version": "3.9.12"
  }
 },
 "nbformat": 4,
 "nbformat_minor": 1
}
