{
 "cells": [
  {
   "cell_type": "markdown",
   "id": "db4ea5ab",
   "metadata": {},
   "source": [
    "In this notebook we will be doing the pre-processing and modeling steps to build a model which would predict whether a patient has pneumonia or not using chest X-ray images. \n",
    "We will be building a convolutional neural network for predicting the patient status. Convolutional neural networks are commonly used for predictions in image based projects. They are used  due to their ability to extract local features,  with the use of kernels in the convolution layers  that are used to convolute the image to create feature maps. Along with convolutional layers there are pooling layers which extract the most important features and reduce the spatial dimensions.  \n",
    "\n",
    "\n",
    "The resnet model was used in the end and I reprocessed the images numpy array so that it was no long grey scaled and was in RGB channel."
   ]
  },
  {
   "cell_type": "markdown",
   "id": "e82aa5bb",
   "metadata": {},
   "source": [
    "Let us load libraries required. We will be using tensor flow's keras API for modeling the convolutional neural network due to its ease of use. "
   ]
  },
  {
   "cell_type": "code",
   "execution_count": 1,
   "id": "31afdc8d",
   "metadata": {},
   "outputs": [],
   "source": [
    "import cv2\n",
    "import os\n",
    "import glob\n",
    "import matplotlib.pyplot as plt\n",
    "import numpy as np\n",
    "import tensorflow as tf\n",
    "from tensorflow.keras import datasets, layers, models\n",
    "from tensorflow.keras.models import Sequential\n",
    "from tensorflow.keras.layers import Conv2D, MaxPooling2D, Flatten, Dense, Dropout\n",
    "from tensorflow.keras.metrics import AUC, Precision, Recall, Accuracy\n",
    "import sklearn.utils\n",
    "from sklearn.model_selection import StratifiedKFold\n",
    "\n"
   ]
  },
  {
   "cell_type": "markdown",
   "id": "80b38ec1",
   "metadata": {},
   "source": [
    "Now we will load the training numpy arrays. We have the normal and pneumonia numpy arrays which we will load separately. We will make the index labels for the pneumonia and normal images. We will follow this by concatenating the numpy arrays and also the index labels for the training numpy arrays"
   ]
  },
  {
   "cell_type": "code",
   "execution_count": 11,
   "id": "033dc27d",
   "metadata": {},
   "outputs": [],
   "source": [
    "Pneumonia_training=np.load(\"/Users/mks9338/Documents/Course/Capstone_three/images_pneumonia_training.npy\")\n",
    "Normal_training=np.load(\"/Users/mks9338/Documents/Course/Capstone_three/images_normal_training.npy\")"
   ]
  },
  {
   "cell_type": "code",
   "execution_count": 16,
   "id": "832b3368",
   "metadata": {},
   "outputs": [
    {
     "name": "stdout",
     "output_type": "stream",
     "text": [
      "(3875, 224, 224)\n",
      "(1341, 224, 224)\n"
     ]
    }
   ],
   "source": [
    "print(Pneumonia_training.shape)\n",
    "print(Normal_training.shape)"
   ]
  },
  {
   "cell_type": "code",
   "execution_count": 12,
   "id": "deabdeb3",
   "metadata": {},
   "outputs": [],
   "source": [
    "pneumonia_label=np.ones(Pneumonia_training.shape[0])\n",
    "normal_label=np.zeros(Normal_training.shape[0])"
   ]
  },
  {
   "cell_type": "code",
   "execution_count": 17,
   "id": "8ba04a92-03a2-4fa5-bcf3-1a174c56d7a3",
   "metadata": {},
   "outputs": [],
   "source": [
    "training=np.vstack((Pneumonia_training,Normal_training))\n",
    "training_labels=np.concatenate((pneumonia_label,normal_label))"
   ]
  },
  {
   "cell_type": "markdown",
   "id": "6521ab3e",
   "metadata": {},
   "source": [
    "Will now normalise the pixels to be between 0 and 1 by dividing by 255"
   ]
  },
  {
   "cell_type": "code",
   "execution_count": 5,
   "id": "c69d746c",
   "metadata": {},
   "outputs": [],
   "source": [
    "training_normalise=training/255"
   ]
  },
  {
   "cell_type": "code",
   "execution_count": 16,
   "id": "22994151",
   "metadata": {},
   "outputs": [
    {
     "data": {
      "text/plain": [
       "(5216, 224, 224)"
      ]
     },
     "execution_count": 16,
     "metadata": {},
     "output_type": "execute_result"
    }
   ],
   "source": [
    "training_normalise.shape"
   ]
  },
  {
   "cell_type": "markdown",
   "id": "2b2eeba4",
   "metadata": {},
   "source": [
    "We will start with training using a simple CNN model and see how training helps.\n",
    "We will start with developing three convolutional layers max pooling each convolutional layer. The layers are then flattened and added to the developed "
   ]
  },
  {
   "cell_type": "code",
   "execution_count": 6,
   "id": "9bc8c64e",
   "metadata": {},
   "outputs": [],
   "source": [
    "training_normalise = np.expand_dims(training_normalise, axis=-1)"
   ]
  },
  {
   "cell_type": "code",
   "execution_count": 20,
   "id": "9fefb2dd",
   "metadata": {},
   "outputs": [
    {
     "data": {
      "text/plain": [
       "(5216, 224, 224, 1)"
      ]
     },
     "execution_count": 20,
     "metadata": {},
     "output_type": "execute_result"
    }
   ],
   "source": [
    "training_normalise.shape"
   ]
  },
  {
   "cell_type": "markdown",
   "id": "a8ba6b06",
   "metadata": {},
   "source": [
    "We started with building a simple CNN framework, where layers were added sequentially and parameters based on suggestions available online. We first built a convolution layer with kernel size of 3x3 with a total of 32 kernels. The activation function used in cnn is the non-linear RELU function, which returns the input value if it is positive and 0 otherwise. This helps it overcome the vanishing gradient problem with other functions during backpropogation. We then followed it up with max-pooling to reduce the number of features wth the pol_size (2,2). The next convolutional layer was built with a 3x3 kernel with a total of 64 kernels, increasing the complexity of the convolutional layer with max pooling. The layers were then flattened and then the nodes from the second convolutional layer passed onto a  dense network with 128 neurons and the RELU activation function. The output was passed onto a single neuron which gave a probability score to classify an image as pneumonia or normal (1,0). Sigmoid function is used so that the output is a probability score.\n",
    "For optimization of weights, biases and learning rate we used the Adam optimizer, which is commonly used in image based cnn networks. Adam optimizer calculates changes based on using a combination of stochastic gradient descent and momentum.We used the binary cross entropy loss function, which is commonly used in classification neural network problems "
   ]
  },
  {
   "cell_type": "code",
   "execution_count": 39,
   "id": "d8281829",
   "metadata": {},
   "outputs": [
    {
     "name": "stdout",
     "output_type": "stream",
     "text": [
      "Epoch 1/10\n",
      "163/163 [==============================] - 64s 386ms/step - loss: 0.2734 - auc_6: 0.9480 - precision_6: 0.9143 - recall_6: 0.9445 - accuracy: 0.0033\n",
      "Epoch 2/10\n",
      "163/163 [==============================] - 64s 392ms/step - loss: 0.0888 - auc_6: 0.9933 - precision_6: 0.9770 - recall_6: 0.9768 - accuracy: 0.0082\n",
      "Epoch 3/10\n",
      "163/163 [==============================] - 66s 406ms/step - loss: 0.0546 - auc_6: 0.9969 - precision_6: 0.9861 - recall_6: 0.9855 - accuracy: 0.0326\n",
      "Epoch 4/10\n",
      "163/163 [==============================] - 65s 400ms/step - loss: 0.0514 - auc_6: 0.9975 - precision_6: 0.9876 - recall_6: 0.9879 - accuracy: 0.0656\n",
      "Epoch 5/10\n",
      "163/163 [==============================] - 64s 396ms/step - loss: 0.0257 - auc_6: 0.9992 - precision_6: 0.9938 - recall_6: 0.9933 - accuracy: 0.1191\n",
      "Epoch 6/10\n",
      "163/163 [==============================] - 68s 420ms/step - loss: 0.0161 - auc_6: 0.9998 - precision_6: 0.9964 - recall_6: 0.9959 - accuracy: 0.2170\n",
      "Epoch 7/10\n",
      "163/163 [==============================] - 72s 442ms/step - loss: 0.0115 - auc_6: 0.9999 - precision_6: 0.9972 - recall_6: 0.9966 - accuracy: 0.2634\n",
      "Epoch 8/10\n",
      "163/163 [==============================] - 76s 468ms/step - loss: 0.0101 - auc_6: 0.9999 - precision_6: 0.9972 - recall_6: 0.9977 - accuracy: 0.2878\n",
      "Epoch 9/10\n",
      "163/163 [==============================] - 77s 474ms/step - loss: 0.0156 - auc_6: 0.9994 - precision_6: 0.9956 - recall_6: 0.9961 - accuracy: 0.3393\n",
      "Epoch 10/10\n",
      "163/163 [==============================] - 83s 508ms/step - loss: 0.0033 - auc_6: 1.0000 - precision_6: 0.9995 - recall_6: 0.9995 - accuracy: 0.3928\n"
     ]
    },
    {
     "data": {
      "text/plain": [
       "<keras.callbacks.History at 0x17e5ea7c0>"
      ]
     },
     "execution_count": 39,
     "metadata": {},
     "output_type": "execute_result"
    }
   ],
   "source": [
    "model = models.Sequential([\n",
    "    layers.Conv2D(32, (3, 3), activation='relu', input_shape=(224, 224, 1)),\n",
    "    layers.MaxPooling2D((2, 2)),\n",
    "    layers.Conv2D(64, (3, 3), activation='relu'),\n",
    "    layers.MaxPooling2D((2, 2)),\n",
    "    layers.Flatten(),\n",
    "    layers.Dense(128, activation='relu'),\n",
    "    layers.Dense(1, activation='sigmoid')  # For binary classification\n",
    "])\n",
    "\n",
    "model.compile(optimizer='adam', loss='binary_crossentropy', metrics=[AUC(),Precision(), Recall(),Accuracy()])\n",
    "\n",
    "# Now you can use `images_reshaped` as the input to the model\n",
    "model.fit(training_normalise, training_labels, epochs=10)"
   ]
  },
  {
   "cell_type": "markdown",
   "id": "41d9e29c",
   "metadata": {},
   "source": [
    "The AUC is perfect , but the accuracy is poor only 39%. In an imbalanced dataset where the number of pneumonia images are muvh higher if the model performs well, you should get a very high accuracy. We need to correct class imbalance and choose another model with more layers because despite imbalance accuracy is very low."
   ]
  },
  {
   "cell_type": "markdown",
   "id": "24a3ec65",
   "metadata": {},
   "source": [
    "We will deal with class balance by adjusting the weights of the class. The under represented minority class will be given more weight so that if it is misclassified. "
   ]
  },
  {
   "cell_type": "markdown",
   "id": "02ebbf64",
   "metadata": {},
   "source": []
  },
  {
   "cell_type": "code",
   "execution_count": 40,
   "id": "6ee9ed5b-166a-4a76-8a29-fa88259722b0",
   "metadata": {},
   "outputs": [
    {
     "name": "stdout",
     "output_type": "stream",
     "text": [
      "{0: 1.9448173005219984, 1: 0.6730322580645162}\n"
     ]
    }
   ],
   "source": [
    "from sklearn.utils import class_weight\n",
    "class_weights_array = class_weight.compute_class_weight('balanced', classes=np.unique(training_labels),y=training_labels)\n",
    "\n",
    "class_weights={i: class_weights_array[i] for i in range(len(class_weights_array))}\n",
    "\n",
    "# Output the class weights\n",
    "print(class_weights)\n"
   ]
  },
  {
   "cell_type": "markdown",
   "id": "0f2dc720",
   "metadata": {},
   "source": [
    "We will fit a model with an additional convolutional layer added and adding the class weights."
   ]
  },
  {
   "cell_type": "code",
   "execution_count": 41,
   "id": "357e7ecd",
   "metadata": {},
   "outputs": [],
   "source": [
    "model1 = models.Sequential([\n",
    "    layers.Conv2D(32, (3, 3), activation='relu', input_shape=(224, 224, 1)),\n",
    "    layers.MaxPooling2D((2, 2)),\n",
    "    layers.Conv2D(64, (3, 3), activation='relu'),\n",
    "    layers.MaxPooling2D((2, 2)),\n",
    "    layers.Conv2D(128, (3, 3), activation='relu'),\n",
    "    layers.MaxPooling2D((2, 2)),\n",
    "    layers.Flatten(),\n",
    "    layers.Dense(128, activation='relu'),\n",
    "    layers.Dense(1, activation='sigmoid')  # For binary classification\n",
    "])\n",
    "\n",
    "model1.compile(optimizer='adam', loss='binary_crossentropy', metrics=[AUC(),Precision(), Recall(),Accuracy()])"
   ]
  },
  {
   "cell_type": "code",
   "execution_count": 46,
   "id": "2fc6124f",
   "metadata": {},
   "outputs": [
    {
     "name": "stdout",
     "output_type": "stream",
     "text": [
      "Epoch 1/20\n",
      "163/163 [==============================] - 81s 493ms/step - loss: 4.2267e-06 - auc_7: 1.0000 - precision_7: 1.0000 - recall_7: 1.0000 - accuracy: 0.6513\n",
      "Epoch 2/20\n",
      "163/163 [==============================] - 83s 510ms/step - loss: 3.0206e-06 - auc_7: 1.0000 - precision_7: 1.0000 - recall_7: 1.0000 - accuracy: 0.6547\n",
      "Epoch 3/20\n",
      "163/163 [==============================] - 82s 506ms/step - loss: 2.2973e-06 - auc_7: 1.0000 - precision_7: 1.0000 - recall_7: 1.0000 - accuracy: 0.6597\n",
      "Epoch 4/20\n",
      "163/163 [==============================] - 82s 501ms/step - loss: 1.9051e-06 - auc_7: 1.0000 - precision_7: 1.0000 - recall_7: 1.0000 - accuracy: 0.6620\n",
      "Epoch 5/20\n",
      "163/163 [==============================] - 78s 479ms/step - loss: 1.5709e-06 - auc_7: 1.0000 - precision_7: 1.0000 - recall_7: 1.0000 - accuracy: 0.6658\n",
      "Epoch 6/20\n",
      "163/163 [==============================] - 77s 474ms/step - loss: 1.2805e-06 - auc_7: 1.0000 - precision_7: 1.0000 - recall_7: 1.0000 - accuracy: 0.6678\n",
      "Epoch 7/20\n",
      "163/163 [==============================] - 78s 476ms/step - loss: 1.1116e-06 - auc_7: 1.0000 - precision_7: 1.0000 - recall_7: 1.0000 - accuracy: 0.6695\n",
      "Epoch 8/20\n",
      "163/163 [==============================] - 79s 485ms/step - loss: 1.0094e-06 - auc_7: 1.0000 - precision_7: 1.0000 - recall_7: 1.0000 - accuracy: 0.6731\n",
      "Epoch 9/20\n",
      "163/163 [==============================] - 77s 475ms/step - loss: 8.3250e-07 - auc_7: 1.0000 - precision_7: 1.0000 - recall_7: 1.0000 - accuracy: 0.6777\n",
      "Epoch 10/20\n",
      "163/163 [==============================] - 78s 479ms/step - loss: 7.5286e-07 - auc_7: 1.0000 - precision_7: 1.0000 - recall_7: 1.0000 - accuracy: 0.6771\n",
      "Epoch 11/20\n",
      "163/163 [==============================] - 80s 489ms/step - loss: 6.8385e-07 - auc_7: 1.0000 - precision_7: 1.0000 - recall_7: 1.0000 - accuracy: 0.6808\n",
      "Epoch 12/20\n",
      "163/163 [==============================] - 78s 478ms/step - loss: 5.8554e-07 - auc_7: 1.0000 - precision_7: 1.0000 - recall_7: 1.0000 - accuracy: 0.6806\n",
      "Epoch 13/20\n",
      "163/163 [==============================] - 79s 483ms/step - loss: 5.3692e-07 - auc_7: 1.0000 - precision_7: 1.0000 - recall_7: 1.0000 - accuracy: 0.6837\n",
      "Epoch 14/20\n",
      "163/163 [==============================] - 78s 481ms/step - loss: 4.7523e-07 - auc_7: 1.0000 - precision_7: 1.0000 - recall_7: 1.0000 - accuracy: 0.6842\n",
      "Epoch 15/20\n",
      "163/163 [==============================] - 78s 481ms/step - loss: 4.3057e-07 - auc_7: 1.0000 - precision_7: 1.0000 - recall_7: 1.0000 - accuracy: 0.6865\n",
      "Epoch 16/20\n",
      "163/163 [==============================] - 78s 481ms/step - loss: 3.8320e-07 - auc_7: 1.0000 - precision_7: 1.0000 - recall_7: 1.0000 - accuracy: 0.6881\n",
      "Epoch 17/20\n",
      "163/163 [==============================] - 79s 482ms/step - loss: 3.5097e-07 - auc_7: 1.0000 - precision_7: 1.0000 - recall_7: 1.0000 - accuracy: 0.6871\n",
      "Epoch 18/20\n",
      "163/163 [==============================] - 79s 483ms/step - loss: 3.0681e-07 - auc_7: 1.0000 - precision_7: 1.0000 - recall_7: 1.0000 - accuracy: 0.6879\n",
      "Epoch 19/20\n",
      "163/163 [==============================] - 79s 482ms/step - loss: 2.8725e-07 - auc_7: 1.0000 - precision_7: 1.0000 - recall_7: 1.0000 - accuracy: 0.6906\n",
      "Epoch 20/20\n",
      "163/163 [==============================] - 81s 495ms/step - loss: 2.5638e-07 - auc_7: 1.0000 - precision_7: 1.0000 - recall_7: 1.0000 - accuracy: 0.6908\n"
     ]
    },
    {
     "data": {
      "text/plain": [
       "<keras.callbacks.History at 0x17ffc9f70>"
      ]
     },
     "execution_count": 46,
     "metadata": {},
     "output_type": "execute_result"
    }
   ],
   "source": [
    "model1.fit(training_normalise, training_labels, epochs=20,class_weight=class_weights)"
   ]
  },
  {
   "cell_type": "markdown",
   "id": "20774a6c",
   "metadata": {},
   "source": [
    "The accuracy increases to 0.70 by just adding one more layer and then also correcting for imbalance by ajusting class weights. However adjusting class weights does not help us with dealing the bias associated with class imbalance related accuracy differences"
   ]
  },
  {
   "cell_type": "markdown",
   "id": "410ad7d4",
   "metadata": {},
   "source": [
    " Rather than correcting imbalance by adjusting class weights, let us try image augmentation in which we increase the number of images for the normal class to balance it with the pneumonia class for class imbalance and use the same model and check accuracy. "
   ]
  },
  {
   "cell_type": "code",
   "execution_count": 9,
   "id": "a81dcd8b",
   "metadata": {},
   "outputs": [
    {
     "data": {
      "text/plain": [
       "2534"
      ]
     },
     "execution_count": 9,
     "metadata": {},
     "output_type": "execute_result"
    }
   ],
   "source": [
    "len(Pneumonia_training)-len(Normal_training)"
   ]
  },
  {
   "cell_type": "code",
   "execution_count": 7,
   "id": "ece4a094-a895-4c95-90f7-47a4ca7e74f4",
   "metadata": {},
   "outputs": [],
   "source": [
    "from tensorflow.keras.preprocessing.image import ImageDataGenerator\n",
    "\n",
    "Normal_training_normalise= np.expand_dims(Normal_training, axis=-1)\n",
    "\n",
    "# Define an ImageDataGenerator for augmentation\n",
    "datagen = ImageDataGenerator(\n",
    "    rotation_range=5,\n",
    "    zoom_range=0.2\n",
    ")\n",
    "\n",
    "# Fit the generator to the minority class images\n",
    "datagen.fit(Normal_training_normalise)\n",
    "\n",
    "# Generate augmented images\n",
    "augmented_images = []\n",
    "augmented_labels = []\n",
    "\n",
    "# Number of augmented images to generate\n",
    "n_augmented = len(Pneumonia_training)-len(Normal_training) # For example, generate 1000 augmented images\n",
    "\n",
    "for i in range(n_augmented):\n",
    "    for img_batch, label_batch in datagen.flow(Normal_training_normalise, normal_label, batch_size=1):\n",
    "        augmented_images.append(img_batch[0])  # add augmented image\n",
    "        augmented_labels.append(label_batch[0])  # add augmented label\n",
    "        if len(augmented_images) >= n_augmented:\n",
    "            break\n",
    "    if len(augmented_images) >= n_augmented:\n",
    "        break\n",
    "\n",
    "augmented_images = np.array(augmented_images)\n",
    "augmented_labels = np.array(augmented_labels)\n"
   ]
  },
  {
   "cell_type": "markdown",
   "id": "6ca1e2c5",
   "metadata": {},
   "source": [
    "Now that we have augmented normal images and augmented normal labels, we can add them to the training dataset. "
   ]
  },
  {
   "cell_type": "code",
   "execution_count": 23,
   "id": "a9cc6abb",
   "metadata": {},
   "outputs": [
    {
     "data": {
      "text/plain": [
       "array([0., 0., 0., ..., 0., 0., 0.])"
      ]
     },
     "execution_count": 23,
     "metadata": {},
     "output_type": "execute_result"
    }
   ],
   "source": [
    "augmented_labels"
   ]
  },
  {
   "cell_type": "code",
   "execution_count": 8,
   "id": "d111b73d-cd31-4a5c-81b1-0f9b29d74252",
   "metadata": {},
   "outputs": [],
   "source": [
    "augmented_images=augmented_images/255\n",
    "training_augmented=np.vstack((training_normalise,augmented_images))\n",
    "training_augmented_labels=np.concatenate((training_labels,augmented_labels))"
   ]
  },
  {
   "cell_type": "markdown",
   "id": "083fee1b",
   "metadata": {},
   "source": [
    "Now let us use the convolutional model again with the augmented images added, we can increase the number of epochs 20"
   ]
  },
  {
   "cell_type": "code",
   "execution_count": 45,
   "id": "06a73441",
   "metadata": {},
   "outputs": [
    {
     "name": "stdout",
     "output_type": "stream",
     "text": [
      "Epoch 1/20\n",
      "243/243 [==============================] - 135s 554ms/step - loss: 0.1079 - auc_7: 0.9924 - precision_7: 0.9622 - recall_7: 0.9590 - accuracy: 0.0021\n",
      "Epoch 2/20\n",
      "243/243 [==============================] - 125s 514ms/step - loss: 0.0554 - auc_7: 0.9978 - precision_7: 0.9786 - recall_7: 0.9778 - accuracy: 0.0175\n",
      "Epoch 3/20\n",
      "243/243 [==============================] - 121s 498ms/step - loss: 0.0349 - auc_7: 0.9992 - precision_7: 0.9891 - recall_7: 0.9868 - accuracy: 0.0514\n",
      "Epoch 4/20\n",
      "243/243 [==============================] - 127s 525ms/step - loss: 0.0157 - auc_7: 0.9999 - precision_7: 0.9953 - recall_7: 0.9941 - accuracy: 0.1418\n",
      "Epoch 5/20\n",
      "243/243 [==============================] - 132s 545ms/step - loss: 0.0129 - auc_7: 0.9999 - precision_7: 0.9954 - recall_7: 0.9951 - accuracy: 0.2498\n",
      "Epoch 6/20\n",
      "243/243 [==============================] - 131s 541ms/step - loss: 0.0134 - auc_7: 0.9998 - precision_7: 0.9956 - recall_7: 0.9959 - accuracy: 0.2105\n",
      "Epoch 7/20\n",
      "243/243 [==============================] - 132s 544ms/step - loss: 0.0018 - auc_7: 1.0000 - precision_7: 0.9997 - recall_7: 0.9997 - accuracy: 0.3175\n",
      "Epoch 8/20\n",
      "243/243 [==============================] - 135s 554ms/step - loss: 3.8729e-04 - auc_7: 1.0000 - precision_7: 1.0000 - recall_7: 1.0000 - accuracy: 0.3555\n",
      "Epoch 9/20\n",
      "243/243 [==============================] - 137s 565ms/step - loss: 1.4128e-04 - auc_7: 1.0000 - precision_7: 1.0000 - recall_7: 1.0000 - accuracy: 0.3750\n",
      "Epoch 10/20\n",
      "243/243 [==============================] - 132s 545ms/step - loss: 8.2045e-05 - auc_7: 1.0000 - precision_7: 1.0000 - recall_7: 1.0000 - accuracy: 0.3885\n",
      "Epoch 11/20\n",
      "243/243 [==============================] - 131s 541ms/step - loss: 5.8044e-05 - auc_7: 1.0000 - precision_7: 1.0000 - recall_7: 1.0000 - accuracy: 0.3968\n",
      "Epoch 12/20\n",
      "243/243 [==============================] - 132s 545ms/step - loss: 4.2661e-05 - auc_7: 1.0000 - precision_7: 1.0000 - recall_7: 1.0000 - accuracy: 0.4031\n",
      "Epoch 13/20\n",
      "243/243 [==============================] - 130s 533ms/step - loss: 3.2896e-05 - auc_7: 1.0000 - precision_7: 1.0000 - recall_7: 1.0000 - accuracy: 0.4083\n",
      "Epoch 14/20\n",
      "243/243 [==============================] - 130s 534ms/step - loss: 2.5618e-05 - auc_7: 1.0000 - precision_7: 1.0000 - recall_7: 1.0000 - accuracy: 0.4123\n",
      "Epoch 15/20\n",
      "243/243 [==============================] - 129s 533ms/step - loss: 1.9852e-05 - auc_7: 1.0000 - precision_7: 1.0000 - recall_7: 1.0000 - accuracy: 0.4173\n",
      "Epoch 16/20\n",
      "243/243 [==============================] - 128s 528ms/step - loss: 1.5696e-05 - auc_7: 1.0000 - precision_7: 1.0000 - recall_7: 1.0000 - accuracy: 0.4212\n",
      "Epoch 17/20\n",
      "243/243 [==============================] - 128s 529ms/step - loss: 1.2629e-05 - auc_7: 1.0000 - precision_7: 1.0000 - recall_7: 1.0000 - accuracy: 0.4249\n",
      "Epoch 18/20\n",
      "243/243 [==============================] - 129s 529ms/step - loss: 1.0161e-05 - auc_7: 1.0000 - precision_7: 1.0000 - recall_7: 1.0000 - accuracy: 0.4276\n",
      "Epoch 19/20\n",
      "243/243 [==============================] - 127s 525ms/step - loss: 8.3573e-06 - auc_7: 1.0000 - precision_7: 1.0000 - recall_7: 1.0000 - accuracy: 0.4308\n",
      "Epoch 20/20\n",
      "243/243 [==============================] - 125s 514ms/step - loss: 6.6959e-06 - auc_7: 1.0000 - precision_7: 1.0000 - recall_7: 1.0000 - accuracy: 0.4333\n"
     ]
    },
    {
     "data": {
      "text/plain": [
       "<keras.callbacks.History at 0x17e5b4820>"
      ]
     },
     "execution_count": 45,
     "metadata": {},
     "output_type": "execute_result"
    }
   ],
   "source": [
    "model1.fit(training_augmented,training_augmented_labels, epochs=20)"
   ]
  },
  {
   "cell_type": "markdown",
   "id": "6ce06f4e",
   "metadata": {},
   "source": [
    "There is a decreased accuracy only acheiving 0.43 by using the image augmentation to improve class imbalance. Accuracy is an accurate metric to consider here as we have balanced classes by having equal number of pneumonia and normal images. We need to add more layers to see if it helps improve accuracy."
   ]
  },
  {
   "cell_type": "code",
   "execution_count": 48,
   "id": "d63de76e",
   "metadata": {},
   "outputs": [],
   "source": [
    "model2 = models.Sequential([\n",
    "    layers.Conv2D(32, (3, 3), activation='relu', input_shape=(224, 224, 1)),\n",
    "    layers.MaxPooling2D((2, 2)),\n",
    "    layers.Conv2D(64, (3, 3), activation='relu'),\n",
    "    layers.MaxPooling2D((2, 2)),\n",
    "    layers.Conv2D(128, (3, 3), activation='relu'),\n",
    "    layers.MaxPooling2D((2, 2)),\n",
    "    layers.Conv2D(256, (3, 3), activation='relu'),\n",
    "    layers.MaxPooling2D((2, 2)),\n",
    "    layers.Flatten(),\n",
    "    layers.Dense(128, activation='relu'),\n",
    "    layers.Dense(1, activation='sigmoid')  # For binary classification\n",
    "])\n",
    "\n",
    "model2.compile(optimizer='adam', loss='binary_crossentropy', metrics=[AUC(),Precision(), Recall(),Accuracy()])"
   ]
  },
  {
   "cell_type": "markdown",
   "id": "4ff850ea",
   "metadata": {},
   "source": [
    "Does not work well."
   ]
  },
  {
   "cell_type": "code",
   "execution_count": 49,
   "id": "be8b4747",
   "metadata": {},
   "outputs": [
    {
     "name": "stdout",
     "output_type": "stream",
     "text": [
      "Epoch 1/20\n",
      "243/243 [==============================] - 151s 618ms/step - loss: 0.2671 - auc_8: 0.9563 - precision_8: 0.8913 - recall_8: 0.8526 - accuracy: 7.7419e-04\n",
      "Epoch 2/20\n",
      "243/243 [==============================] - 136s 559ms/step - loss: 0.1283 - auc_8: 0.9890 - precision_8: 0.9547 - recall_8: 0.9515 - accuracy: 1.2903e-04\n",
      "Epoch 3/20\n",
      "243/243 [==============================] - 137s 566ms/step - loss: 0.0950 - auc_8: 0.9937 - precision_8: 0.9672 - recall_8: 0.9597 - accuracy: 9.0323e-04\n",
      "Epoch 4/20\n",
      "243/243 [==============================] - 135s 557ms/step - loss: 0.0831 - auc_8: 0.9947 - precision_8: 0.9720 - recall_8: 0.9693 - accuracy: 0.0043\n",
      "Epoch 5/20\n",
      "243/243 [==============================] - 135s 554ms/step - loss: 0.0708 - auc_8: 0.9965 - precision_8: 0.9759 - recall_8: 0.9698 - accuracy: 0.0075\n",
      "Epoch 6/20\n",
      "243/243 [==============================] - 135s 555ms/step - loss: 0.0565 - auc_8: 0.9977 - precision_8: 0.9791 - recall_8: 0.9781 - accuracy: 0.0135\n",
      "Epoch 7/20\n",
      "243/243 [==============================] - 135s 555ms/step - loss: 0.0392 - auc_8: 0.9985 - precision_8: 0.9876 - recall_8: 0.9845 - accuracy: 0.0412\n",
      "Epoch 8/20\n",
      "243/243 [==============================] - 137s 563ms/step - loss: 0.0239 - auc_8: 0.9995 - precision_8: 0.9917 - recall_8: 0.9897 - accuracy: 0.1165\n",
      "Epoch 9/20\n",
      "243/243 [==============================] - 137s 563ms/step - loss: 0.0225 - auc_8: 0.9994 - precision_8: 0.9925 - recall_8: 0.9923 - accuracy: 0.1449\n",
      "Epoch 10/20\n",
      "243/243 [==============================] - 136s 558ms/step - loss: 0.0326 - auc_8: 0.9991 - precision_8: 0.9886 - recall_8: 0.9884 - accuracy: 0.1439\n",
      "Epoch 11/20\n",
      "243/243 [==============================] - 136s 560ms/step - loss: 0.0177 - auc_8: 0.9998 - precision_8: 0.9930 - recall_8: 0.9933 - accuracy: 0.1794\n",
      "Epoch 12/20\n",
      "243/243 [==============================] - 136s 561ms/step - loss: 0.0176 - auc_8: 0.9998 - precision_8: 0.9930 - recall_8: 0.9938 - accuracy: 0.2179\n",
      "Epoch 13/20\n",
      "243/243 [==============================] - 139s 572ms/step - loss: 0.0125 - auc_8: 0.9998 - precision_8: 0.9959 - recall_8: 0.9941 - accuracy: 0.2994\n",
      "Epoch 14/20\n",
      "243/243 [==============================] - 137s 565ms/step - loss: 0.0122 - auc_8: 0.9998 - precision_8: 0.9972 - recall_8: 0.9956 - accuracy: 0.2912\n",
      "Epoch 15/20\n",
      "243/243 [==============================] - 138s 567ms/step - loss: 0.0055 - auc_8: 1.0000 - precision_8: 0.9985 - recall_8: 0.9977 - accuracy: 0.3112\n",
      "Epoch 16/20\n",
      "243/243 [==============================] - 139s 570ms/step - loss: 0.0104 - auc_8: 0.9999 - precision_8: 0.9972 - recall_8: 0.9966 - accuracy: 0.3360\n",
      "Epoch 17/20\n",
      "243/243 [==============================] - 138s 567ms/step - loss: 0.0154 - auc_8: 0.9999 - precision_8: 0.9953 - recall_8: 0.9935 - accuracy: 0.3058\n",
      "Epoch 18/20\n",
      "243/243 [==============================] - 143s 587ms/step - loss: 0.0019 - auc_8: 1.0000 - precision_8: 0.9995 - recall_8: 0.9997 - accuracy: 0.3415\n",
      "Epoch 19/20\n",
      "243/243 [==============================] - 135s 557ms/step - loss: 0.0120 - auc_8: 0.9995 - precision_8: 0.9956 - recall_8: 0.9961 - accuracy: 0.3386\n",
      "Epoch 20/20\n",
      "243/243 [==============================] - 135s 554ms/step - loss: 0.0063 - auc_8: 0.9997 - precision_8: 0.9985 - recall_8: 0.9982 - accuracy: 0.3483\n"
     ]
    },
    {
     "data": {
      "text/plain": [
       "<keras.callbacks.History at 0x17e6de880>"
      ]
     },
     "execution_count": 49,
     "metadata": {},
     "output_type": "execute_result"
    }
   ],
   "source": [
    "model2.fit(training_augmented,training_augmented_labels, epochs=20)"
   ]
  },
  {
   "cell_type": "markdown",
   "id": "63242ca4",
   "metadata": {},
   "source": [
    "Does not work actually the accuracy decreases by adding another layer and increasing the number of kernels. Best is to use a pre-trained model sing transfer learning and change its architecture."
   ]
  },
  {
   "cell_type": "markdown",
   "id": "754e6aa7",
   "metadata": {},
   "source": [
    "We will be using the Resnet50 model, which has been previously used for X ray image classifications. Resnet50 stands for Residual Net and the model is a 50 layer deep model. In a residual network model, residual blocks are introduced in which in case layers are skipped if they reduce the performance of the network, which is a problem encountered with deep layer models. \n"
   ]
  },
  {
   "cell_type": "code",
   "execution_count": 3,
   "id": "5445dffa",
   "metadata": {},
   "outputs": [],
   "source": [
    "from keras.applications import ResNet50V2\n",
    "resnet50 = ResNet50V2(weights = \"imagenet\", input_shape = (224,224,3), include_top = False)"
   ]
  },
  {
   "cell_type": "code",
   "execution_count": 11,
   "id": "4a17eec1",
   "metadata": {},
   "outputs": [
    {
     "name": "stdout",
     "output_type": "stream",
     "text": [
      "Model: \"resnet50v2\"\n",
      "__________________________________________________________________________________________________\n",
      " Layer (type)                   Output Shape         Param #     Connected to                     \n",
      "==================================================================================================\n",
      " input_1 (InputLayer)           [(None, 224, 224, 3  0           []                               \n",
      "                                )]                                                                \n",
      "                                                                                                  \n",
      " conv1_pad (ZeroPadding2D)      (None, 230, 230, 3)  0           ['input_1[0][0]']                \n",
      "                                                                                                  \n",
      " conv1_conv (Conv2D)            (None, 112, 112, 64  9472        ['conv1_pad[0][0]']              \n",
      "                                )                                                                 \n",
      "                                                                                                  \n",
      " pool1_pad (ZeroPadding2D)      (None, 114, 114, 64  0           ['conv1_conv[0][0]']             \n",
      "                                )                                                                 \n",
      "                                                                                                  \n",
      " pool1_pool (MaxPooling2D)      (None, 56, 56, 64)   0           ['pool1_pad[0][0]']              \n",
      "                                                                                                  \n",
      " conv2_block1_preact_bn (BatchN  (None, 56, 56, 64)  256         ['pool1_pool[0][0]']             \n",
      " ormalization)                                                                                    \n",
      "                                                                                                  \n",
      " conv2_block1_preact_relu (Acti  (None, 56, 56, 64)  0           ['conv2_block1_preact_bn[0][0]'] \n",
      " vation)                                                                                          \n",
      "                                                                                                  \n",
      " conv2_block1_1_conv (Conv2D)   (None, 56, 56, 64)   4096        ['conv2_block1_preact_relu[0][0]'\n",
      "                                                                 ]                                \n",
      "                                                                                                  \n",
      " conv2_block1_1_bn (BatchNormal  (None, 56, 56, 64)  256         ['conv2_block1_1_conv[0][0]']    \n",
      " ization)                                                                                         \n",
      "                                                                                                  \n",
      " conv2_block1_1_relu (Activatio  (None, 56, 56, 64)  0           ['conv2_block1_1_bn[0][0]']      \n",
      " n)                                                                                               \n",
      "                                                                                                  \n",
      " conv2_block1_2_pad (ZeroPaddin  (None, 58, 58, 64)  0           ['conv2_block1_1_relu[0][0]']    \n",
      " g2D)                                                                                             \n",
      "                                                                                                  \n",
      " conv2_block1_2_conv (Conv2D)   (None, 56, 56, 64)   36864       ['conv2_block1_2_pad[0][0]']     \n",
      "                                                                                                  \n",
      " conv2_block1_2_bn (BatchNormal  (None, 56, 56, 64)  256         ['conv2_block1_2_conv[0][0]']    \n",
      " ization)                                                                                         \n",
      "                                                                                                  \n",
      " conv2_block1_2_relu (Activatio  (None, 56, 56, 64)  0           ['conv2_block1_2_bn[0][0]']      \n",
      " n)                                                                                               \n",
      "                                                                                                  \n",
      " conv2_block1_0_conv (Conv2D)   (None, 56, 56, 256)  16640       ['conv2_block1_preact_relu[0][0]'\n",
      "                                                                 ]                                \n",
      "                                                                                                  \n",
      " conv2_block1_3_conv (Conv2D)   (None, 56, 56, 256)  16640       ['conv2_block1_2_relu[0][0]']    \n",
      "                                                                                                  \n",
      " conv2_block1_out (Add)         (None, 56, 56, 256)  0           ['conv2_block1_0_conv[0][0]',    \n",
      "                                                                  'conv2_block1_3_conv[0][0]']    \n",
      "                                                                                                  \n",
      " conv2_block2_preact_bn (BatchN  (None, 56, 56, 256)  1024       ['conv2_block1_out[0][0]']       \n",
      " ormalization)                                                                                    \n",
      "                                                                                                  \n",
      " conv2_block2_preact_relu (Acti  (None, 56, 56, 256)  0          ['conv2_block2_preact_bn[0][0]'] \n",
      " vation)                                                                                          \n",
      "                                                                                                  \n",
      " conv2_block2_1_conv (Conv2D)   (None, 56, 56, 64)   16384       ['conv2_block2_preact_relu[0][0]'\n",
      "                                                                 ]                                \n",
      "                                                                                                  \n",
      " conv2_block2_1_bn (BatchNormal  (None, 56, 56, 64)  256         ['conv2_block2_1_conv[0][0]']    \n",
      " ization)                                                                                         \n",
      "                                                                                                  \n",
      " conv2_block2_1_relu (Activatio  (None, 56, 56, 64)  0           ['conv2_block2_1_bn[0][0]']      \n",
      " n)                                                                                               \n",
      "                                                                                                  \n",
      " conv2_block2_2_pad (ZeroPaddin  (None, 58, 58, 64)  0           ['conv2_block2_1_relu[0][0]']    \n",
      " g2D)                                                                                             \n",
      "                                                                                                  \n",
      " conv2_block2_2_conv (Conv2D)   (None, 56, 56, 64)   36864       ['conv2_block2_2_pad[0][0]']     \n",
      "                                                                                                  \n",
      " conv2_block2_2_bn (BatchNormal  (None, 56, 56, 64)  256         ['conv2_block2_2_conv[0][0]']    \n",
      " ization)                                                                                         \n",
      "                                                                                                  \n",
      " conv2_block2_2_relu (Activatio  (None, 56, 56, 64)  0           ['conv2_block2_2_bn[0][0]']      \n",
      " n)                                                                                               \n",
      "                                                                                                  \n",
      " conv2_block2_3_conv (Conv2D)   (None, 56, 56, 256)  16640       ['conv2_block2_2_relu[0][0]']    \n",
      "                                                                                                  \n",
      " conv2_block2_out (Add)         (None, 56, 56, 256)  0           ['conv2_block1_out[0][0]',       \n",
      "                                                                  'conv2_block2_3_conv[0][0]']    \n",
      "                                                                                                  \n",
      " conv2_block3_preact_bn (BatchN  (None, 56, 56, 256)  1024       ['conv2_block2_out[0][0]']       \n",
      " ormalization)                                                                                    \n",
      "                                                                                                  \n",
      " conv2_block3_preact_relu (Acti  (None, 56, 56, 256)  0          ['conv2_block3_preact_bn[0][0]'] \n",
      " vation)                                                                                          \n",
      "                                                                                                  \n",
      " conv2_block3_1_conv (Conv2D)   (None, 56, 56, 64)   16384       ['conv2_block3_preact_relu[0][0]'\n",
      "                                                                 ]                                \n",
      "                                                                                                  \n",
      " conv2_block3_1_bn (BatchNormal  (None, 56, 56, 64)  256         ['conv2_block3_1_conv[0][0]']    \n",
      " ization)                                                                                         \n",
      "                                                                                                  \n",
      " conv2_block3_1_relu (Activatio  (None, 56, 56, 64)  0           ['conv2_block3_1_bn[0][0]']      \n",
      " n)                                                                                               \n",
      "                                                                                                  \n",
      " conv2_block3_2_pad (ZeroPaddin  (None, 58, 58, 64)  0           ['conv2_block3_1_relu[0][0]']    \n",
      " g2D)                                                                                             \n",
      "                                                                                                  \n",
      " conv2_block3_2_conv (Conv2D)   (None, 28, 28, 64)   36864       ['conv2_block3_2_pad[0][0]']     \n",
      "                                                                                                  \n",
      " conv2_block3_2_bn (BatchNormal  (None, 28, 28, 64)  256         ['conv2_block3_2_conv[0][0]']    \n",
      " ization)                                                                                         \n",
      "                                                                                                  \n",
      " conv2_block3_2_relu (Activatio  (None, 28, 28, 64)  0           ['conv2_block3_2_bn[0][0]']      \n",
      " n)                                                                                               \n",
      "                                                                                                  \n",
      " max_pooling2d (MaxPooling2D)   (None, 28, 28, 256)  0           ['conv2_block2_out[0][0]']       \n",
      "                                                                                                  \n",
      " conv2_block3_3_conv (Conv2D)   (None, 28, 28, 256)  16640       ['conv2_block3_2_relu[0][0]']    \n",
      "                                                                                                  \n",
      " conv2_block3_out (Add)         (None, 28, 28, 256)  0           ['max_pooling2d[0][0]',          \n",
      "                                                                  'conv2_block3_3_conv[0][0]']    \n",
      "                                                                                                  \n",
      " conv3_block1_preact_bn (BatchN  (None, 28, 28, 256)  1024       ['conv2_block3_out[0][0]']       \n",
      " ormalization)                                                                                    \n",
      "                                                                                                  \n",
      " conv3_block1_preact_relu (Acti  (None, 28, 28, 256)  0          ['conv3_block1_preact_bn[0][0]'] \n",
      " vation)                                                                                          \n",
      "                                                                                                  \n",
      " conv3_block1_1_conv (Conv2D)   (None, 28, 28, 128)  32768       ['conv3_block1_preact_relu[0][0]'\n",
      "                                                                 ]                                \n",
      "                                                                                                  \n",
      " conv3_block1_1_bn (BatchNormal  (None, 28, 28, 128)  512        ['conv3_block1_1_conv[0][0]']    \n",
      " ization)                                                                                         \n",
      "                                                                                                  \n",
      " conv3_block1_1_relu (Activatio  (None, 28, 28, 128)  0          ['conv3_block1_1_bn[0][0]']      \n",
      " n)                                                                                               \n",
      "                                                                                                  \n",
      " conv3_block1_2_pad (ZeroPaddin  (None, 30, 30, 128)  0          ['conv3_block1_1_relu[0][0]']    \n",
      " g2D)                                                                                             \n",
      "                                                                                                  \n",
      " conv3_block1_2_conv (Conv2D)   (None, 28, 28, 128)  147456      ['conv3_block1_2_pad[0][0]']     \n",
      "                                                                                                  \n",
      " conv3_block1_2_bn (BatchNormal  (None, 28, 28, 128)  512        ['conv3_block1_2_conv[0][0]']    \n",
      " ization)                                                                                         \n",
      "                                                                                                  \n",
      " conv3_block1_2_relu (Activatio  (None, 28, 28, 128)  0          ['conv3_block1_2_bn[0][0]']      \n",
      " n)                                                                                               \n",
      "                                                                                                  \n",
      " conv3_block1_0_conv (Conv2D)   (None, 28, 28, 512)  131584      ['conv3_block1_preact_relu[0][0]'\n",
      "                                                                 ]                                \n",
      "                                                                                                  \n",
      " conv3_block1_3_conv (Conv2D)   (None, 28, 28, 512)  66048       ['conv3_block1_2_relu[0][0]']    \n",
      "                                                                                                  \n",
      " conv3_block1_out (Add)         (None, 28, 28, 512)  0           ['conv3_block1_0_conv[0][0]',    \n",
      "                                                                  'conv3_block1_3_conv[0][0]']    \n",
      "                                                                                                  \n",
      " conv3_block2_preact_bn (BatchN  (None, 28, 28, 512)  2048       ['conv3_block1_out[0][0]']       \n",
      " ormalization)                                                                                    \n",
      "                                                                                                  \n",
      " conv3_block2_preact_relu (Acti  (None, 28, 28, 512)  0          ['conv3_block2_preact_bn[0][0]'] \n",
      " vation)                                                                                          \n",
      "                                                                                                  \n",
      " conv3_block2_1_conv (Conv2D)   (None, 28, 28, 128)  65536       ['conv3_block2_preact_relu[0][0]'\n",
      "                                                                 ]                                \n",
      "                                                                                                  \n",
      " conv3_block2_1_bn (BatchNormal  (None, 28, 28, 128)  512        ['conv3_block2_1_conv[0][0]']    \n",
      " ization)                                                                                         \n",
      "                                                                                                  \n",
      " conv3_block2_1_relu (Activatio  (None, 28, 28, 128)  0          ['conv3_block2_1_bn[0][0]']      \n",
      " n)                                                                                               \n",
      "                                                                                                  \n",
      " conv3_block2_2_pad (ZeroPaddin  (None, 30, 30, 128)  0          ['conv3_block2_1_relu[0][0]']    \n",
      " g2D)                                                                                             \n",
      "                                                                                                  \n",
      " conv3_block2_2_conv (Conv2D)   (None, 28, 28, 128)  147456      ['conv3_block2_2_pad[0][0]']     \n",
      "                                                                                                  \n",
      " conv3_block2_2_bn (BatchNormal  (None, 28, 28, 128)  512        ['conv3_block2_2_conv[0][0]']    \n",
      " ization)                                                                                         \n",
      "                                                                                                  \n",
      " conv3_block2_2_relu (Activatio  (None, 28, 28, 128)  0          ['conv3_block2_2_bn[0][0]']      \n",
      " n)                                                                                               \n",
      "                                                                                                  \n",
      " conv3_block2_3_conv (Conv2D)   (None, 28, 28, 512)  66048       ['conv3_block2_2_relu[0][0]']    \n",
      "                                                                                                  \n",
      " conv3_block2_out (Add)         (None, 28, 28, 512)  0           ['conv3_block1_out[0][0]',       \n",
      "                                                                  'conv3_block2_3_conv[0][0]']    \n",
      "                                                                                                  \n",
      " conv3_block3_preact_bn (BatchN  (None, 28, 28, 512)  2048       ['conv3_block2_out[0][0]']       \n",
      " ormalization)                                                                                    \n",
      "                                                                                                  \n",
      " conv3_block3_preact_relu (Acti  (None, 28, 28, 512)  0          ['conv3_block3_preact_bn[0][0]'] \n",
      " vation)                                                                                          \n",
      "                                                                                                  \n",
      " conv3_block3_1_conv (Conv2D)   (None, 28, 28, 128)  65536       ['conv3_block3_preact_relu[0][0]'\n",
      "                                                                 ]                                \n",
      "                                                                                                  \n",
      " conv3_block3_1_bn (BatchNormal  (None, 28, 28, 128)  512        ['conv3_block3_1_conv[0][0]']    \n",
      " ization)                                                                                         \n",
      "                                                                                                  \n",
      " conv3_block3_1_relu (Activatio  (None, 28, 28, 128)  0          ['conv3_block3_1_bn[0][0]']      \n",
      " n)                                                                                               \n",
      "                                                                                                  \n",
      " conv3_block3_2_pad (ZeroPaddin  (None, 30, 30, 128)  0          ['conv3_block3_1_relu[0][0]']    \n",
      " g2D)                                                                                             \n",
      "                                                                                                  \n",
      " conv3_block3_2_conv (Conv2D)   (None, 28, 28, 128)  147456      ['conv3_block3_2_pad[0][0]']     \n",
      "                                                                                                  \n",
      " conv3_block3_2_bn (BatchNormal  (None, 28, 28, 128)  512        ['conv3_block3_2_conv[0][0]']    \n",
      " ization)                                                                                         \n",
      "                                                                                                  \n",
      " conv3_block3_2_relu (Activatio  (None, 28, 28, 128)  0          ['conv3_block3_2_bn[0][0]']      \n",
      " n)                                                                                               \n",
      "                                                                                                  \n",
      " conv3_block3_3_conv (Conv2D)   (None, 28, 28, 512)  66048       ['conv3_block3_2_relu[0][0]']    \n",
      "                                                                                                  \n",
      " conv3_block3_out (Add)         (None, 28, 28, 512)  0           ['conv3_block2_out[0][0]',       \n",
      "                                                                  'conv3_block3_3_conv[0][0]']    \n",
      "                                                                                                  \n",
      " conv3_block4_preact_bn (BatchN  (None, 28, 28, 512)  2048       ['conv3_block3_out[0][0]']       \n",
      " ormalization)                                                                                    \n",
      "                                                                                                  \n",
      " conv3_block4_preact_relu (Acti  (None, 28, 28, 512)  0          ['conv3_block4_preact_bn[0][0]'] \n",
      " vation)                                                                                          \n",
      "                                                                                                  \n",
      " conv3_block4_1_conv (Conv2D)   (None, 28, 28, 128)  65536       ['conv3_block4_preact_relu[0][0]'\n",
      "                                                                 ]                                \n",
      "                                                                                                  \n",
      " conv3_block4_1_bn (BatchNormal  (None, 28, 28, 128)  512        ['conv3_block4_1_conv[0][0]']    \n",
      " ization)                                                                                         \n",
      "                                                                                                  \n",
      " conv3_block4_1_relu (Activatio  (None, 28, 28, 128)  0          ['conv3_block4_1_bn[0][0]']      \n",
      " n)                                                                                               \n",
      "                                                                                                  \n",
      " conv3_block4_2_pad (ZeroPaddin  (None, 30, 30, 128)  0          ['conv3_block4_1_relu[0][0]']    \n",
      " g2D)                                                                                             \n",
      "                                                                                                  \n",
      " conv3_block4_2_conv (Conv2D)   (None, 14, 14, 128)  147456      ['conv3_block4_2_pad[0][0]']     \n",
      "                                                                                                  \n",
      " conv3_block4_2_bn (BatchNormal  (None, 14, 14, 128)  512        ['conv3_block4_2_conv[0][0]']    \n",
      " ization)                                                                                         \n",
      "                                                                                                  \n",
      " conv3_block4_2_relu (Activatio  (None, 14, 14, 128)  0          ['conv3_block4_2_bn[0][0]']      \n",
      " n)                                                                                               \n",
      "                                                                                                  \n",
      " max_pooling2d_1 (MaxPooling2D)  (None, 14, 14, 512)  0          ['conv3_block3_out[0][0]']       \n",
      "                                                                                                  \n",
      " conv3_block4_3_conv (Conv2D)   (None, 14, 14, 512)  66048       ['conv3_block4_2_relu[0][0]']    \n",
      "                                                                                                  \n",
      " conv3_block4_out (Add)         (None, 14, 14, 512)  0           ['max_pooling2d_1[0][0]',        \n",
      "                                                                  'conv3_block4_3_conv[0][0]']    \n",
      "                                                                                                  \n",
      " conv4_block1_preact_bn (BatchN  (None, 14, 14, 512)  2048       ['conv3_block4_out[0][0]']       \n",
      " ormalization)                                                                                    \n",
      "                                                                                                  \n",
      " conv4_block1_preact_relu (Acti  (None, 14, 14, 512)  0          ['conv4_block1_preact_bn[0][0]'] \n",
      " vation)                                                                                          \n",
      "                                                                                                  \n",
      " conv4_block1_1_conv (Conv2D)   (None, 14, 14, 256)  131072      ['conv4_block1_preact_relu[0][0]'\n",
      "                                                                 ]                                \n",
      "                                                                                                  \n",
      " conv4_block1_1_bn (BatchNormal  (None, 14, 14, 256)  1024       ['conv4_block1_1_conv[0][0]']    \n",
      " ization)                                                                                         \n",
      "                                                                                                  \n",
      " conv4_block1_1_relu (Activatio  (None, 14, 14, 256)  0          ['conv4_block1_1_bn[0][0]']      \n",
      " n)                                                                                               \n",
      "                                                                                                  \n",
      " conv4_block1_2_pad (ZeroPaddin  (None, 16, 16, 256)  0          ['conv4_block1_1_relu[0][0]']    \n",
      " g2D)                                                                                             \n",
      "                                                                                                  \n",
      " conv4_block1_2_conv (Conv2D)   (None, 14, 14, 256)  589824      ['conv4_block1_2_pad[0][0]']     \n",
      "                                                                                                  \n",
      " conv4_block1_2_bn (BatchNormal  (None, 14, 14, 256)  1024       ['conv4_block1_2_conv[0][0]']    \n",
      " ization)                                                                                         \n",
      "                                                                                                  \n",
      " conv4_block1_2_relu (Activatio  (None, 14, 14, 256)  0          ['conv4_block1_2_bn[0][0]']      \n",
      " n)                                                                                               \n",
      "                                                                                                  \n",
      " conv4_block1_0_conv (Conv2D)   (None, 14, 14, 1024  525312      ['conv4_block1_preact_relu[0][0]'\n",
      "                                )                                ]                                \n",
      "                                                                                                  \n",
      " conv4_block1_3_conv (Conv2D)   (None, 14, 14, 1024  263168      ['conv4_block1_2_relu[0][0]']    \n",
      "                                )                                                                 \n",
      "                                                                                                  \n",
      " conv4_block1_out (Add)         (None, 14, 14, 1024  0           ['conv4_block1_0_conv[0][0]',    \n",
      "                                )                                 'conv4_block1_3_conv[0][0]']    \n",
      "                                                                                                  \n",
      " conv4_block2_preact_bn (BatchN  (None, 14, 14, 1024  4096       ['conv4_block1_out[0][0]']       \n",
      " ormalization)                  )                                                                 \n",
      "                                                                                                  \n",
      " conv4_block2_preact_relu (Acti  (None, 14, 14, 1024  0          ['conv4_block2_preact_bn[0][0]'] \n",
      " vation)                        )                                                                 \n",
      "                                                                                                  \n",
      " conv4_block2_1_conv (Conv2D)   (None, 14, 14, 256)  262144      ['conv4_block2_preact_relu[0][0]'\n",
      "                                                                 ]                                \n",
      "                                                                                                  \n",
      " conv4_block2_1_bn (BatchNormal  (None, 14, 14, 256)  1024       ['conv4_block2_1_conv[0][0]']    \n",
      " ization)                                                                                         \n",
      "                                                                                                  \n",
      " conv4_block2_1_relu (Activatio  (None, 14, 14, 256)  0          ['conv4_block2_1_bn[0][0]']      \n",
      " n)                                                                                               \n",
      "                                                                                                  \n",
      " conv4_block2_2_pad (ZeroPaddin  (None, 16, 16, 256)  0          ['conv4_block2_1_relu[0][0]']    \n",
      " g2D)                                                                                             \n",
      "                                                                                                  \n",
      " conv4_block2_2_conv (Conv2D)   (None, 14, 14, 256)  589824      ['conv4_block2_2_pad[0][0]']     \n",
      "                                                                                                  \n",
      " conv4_block2_2_bn (BatchNormal  (None, 14, 14, 256)  1024       ['conv4_block2_2_conv[0][0]']    \n",
      " ization)                                                                                         \n",
      "                                                                                                  \n",
      " conv4_block2_2_relu (Activatio  (None, 14, 14, 256)  0          ['conv4_block2_2_bn[0][0]']      \n",
      " n)                                                                                               \n",
      "                                                                                                  \n",
      " conv4_block2_3_conv (Conv2D)   (None, 14, 14, 1024  263168      ['conv4_block2_2_relu[0][0]']    \n",
      "                                )                                                                 \n",
      "                                                                                                  \n",
      " conv4_block2_out (Add)         (None, 14, 14, 1024  0           ['conv4_block1_out[0][0]',       \n",
      "                                )                                 'conv4_block2_3_conv[0][0]']    \n",
      "                                                                                                  \n",
      " conv4_block3_preact_bn (BatchN  (None, 14, 14, 1024  4096       ['conv4_block2_out[0][0]']       \n",
      " ormalization)                  )                                                                 \n",
      "                                                                                                  \n",
      " conv4_block3_preact_relu (Acti  (None, 14, 14, 1024  0          ['conv4_block3_preact_bn[0][0]'] \n",
      " vation)                        )                                                                 \n",
      "                                                                                                  \n",
      " conv4_block3_1_conv (Conv2D)   (None, 14, 14, 256)  262144      ['conv4_block3_preact_relu[0][0]'\n",
      "                                                                 ]                                \n",
      "                                                                                                  \n",
      " conv4_block3_1_bn (BatchNormal  (None, 14, 14, 256)  1024       ['conv4_block3_1_conv[0][0]']    \n",
      " ization)                                                                                         \n",
      "                                                                                                  \n",
      " conv4_block3_1_relu (Activatio  (None, 14, 14, 256)  0          ['conv4_block3_1_bn[0][0]']      \n",
      " n)                                                                                               \n",
      "                                                                                                  \n",
      " conv4_block3_2_pad (ZeroPaddin  (None, 16, 16, 256)  0          ['conv4_block3_1_relu[0][0]']    \n",
      " g2D)                                                                                             \n",
      "                                                                                                  \n",
      " conv4_block3_2_conv (Conv2D)   (None, 14, 14, 256)  589824      ['conv4_block3_2_pad[0][0]']     \n",
      "                                                                                                  \n",
      " conv4_block3_2_bn (BatchNormal  (None, 14, 14, 256)  1024       ['conv4_block3_2_conv[0][0]']    \n",
      " ization)                                                                                         \n",
      "                                                                                                  \n",
      " conv4_block3_2_relu (Activatio  (None, 14, 14, 256)  0          ['conv4_block3_2_bn[0][0]']      \n",
      " n)                                                                                               \n",
      "                                                                                                  \n",
      " conv4_block3_3_conv (Conv2D)   (None, 14, 14, 1024  263168      ['conv4_block3_2_relu[0][0]']    \n",
      "                                )                                                                 \n",
      "                                                                                                  \n",
      " conv4_block3_out (Add)         (None, 14, 14, 1024  0           ['conv4_block2_out[0][0]',       \n",
      "                                )                                 'conv4_block3_3_conv[0][0]']    \n",
      "                                                                                                  \n",
      " conv4_block4_preact_bn (BatchN  (None, 14, 14, 1024  4096       ['conv4_block3_out[0][0]']       \n",
      " ormalization)                  )                                                                 \n",
      "                                                                                                  \n",
      " conv4_block4_preact_relu (Acti  (None, 14, 14, 1024  0          ['conv4_block4_preact_bn[0][0]'] \n",
      " vation)                        )                                                                 \n",
      "                                                                                                  \n",
      " conv4_block4_1_conv (Conv2D)   (None, 14, 14, 256)  262144      ['conv4_block4_preact_relu[0][0]'\n",
      "                                                                 ]                                \n",
      "                                                                                                  \n",
      " conv4_block4_1_bn (BatchNormal  (None, 14, 14, 256)  1024       ['conv4_block4_1_conv[0][0]']    \n",
      " ization)                                                                                         \n",
      "                                                                                                  \n",
      " conv4_block4_1_relu (Activatio  (None, 14, 14, 256)  0          ['conv4_block4_1_bn[0][0]']      \n",
      " n)                                                                                               \n",
      "                                                                                                  \n",
      " conv4_block4_2_pad (ZeroPaddin  (None, 16, 16, 256)  0          ['conv4_block4_1_relu[0][0]']    \n",
      " g2D)                                                                                             \n",
      "                                                                                                  \n",
      " conv4_block4_2_conv (Conv2D)   (None, 14, 14, 256)  589824      ['conv4_block4_2_pad[0][0]']     \n",
      "                                                                                                  \n",
      " conv4_block4_2_bn (BatchNormal  (None, 14, 14, 256)  1024       ['conv4_block4_2_conv[0][0]']    \n",
      " ization)                                                                                         \n",
      "                                                                                                  \n",
      " conv4_block4_2_relu (Activatio  (None, 14, 14, 256)  0          ['conv4_block4_2_bn[0][0]']      \n",
      " n)                                                                                               \n",
      "                                                                                                  \n",
      " conv4_block4_3_conv (Conv2D)   (None, 14, 14, 1024  263168      ['conv4_block4_2_relu[0][0]']    \n",
      "                                )                                                                 \n",
      "                                                                                                  \n",
      " conv4_block4_out (Add)         (None, 14, 14, 1024  0           ['conv4_block3_out[0][0]',       \n",
      "                                )                                 'conv4_block4_3_conv[0][0]']    \n",
      "                                                                                                  \n",
      " conv4_block5_preact_bn (BatchN  (None, 14, 14, 1024  4096       ['conv4_block4_out[0][0]']       \n",
      " ormalization)                  )                                                                 \n",
      "                                                                                                  \n",
      " conv4_block5_preact_relu (Acti  (None, 14, 14, 1024  0          ['conv4_block5_preact_bn[0][0]'] \n",
      " vation)                        )                                                                 \n",
      "                                                                                                  \n",
      " conv4_block5_1_conv (Conv2D)   (None, 14, 14, 256)  262144      ['conv4_block5_preact_relu[0][0]'\n",
      "                                                                 ]                                \n",
      "                                                                                                  \n",
      " conv4_block5_1_bn (BatchNormal  (None, 14, 14, 256)  1024       ['conv4_block5_1_conv[0][0]']    \n",
      " ization)                                                                                         \n",
      "                                                                                                  \n",
      " conv4_block5_1_relu (Activatio  (None, 14, 14, 256)  0          ['conv4_block5_1_bn[0][0]']      \n",
      " n)                                                                                               \n",
      "                                                                                                  \n",
      " conv4_block5_2_pad (ZeroPaddin  (None, 16, 16, 256)  0          ['conv4_block5_1_relu[0][0]']    \n",
      " g2D)                                                                                             \n",
      "                                                                                                  \n",
      " conv4_block5_2_conv (Conv2D)   (None, 14, 14, 256)  589824      ['conv4_block5_2_pad[0][0]']     \n",
      "                                                                                                  \n",
      " conv4_block5_2_bn (BatchNormal  (None, 14, 14, 256)  1024       ['conv4_block5_2_conv[0][0]']    \n",
      " ization)                                                                                         \n",
      "                                                                                                  \n",
      " conv4_block5_2_relu (Activatio  (None, 14, 14, 256)  0          ['conv4_block5_2_bn[0][0]']      \n",
      " n)                                                                                               \n",
      "                                                                                                  \n",
      " conv4_block5_3_conv (Conv2D)   (None, 14, 14, 1024  263168      ['conv4_block5_2_relu[0][0]']    \n",
      "                                )                                                                 \n",
      "                                                                                                  \n",
      " conv4_block5_out (Add)         (None, 14, 14, 1024  0           ['conv4_block4_out[0][0]',       \n",
      "                                )                                 'conv4_block5_3_conv[0][0]']    \n",
      "                                                                                                  \n",
      " conv4_block6_preact_bn (BatchN  (None, 14, 14, 1024  4096       ['conv4_block5_out[0][0]']       \n",
      " ormalization)                  )                                                                 \n",
      "                                                                                                  \n",
      " conv4_block6_preact_relu (Acti  (None, 14, 14, 1024  0          ['conv4_block6_preact_bn[0][0]'] \n",
      " vation)                        )                                                                 \n",
      "                                                                                                  \n",
      " conv4_block6_1_conv (Conv2D)   (None, 14, 14, 256)  262144      ['conv4_block6_preact_relu[0][0]'\n",
      "                                                                 ]                                \n",
      "                                                                                                  \n",
      " conv4_block6_1_bn (BatchNormal  (None, 14, 14, 256)  1024       ['conv4_block6_1_conv[0][0]']    \n",
      " ization)                                                                                         \n",
      "                                                                                                  \n",
      " conv4_block6_1_relu (Activatio  (None, 14, 14, 256)  0          ['conv4_block6_1_bn[0][0]']      \n",
      " n)                                                                                               \n",
      "                                                                                                  \n",
      " conv4_block6_2_pad (ZeroPaddin  (None, 16, 16, 256)  0          ['conv4_block6_1_relu[0][0]']    \n",
      " g2D)                                                                                             \n",
      "                                                                                                  \n",
      " conv4_block6_2_conv (Conv2D)   (None, 7, 7, 256)    589824      ['conv4_block6_2_pad[0][0]']     \n",
      "                                                                                                  \n",
      " conv4_block6_2_bn (BatchNormal  (None, 7, 7, 256)   1024        ['conv4_block6_2_conv[0][0]']    \n",
      " ization)                                                                                         \n",
      "                                                                                                  \n",
      " conv4_block6_2_relu (Activatio  (None, 7, 7, 256)   0           ['conv4_block6_2_bn[0][0]']      \n",
      " n)                                                                                               \n",
      "                                                                                                  \n",
      " max_pooling2d_2 (MaxPooling2D)  (None, 7, 7, 1024)  0           ['conv4_block5_out[0][0]']       \n",
      "                                                                                                  \n",
      " conv4_block6_3_conv (Conv2D)   (None, 7, 7, 1024)   263168      ['conv4_block6_2_relu[0][0]']    \n",
      "                                                                                                  \n",
      " conv4_block6_out (Add)         (None, 7, 7, 1024)   0           ['max_pooling2d_2[0][0]',        \n",
      "                                                                  'conv4_block6_3_conv[0][0]']    \n",
      "                                                                                                  \n",
      " conv5_block1_preact_bn (BatchN  (None, 7, 7, 1024)  4096        ['conv4_block6_out[0][0]']       \n",
      " ormalization)                                                                                    \n",
      "                                                                                                  \n",
      " conv5_block1_preact_relu (Acti  (None, 7, 7, 1024)  0           ['conv5_block1_preact_bn[0][0]'] \n",
      " vation)                                                                                          \n",
      "                                                                                                  \n",
      " conv5_block1_1_conv (Conv2D)   (None, 7, 7, 512)    524288      ['conv5_block1_preact_relu[0][0]'\n",
      "                                                                 ]                                \n",
      "                                                                                                  \n",
      " conv5_block1_1_bn (BatchNormal  (None, 7, 7, 512)   2048        ['conv5_block1_1_conv[0][0]']    \n",
      " ization)                                                                                         \n",
      "                                                                                                  \n",
      " conv5_block1_1_relu (Activatio  (None, 7, 7, 512)   0           ['conv5_block1_1_bn[0][0]']      \n",
      " n)                                                                                               \n",
      "                                                                                                  \n",
      " conv5_block1_2_pad (ZeroPaddin  (None, 9, 9, 512)   0           ['conv5_block1_1_relu[0][0]']    \n",
      " g2D)                                                                                             \n",
      "                                                                                                  \n",
      " conv5_block1_2_conv (Conv2D)   (None, 7, 7, 512)    2359296     ['conv5_block1_2_pad[0][0]']     \n",
      "                                                                                                  \n",
      " conv5_block1_2_bn (BatchNormal  (None, 7, 7, 512)   2048        ['conv5_block1_2_conv[0][0]']    \n",
      " ization)                                                                                         \n",
      "                                                                                                  \n",
      " conv5_block1_2_relu (Activatio  (None, 7, 7, 512)   0           ['conv5_block1_2_bn[0][0]']      \n",
      " n)                                                                                               \n",
      "                                                                                                  \n",
      " conv5_block1_0_conv (Conv2D)   (None, 7, 7, 2048)   2099200     ['conv5_block1_preact_relu[0][0]'\n",
      "                                                                 ]                                \n",
      "                                                                                                  \n",
      " conv5_block1_3_conv (Conv2D)   (None, 7, 7, 2048)   1050624     ['conv5_block1_2_relu[0][0]']    \n",
      "                                                                                                  \n",
      " conv5_block1_out (Add)         (None, 7, 7, 2048)   0           ['conv5_block1_0_conv[0][0]',    \n",
      "                                                                  'conv5_block1_3_conv[0][0]']    \n",
      "                                                                                                  \n",
      " conv5_block2_preact_bn (BatchN  (None, 7, 7, 2048)  8192        ['conv5_block1_out[0][0]']       \n",
      " ormalization)                                                                                    \n",
      "                                                                                                  \n",
      " conv5_block2_preact_relu (Acti  (None, 7, 7, 2048)  0           ['conv5_block2_preact_bn[0][0]'] \n",
      " vation)                                                                                          \n",
      "                                                                                                  \n",
      " conv5_block2_1_conv (Conv2D)   (None, 7, 7, 512)    1048576     ['conv5_block2_preact_relu[0][0]'\n",
      "                                                                 ]                                \n",
      "                                                                                                  \n",
      " conv5_block2_1_bn (BatchNormal  (None, 7, 7, 512)   2048        ['conv5_block2_1_conv[0][0]']    \n",
      " ization)                                                                                         \n",
      "                                                                                                  \n",
      " conv5_block2_1_relu (Activatio  (None, 7, 7, 512)   0           ['conv5_block2_1_bn[0][0]']      \n",
      " n)                                                                                               \n",
      "                                                                                                  \n",
      " conv5_block2_2_pad (ZeroPaddin  (None, 9, 9, 512)   0           ['conv5_block2_1_relu[0][0]']    \n",
      " g2D)                                                                                             \n",
      "                                                                                                  \n",
      " conv5_block2_2_conv (Conv2D)   (None, 7, 7, 512)    2359296     ['conv5_block2_2_pad[0][0]']     \n",
      "                                                                                                  \n",
      " conv5_block2_2_bn (BatchNormal  (None, 7, 7, 512)   2048        ['conv5_block2_2_conv[0][0]']    \n",
      " ization)                                                                                         \n",
      "                                                                                                  \n",
      " conv5_block2_2_relu (Activatio  (None, 7, 7, 512)   0           ['conv5_block2_2_bn[0][0]']      \n",
      " n)                                                                                               \n",
      "                                                                                                  \n",
      " conv5_block2_3_conv (Conv2D)   (None, 7, 7, 2048)   1050624     ['conv5_block2_2_relu[0][0]']    \n",
      "                                                                                                  \n",
      " conv5_block2_out (Add)         (None, 7, 7, 2048)   0           ['conv5_block1_out[0][0]',       \n",
      "                                                                  'conv5_block2_3_conv[0][0]']    \n",
      "                                                                                                  \n",
      " conv5_block3_preact_bn (BatchN  (None, 7, 7, 2048)  8192        ['conv5_block2_out[0][0]']       \n",
      " ormalization)                                                                                    \n",
      "                                                                                                  \n",
      " conv5_block3_preact_relu (Acti  (None, 7, 7, 2048)  0           ['conv5_block3_preact_bn[0][0]'] \n",
      " vation)                                                                                          \n",
      "                                                                                                  \n",
      " conv5_block3_1_conv (Conv2D)   (None, 7, 7, 512)    1048576     ['conv5_block3_preact_relu[0][0]'\n",
      "                                                                 ]                                \n",
      "                                                                                                  \n",
      " conv5_block3_1_bn (BatchNormal  (None, 7, 7, 512)   2048        ['conv5_block3_1_conv[0][0]']    \n",
      " ization)                                                                                         \n",
      "                                                                                                  \n",
      " conv5_block3_1_relu (Activatio  (None, 7, 7, 512)   0           ['conv5_block3_1_bn[0][0]']      \n",
      " n)                                                                                               \n",
      "                                                                                                  \n",
      " conv5_block3_2_pad (ZeroPaddin  (None, 9, 9, 512)   0           ['conv5_block3_1_relu[0][0]']    \n",
      " g2D)                                                                                             \n",
      "                                                                                                  \n",
      " conv5_block3_2_conv (Conv2D)   (None, 7, 7, 512)    2359296     ['conv5_block3_2_pad[0][0]']     \n",
      "                                                                                                  \n",
      " conv5_block3_2_bn (BatchNormal  (None, 7, 7, 512)   2048        ['conv5_block3_2_conv[0][0]']    \n",
      " ization)                                                                                         \n",
      "                                                                                                  \n",
      " conv5_block3_2_relu (Activatio  (None, 7, 7, 512)   0           ['conv5_block3_2_bn[0][0]']      \n",
      " n)                                                                                               \n",
      "                                                                                                  \n",
      " conv5_block3_3_conv (Conv2D)   (None, 7, 7, 2048)   1050624     ['conv5_block3_2_relu[0][0]']    \n",
      "                                                                                                  \n",
      " conv5_block3_out (Add)         (None, 7, 7, 2048)   0           ['conv5_block2_out[0][0]',       \n",
      "                                                                  'conv5_block3_3_conv[0][0]']    \n",
      "                                                                                                  \n",
      " post_bn (BatchNormalization)   (None, 7, 7, 2048)   8192        ['conv5_block3_out[0][0]']       \n",
      "                                                                                                  \n",
      " post_relu (Activation)         (None, 7, 7, 2048)   0           ['post_bn[0][0]']                \n",
      "                                                                                                  \n",
      "==================================================================================================\n",
      "Total params: 23,564,800\n",
      "Trainable params: 23,519,360\n",
      "Non-trainable params: 45,440\n",
      "__________________________________________________________________________________________________\n"
     ]
    }
   ],
   "source": [
    "resnet50.summary()"
   ]
  },
  {
   "cell_type": "markdown",
   "id": "e7c22603",
   "metadata": {},
   "source": [
    "Resnet only works for 3 channel images so I need to reprocess my data to remove grey scaling before using a resnet model"
   ]
  },
  {
   "cell_type": "code",
   "execution_count": 4,
   "id": "8e35c062",
   "metadata": {},
   "outputs": [],
   "source": [
    "training_folder_normal= '/Users/mks9338/Documents/Course/Capstone_three/chest_xray/train/NORMAL/'\n",
    "training_folder_pneumonia= '/Users/mks9338/Documents/Course/Capstone_three/chest_xray/train/PNEUMONIA/'\n",
    "image_paths_normal = glob.glob(training_folder_normal + '*.jpeg')\n",
    "image_paths_pneumonia = glob.glob(training_folder_pneumonia + '*.jpeg')\n",
    "\n",
    "images_normal_training = []\n",
    "\n",
    "for path in image_paths_normal:\n",
    "     image = cv2.imread(path)\n",
    "     img_resize=cv2.resize(image,(224,224))\n",
    "     if img_resize is not None:\n",
    "        images_normal_training.append(img_resize)\n",
    "     else:\n",
    "       print(f\"Failed to load image: {path}\")\n",
    "\n",
    "images_pneumonia_training = []\n",
    "\n",
    "for path in image_paths_pneumonia:\n",
    "     image = cv2.imread(path)\n",
    "     img_resize=cv2.resize(image,(224,224))\n",
    "     if img_resize is not None:\n",
    "        images_pneumonia_training.append(img_resize)\n",
    "     else:\n",
    "       print(f\"Failed to load image: {path}\")\n"
   ]
  },
  {
   "cell_type": "code",
   "execution_count": 5,
   "id": "769ee21f",
   "metadata": {},
   "outputs": [],
   "source": [
    "training_new=np.vstack((images_normal_training,images_pneumonia_training))"
   ]
  },
  {
   "cell_type": "code",
   "execution_count": 6,
   "id": "cf72259a",
   "metadata": {},
   "outputs": [],
   "source": [
    "training_normalise_new=training_new/255"
   ]
  },
  {
   "cell_type": "code",
   "execution_count": 7,
   "id": "4f1152c1",
   "metadata": {},
   "outputs": [
    {
     "data": {
      "text/plain": [
       "(5216, 224, 224, 3)"
      ]
     },
     "execution_count": 7,
     "metadata": {},
     "output_type": "execute_result"
    }
   ],
   "source": [
    "training_normalise_new.shape"
   ]
  },
  {
   "cell_type": "code",
   "execution_count": 18,
   "id": "de9385d1",
   "metadata": {},
   "outputs": [
    {
     "data": {
      "text/plain": [
       "(1341, 224, 224, 3)"
      ]
     },
     "execution_count": 18,
     "metadata": {},
     "output_type": "execute_result"
    }
   ],
   "source": [
    "np.array(images_normal_training).shape"
   ]
  },
  {
   "cell_type": "code",
   "execution_count": 14,
   "id": "7e01feae",
   "metadata": {},
   "outputs": [
    {
     "data": {
      "text/plain": [
       "(1341,)"
      ]
     },
     "execution_count": 14,
     "metadata": {},
     "output_type": "execute_result"
    }
   ],
   "source": [
    "normal_label.shape"
   ]
  },
  {
   "cell_type": "code",
   "execution_count": 15,
   "id": "4a44a851",
   "metadata": {},
   "outputs": [],
   "source": [
    "\n",
    "#normal_label\n",
    "from tensorflow.keras.preprocessing.image import ImageDataGenerator\n",
    "\n",
    "# Define an ImageDataGenerator for augmentation\n",
    "datagen = ImageDataGenerator(\n",
    "    rotation_range=5,\n",
    "    zoom_range=0.2\n",
    ")\n",
    "# Fit the generator to the minority class images\n",
    "datagen.fit(np.array(images_normal_training))\n",
    "\n",
    "# Generate augmented images\n",
    "augmented_images_new = []\n",
    "augmented_labels_new = []\n",
    "n_augmented = len(Pneumonia_training)-len(Normal_training)\n",
    "# Number of augmented images to generate\n",
    "\n",
    "for i in range(n_augmented):\n",
    "    for img_batch, label_batch in datagen.flow(np.array(images_normal_training), normal_label, batch_size=1):\n",
    "        augmented_images_new.append(img_batch[0])  # add augmented image\n",
    "        augmented_labels_new.append(label_batch[0])  # add augmented label\n",
    "        if len(augmented_images_new) >= n_augmented:\n",
    "            break\n",
    "    if len(augmented_images_new) >= n_augmented:\n",
    "        break\n",
    "\n",
    "augmented_images_new = np.array(augmented_images_new)\n",
    "augmented_labels_new = np.array(augmented_labels_new)"
   ]
  },
  {
   "cell_type": "code",
   "execution_count": 18,
   "id": "9706eee6",
   "metadata": {},
   "outputs": [],
   "source": [
    "augmented_images_new=augmented_images_new/255\n",
    "training_augmented_new=np.vstack((training_normalise_new,augmented_images_new))\n",
    "training_augmented_labels_new=np.concatenate((training_labels,augmented_labels_new))"
   ]
  },
  {
   "cell_type": "code",
   "execution_count": 20,
   "id": "27f365d7",
   "metadata": {},
   "outputs": [],
   "source": [
    "# Freeze all layers of ResNet50\n",
    "\n",
    "model3 = Sequential()\n",
    "\n",
    "model3.add(resnet50)\n",
    "\n",
    "for layer in resnet50.layers:\n",
    "    layer.trainable = False\n",
    "    \n",
    "model3.add(Flatten())\n",
    "\n",
    "model3.add(Dense(units = 128, activation = \"relu\"))\n",
    "\n",
    "model3.add(Dense(units = 1, activation = \"sigmoid\"))\n",
    "\n"
   ]
  },
  {
   "cell_type": "code",
   "execution_count": 21,
   "id": "040f8b82",
   "metadata": {},
   "outputs": [],
   "source": [
    "model3.compile(optimizer = \"adam\", loss = \"binary_crossentropy\", metrics = [\"accuracy\"])"
   ]
  },
  {
   "cell_type": "code",
   "execution_count": 23,
   "id": "cd0de7ad",
   "metadata": {},
   "outputs": [
    {
     "name": "stdout",
     "output_type": "stream",
     "text": [
      "Epoch 1/10\n"
     ]
    },
    {
     "name": "stderr",
     "output_type": "stream",
     "text": [
      "2025-01-21 17:19:38.076546: W tensorflow/tsl/platform/profile_utils/cpu_utils.cc:128] Failed to get CPU frequency: 0 Hz\n"
     ]
    },
    {
     "name": "stdout",
     "output_type": "stream",
     "text": [
      "243/243 [==============================] - 204s 834ms/step - loss: 1.0198 - accuracy: 0.7764\n",
      "Epoch 2/10\n",
      "243/243 [==============================] - 203s 834ms/step - loss: 0.2684 - accuracy: 0.8739\n",
      "Epoch 3/10\n",
      "243/243 [==============================] - 196s 805ms/step - loss: 0.1416 - accuracy: 0.9486\n",
      "Epoch 4/10\n",
      "243/243 [==============================] - 196s 806ms/step - loss: 0.0984 - accuracy: 0.9681\n",
      "Epoch 5/10\n",
      "243/243 [==============================] - 199s 817ms/step - loss: 0.0598 - accuracy: 0.9863\n",
      "Epoch 6/10\n",
      "243/243 [==============================] - 199s 819ms/step - loss: 0.0487 - accuracy: 0.9908\n",
      "Epoch 7/10\n",
      "243/243 [==============================] - 200s 822ms/step - loss: 0.0534 - accuracy: 0.9877\n",
      "Epoch 8/10\n",
      "243/243 [==============================] - 202s 830ms/step - loss: 0.0602 - accuracy: 0.9819\n",
      "Epoch 9/10\n",
      "243/243 [==============================] - 203s 833ms/step - loss: 0.0724 - accuracy: 0.9738\n",
      "Epoch 10/10\n",
      "243/243 [==============================] - 202s 830ms/step - loss: 0.0529 - accuracy: 0.9850\n"
     ]
    },
    {
     "data": {
      "text/plain": [
       "<keras.callbacks.History at 0x17c4819d0>"
      ]
     },
     "execution_count": 23,
     "metadata": {},
     "output_type": "execute_result"
    }
   ],
   "source": [
    "model3.fit(training_augmented_new,training_augmented_labels_new, epochs=10)"
   ]
  },
  {
   "cell_type": "markdown",
   "id": "5fefdc5b",
   "metadata": {},
   "source": [
    "Use of the pre-trained model works really well with the use of a resnet 50 model. It acheives an accuracy of 0.9850. Now I need to look at the testing dataset for this. "
   ]
  },
  {
   "cell_type": "markdown",
   "id": "5fd5d5aa",
   "metadata": {},
   "source": [
    "The testing data set also needs to be converted to an RGB channel frequency again so that it can be used to predict the training datset\\"
   ]
  },
  {
   "cell_type": "code",
   "execution_count": 24,
   "id": "b9922eac",
   "metadata": {},
   "outputs": [
    {
     "name": "stdout",
     "output_type": "stream",
     "text": [
      "Number of testing images which are normal 234\n",
      "Number of testing images which are pneumonia 390\n"
     ]
    }
   ],
   "source": [
    "testing_folder_normal= '/Users/mks9338/Documents/Course/Capstone_three/chest_xray/test/NORMAL/'\n",
    "testing_folder_pneumonia= '/Users/mks9338/Documents/Course/Capstone_three/chest_xray/test/PNEUMONIA/'\n",
    "image_paths_normal_test = glob.glob(testing_folder_normal + '*.jpeg')\n",
    "image_paths_pneumonia_test = glob.glob(testing_folder_pneumonia + '*.jpeg')\n",
    "print(\"Number of testing images which are normal\", len(image_paths_normal_test))\n",
    "print(\"Number of testing images which are pneumonia\", len(image_paths_pneumonia_test))"
   ]
  },
  {
   "cell_type": "code",
   "execution_count": 25,
   "id": "0a6bdf0d",
   "metadata": {},
   "outputs": [],
   "source": [
    "images_normal_testing = []\n",
    "\n",
    "for path in image_paths_normal_test :\n",
    "     image = cv2.imread(path)\n",
    "     img_resize=cv2.resize(image,(224,224))\n",
    "     if img_resize is not None:\n",
    "        images_normal_testing.append(img_resize)\n",
    "     else:\n",
    "       print(f\"Failed to load image: {path}\")\n",
    "\n",
    "images_pneumonia_testing = []\n",
    "\n",
    "for path in image_paths_pneumonia_test:\n",
    "     image = cv2.imread(path)\n",
    "     img_resize=cv2.resize(image,(224,224))\n",
    "     if img_resize is not None:\n",
    "        images_pneumonia_testing.append(img_resize)\n",
    "     else:\n",
    "       print(f\"Failed to load image: {path}\")"
   ]
  },
  {
   "cell_type": "code",
   "execution_count": 26,
   "id": "0275a7f3",
   "metadata": {},
   "outputs": [],
   "source": [
    "validation_folder_normal= '/Users/mks9338/Documents/Course/Capstone_three/chest_xray/val/NORMAL/'\n",
    "validation_folder_pneumonia= '/Users/mks9338/Documents/Course/Capstone_three/chest_xray/val/PNEUMONIA/'\n",
    "image_paths_normal_validation = glob.glob(validation_folder_normal + '*.jpeg')\n",
    "image_paths_pneumonia_validation = glob.glob(validation_folder_pneumonia + '*.jpeg')\n"
   ]
  },
  {
   "cell_type": "code",
   "execution_count": 28,
   "id": "ffb2128f",
   "metadata": {},
   "outputs": [],
   "source": [
    "images_normal_validation = []\n",
    "\n",
    "for path in image_paths_normal_validation :\n",
    "     image = cv2.imread(path)\n",
    "     img_resize=cv2.resize(image,(224,224))\n",
    "     if img_resize is not None:\n",
    "        images_normal_validation.append(img_resize)\n",
    "     else:\n",
    "       print(f\"Failed to load image: {path}\")\n",
    "\n",
    "images_pneumonia_validation = []\n",
    "\n",
    "for path in image_paths_pneumonia_validation:\n",
    "     image = cv2.imread(path)\n",
    "     img_resize=cv2.resize(image,(224,224))\n",
    "     if img_resize is not None:\n",
    "        images_pneumonia_validation.append(img_resize)\n",
    "     else:\n",
    "       print(f\"Failed to load image: {path}\")"
   ]
  },
  {
   "cell_type": "code",
   "execution_count": 29,
   "id": "eaa5b270",
   "metadata": {},
   "outputs": [],
   "source": [
    "combined_testing_normal_image = np.concatenate((images_normal_testing,images_normal_validation),axis=0)\n",
    "combined_testing_pneumonia_image = np.concatenate((images_pneumonia_testing,images_pneumonia_validation),axis=0)"
   ]
  },
  {
   "cell_type": "code",
   "execution_count": 34,
   "id": "4655625b",
   "metadata": {},
   "outputs": [],
   "source": [
    "pneumonia_label_test=np.ones(combined_testing_normal_image.shape[0])\n",
    "normal_label_test=np.zeros(combined_testing_pneumonia_image.shape[0])"
   ]
  },
  {
   "cell_type": "code",
   "execution_count": 35,
   "id": "69204b78",
   "metadata": {},
   "outputs": [],
   "source": [
    "validation_final=np.vstack((combined_testing_pneumonia_image,combined_testing_normal_image))\n",
    "validation_labels=np.concatenate((pneumonia_label_test,normal_label_test))"
   ]
  },
  {
   "cell_type": "code",
   "execution_count": 36,
   "id": "ccd2bb08",
   "metadata": {},
   "outputs": [],
   "source": [
    "validation_final_normalise=validation_final/255"
   ]
  },
  {
   "cell_type": "code",
   "execution_count": 38,
   "id": "73bce0c7",
   "metadata": {},
   "outputs": [
    {
     "name": "stdout",
     "output_type": "stream",
     "text": [
      "20/20 [==============================] - 16s 765ms/step - loss: 4.0346 - accuracy: 0.3688\n",
      "Validation Loss: 4.034557819366455\n",
      "Validation Accuracy: 0.3687500059604645\n"
     ]
    }
   ],
   "source": [
    "val_loss, val_accuracy = model3.evaluate(validation_final_normalise,validation_labels)\n",
    "print(f'Validation Loss: {val_loss}')\n",
    "print(f'Validation Accuracy: {val_accuracy}')"
   ]
  }
 ],
 "metadata": {
  "kernelspec": {
   "display_name": "Python [conda env:tensor]",
   "language": "python",
   "name": "conda-env-tensor-py"
  },
  "language_info": {
   "codemirror_mode": {
    "name": "ipython",
    "version": 3
   },
   "file_extension": ".py",
   "mimetype": "text/x-python",
   "name": "python",
   "nbconvert_exporter": "python",
   "pygments_lexer": "ipython3",
   "version": "3.9.16"
  }
 },
 "nbformat": 4,
 "nbformat_minor": 5
}
