{
 "cells": [
  {
   "cell_type": "markdown",
   "id": "e268675c",
   "metadata": {},
   "source": [
    "# Modeling "
   ]
  },
  {
   "cell_type": "markdown",
   "id": "a861268a",
   "metadata": {},
   "source": [
    "In this notebook, we will be predicting the different UPDRS scores for the patients at each time point. We will be using the chosen protein and peptide abundances for the predictions. We will be using two different models light gbm and SVM, and testing which one works best and gives the most optimal results. The reason that we chose light gbm rather than traditional gradient boosting models or random forest is its faster training time and higher accuracy. "
   ]
  },
  {
   "cell_type": "markdown",
   "id": "4b5b53ba",
   "metadata": {},
   "source": [
    "Load the libraries "
   ]
  },
  {
   "cell_type": "code",
   "execution_count": 1,
   "id": "75a0a4a7",
   "metadata": {},
   "outputs": [],
   "source": [
    "import warnings\n",
    "warnings.filterwarnings('ignore')\n",
    "import numpy as np\n",
    "from numpy import arange\n",
    "import pandas as pd\n",
    "import lightgbm\n",
    "from lightgbm import LGBMClassifier\n",
    "from bayes_opt import BayesianOptimization\n",
    "from sklearn.preprocessing import StandardScaler\n",
    "from sklearn.compose import ColumnTransformer\n",
    "from sklearn.preprocessing import OneHotEncoder\n",
    "from sklearn.model_selection import GridSearchCV, RepeatedKFold\n",
    "from sklearn.svm import SVC\n"
   ]
  },
  {
   "cell_type": "markdown",
   "id": "a5d22da8",
   "metadata": {},
   "source": [
    "Load the training and test datasets "
   ]
  },
  {
   "cell_type": "code",
   "execution_count": 2,
   "id": "c3fb9314",
   "metadata": {},
   "outputs": [],
   "source": [
    "X_train=pd.read_csv(\"X_train.csv\",index_col=0)\n",
    "y_train=pd.read_csv('y_train.csv',index_col=0)\n",
    "X_test=pd.read_csv(\"X_test.csv\")\n",
    "y_test=pd.read_csv('y_test.csv')\n"
   ]
  },
  {
   "cell_type": "markdown",
   "id": "6d054b6e",
   "metadata": {},
   "source": [
    "Load the selected protein and peptide abundances which are important for each of the UPDRS scores based on the boruta algorithm."
   ]
  },
  {
   "cell_type": "code",
   "execution_count": 3,
   "id": "1708f94a",
   "metadata": {
    "scrolled": true
   },
   "outputs": [],
   "source": [
    "features_UPDRS1=pd.read_csv(\"features_UPDRS1\",header=None)\n",
    "features_UPDRS2=pd.read_csv(\"features_UPDRS2\",header=None)\n",
    "features_UPDRS3=pd.read_csv(\"features_UPDRS3\",header=None)\n",
    "features_UPDRS4=pd.read_csv(\"features_UPDRS4\",header=None)"
   ]
  },
  {
   "cell_type": "markdown",
   "id": "af86aacd",
   "metadata": {},
   "source": [
    "**We will be modelling each of the developed UPDRS scores seperately with a light gbm model and doing hyper parameter tuning to get the parameters with the best cross validation. We will be using bayesian optimization for hyperparameter tuning when using lightgbm  using five fold cross validation."
   ]
  },
  {
   "cell_type": "markdown",
   "id": "91c28209",
   "metadata": {},
   "source": [
    "**We will first be selecting the UPDRS 1 features only for X_train and then predicting the UPDRS 1 scores"
   ]
  },
  {
   "cell_type": "code",
   "execution_count": 4,
   "id": "59ff47ba",
   "metadata": {},
   "outputs": [],
   "source": [
    "X_train_UPDRS1=X_train[features_UPDRS1.iloc[:,0].tolist()]"
   ]
  },
  {
   "cell_type": "code",
   "execution_count": 5,
   "id": "cecf6f52",
   "metadata": {},
   "outputs": [],
   "source": [
    "scaler = StandardScaler()\n",
    "X_tr_scaled_UPDRS1 = scaler.fit_transform(X_train_UPDRS1)"
   ]
  },
  {
   "cell_type": "code",
   "execution_count": 6,
   "id": "8af82a5a",
   "metadata": {},
   "outputs": [],
   "source": [
    "def lgb_eval(num_leaves,max_depth,lambda_l2,lambda_l1,min_child_samples, min_data_in_leaf):\n",
    "    params = {\n",
    "        \"objective\" : \"regression\",\n",
    "        \"metric\" : \"RMSE\",\n",
    "        'is_unbalance': True,\n",
    "        \"num_leaves\" : int(num_leaves),\n",
    "        \"max_depth\" : int(max_depth),\n",
    "        \"lambda_l2\" : lambda_l2,\n",
    "        \"lambda_l1\" : lambda_l1,\n",
    "        \"num_threads\" : 20,\n",
    "        \"min_child_samples\" : int(min_child_samples),\n",
    "        'min_data_in_leaf': int(min_data_in_leaf),\n",
    "        \"learning_rate\" : 0.03,\n",
    "        \"subsample_freq\" : 5,\n",
    "        \"verbosity\" : -1\n",
    "    }\n",
    "    lgtrain = lightgbm.Dataset(X_tr_scaled_UPDRS1, y_train.updrs_1)\n",
    "    cv_result = lightgbm.cv(params,\n",
    "                       lgtrain,\n",
    "                        num_boost_round=100,\n",
    "                       stratified=False,\n",
    "    callbacks=[\n",
    "      lightgbm.early_stopping(stopping_rounds=1000),\n",
    "    ], nfold=3)\n",
    "    return cv_result['valid rmse-mean'][-1]"
   ]
  },
  {
   "cell_type": "markdown",
   "id": "6bd7c9f3",
   "metadata": {},
   "source": [
    "Apply the Bayesian optimizer to the function we created in the previous step to identify the best hyperparameters. We will run 10 iterations and set init_points = 2."
   ]
  },
  {
   "cell_type": "code",
   "execution_count": 7,
   "id": "c90dbdae",
   "metadata": {},
   "outputs": [
    {
     "name": "stdout",
     "output_type": "stream",
     "text": [
      "|   iter    |  target   | lambda_l1 | lambda_l2 | max_depth | min_ch... | min_da... | num_le... |\n",
      "-------------------------------------------------------------------------------------------------\n",
      "Training until validation scores don't improve for 1000 rounds\n",
      "Did not meet early stopping. Best iteration is:\n",
      "[1]\tcv_agg's valid rmse: 5.32832 + 0.0533255\n",
      "| \u001b[0m1        \u001b[0m | \u001b[0m5.328    \u001b[0m | \u001b[0m0.03547  \u001b[0m | \u001b[0m0.0148   \u001b[0m | \u001b[0m12.41    \u001b[0m | \u001b[0m1.285e+03\u001b[0m | \u001b[0m1.85e+03 \u001b[0m | \u001b[0m3.875e+03\u001b[0m |\n",
      "Training until validation scores don't improve for 1000 rounds\n",
      "Did not meet early stopping. Best iteration is:\n",
      "[1]\tcv_agg's valid rmse: 5.32832 + 0.0533255\n",
      "| \u001b[0m2        \u001b[0m | \u001b[0m5.328    \u001b[0m | \u001b[0m0.01732  \u001b[0m | \u001b[0m0.02653  \u001b[0m | \u001b[0m62.94    \u001b[0m | \u001b[0m2.767e+03\u001b[0m | \u001b[0m1.541e+03\u001b[0m | \u001b[0m172.6    \u001b[0m |\n",
      "Training until validation scores don't improve for 1000 rounds\n",
      "Did not meet early stopping. Best iteration is:\n",
      "[1]\tcv_agg's valid rmse: 5.32832 + 0.0533255\n",
      "| \u001b[0m3        \u001b[0m | \u001b[0m5.328    \u001b[0m | \u001b[0m0.04962  \u001b[0m | \u001b[0m0.01423  \u001b[0m | \u001b[0m59.53    \u001b[0m | \u001b[0m9.981e+03\u001b[0m | \u001b[0m360.6    \u001b[0m | \u001b[0m3.879e+03\u001b[0m |\n",
      "Training until validation scores don't improve for 1000 rounds\n",
      "Did not meet early stopping. Best iteration is:\n",
      "[79]\tcv_agg's valid rmse: 5.12315 + 0.0277502\n",
      "| \u001b[0m4        \u001b[0m | \u001b[0m5.123    \u001b[0m | \u001b[0m0.04009  \u001b[0m | \u001b[0m0.02018  \u001b[0m | \u001b[0m57.19    \u001b[0m | \u001b[0m69.83    \u001b[0m | \u001b[0m119.5    \u001b[0m | \u001b[0m1.949e+03\u001b[0m |\n",
      "Training until validation scores don't improve for 1000 rounds\n",
      "Did not meet early stopping. Best iteration is:\n",
      "[1]\tcv_agg's valid rmse: 5.32832 + 0.0533255\n",
      "| \u001b[0m5        \u001b[0m | \u001b[0m5.328    \u001b[0m | \u001b[0m0.03243  \u001b[0m | \u001b[0m0.02006  \u001b[0m | \u001b[0m45.27    \u001b[0m | \u001b[0m2.934e+03\u001b[0m | \u001b[0m1.097e+03\u001b[0m | \u001b[0m3.949e+03\u001b[0m |\n",
      "Training until validation scores don't improve for 1000 rounds\n",
      "Did not meet early stopping. Best iteration is:\n",
      "[1]\tcv_agg's valid rmse: 5.32832 + 0.0533255\n",
      "| \u001b[0m6        \u001b[0m | \u001b[0m5.328    \u001b[0m | \u001b[0m0.03158  \u001b[0m | \u001b[0m0.03145  \u001b[0m | \u001b[0m55.66    \u001b[0m | \u001b[0m7.98e+03 \u001b[0m | \u001b[0m606.3    \u001b[0m | \u001b[0m2.853e+03\u001b[0m |\n",
      "Training until validation scores don't improve for 1000 rounds\n",
      "Did not meet early stopping. Best iteration is:\n",
      "[1]\tcv_agg's valid rmse: 5.32832 + 0.0533255\n",
      "| \u001b[0m7        \u001b[0m | \u001b[0m5.328    \u001b[0m | \u001b[0m0.03595  \u001b[0m | \u001b[0m0.03045  \u001b[0m | \u001b[0m45.15    \u001b[0m | \u001b[0m9.578e+03\u001b[0m | \u001b[0m1.257e+03\u001b[0m | \u001b[0m2.375e+03\u001b[0m |\n",
      "Training until validation scores don't improve for 1000 rounds\n",
      "Did not meet early stopping. Best iteration is:\n",
      "[1]\tcv_agg's valid rmse: 5.32832 + 0.0533255\n",
      "| \u001b[0m8        \u001b[0m | \u001b[0m5.328    \u001b[0m | \u001b[0m0.04094  \u001b[0m | \u001b[0m0.04462  \u001b[0m | \u001b[0m44.79    \u001b[0m | \u001b[0m670.9    \u001b[0m | \u001b[0m613.1    \u001b[0m | \u001b[0m1.824e+03\u001b[0m |\n",
      "Training until validation scores don't improve for 1000 rounds\n",
      "Did not meet early stopping. Best iteration is:\n",
      "[1]\tcv_agg's valid rmse: 5.32832 + 0.0533255\n",
      "| \u001b[0m9        \u001b[0m | \u001b[0m5.328    \u001b[0m | \u001b[0m0.0234   \u001b[0m | \u001b[0m0.003195 \u001b[0m | \u001b[0m39.83    \u001b[0m | \u001b[0m1.559e+03\u001b[0m | \u001b[0m1.602e+03\u001b[0m | \u001b[0m1.127e+03\u001b[0m |\n",
      "Training until validation scores don't improve for 1000 rounds\n",
      "Did not meet early stopping. Best iteration is:\n",
      "[1]\tcv_agg's valid rmse: 5.32832 + 0.0533255\n",
      "| \u001b[0m10       \u001b[0m | \u001b[0m5.328    \u001b[0m | \u001b[0m0.01502  \u001b[0m | \u001b[0m0.02447  \u001b[0m | \u001b[0m49.57    \u001b[0m | \u001b[0m8.773e+03\u001b[0m | \u001b[0m842.5    \u001b[0m | \u001b[0m374.2    \u001b[0m |\n",
      "Training until validation scores don't improve for 1000 rounds\n",
      "Did not meet early stopping. Best iteration is:\n",
      "[1]\tcv_agg's valid rmse: 5.32832 + 0.0533255\n",
      "| \u001b[0m11       \u001b[0m | \u001b[0m5.328    \u001b[0m | \u001b[0m0.04712  \u001b[0m | \u001b[0m0.01972  \u001b[0m | \u001b[0m31.0     \u001b[0m | \u001b[0m4.024e+03\u001b[0m | \u001b[0m1.408e+03\u001b[0m | \u001b[0m3.825e+03\u001b[0m |\n",
      "Training until validation scores don't improve for 1000 rounds\n",
      "Did not meet early stopping. Best iteration is:\n",
      "[1]\tcv_agg's valid rmse: 5.32832 + 0.0533255\n",
      "| \u001b[0m12       \u001b[0m | \u001b[0m5.328    \u001b[0m | \u001b[0m0.04091  \u001b[0m | \u001b[0m0.006861 \u001b[0m | \u001b[0m35.68    \u001b[0m | \u001b[0m3.463e+03\u001b[0m | \u001b[0m1.578e+03\u001b[0m | \u001b[0m3.812e+03\u001b[0m |\n",
      "=================================================================================================\n"
     ]
    }
   ],
   "source": [
    "lgbBO = BayesianOptimization(lgb_eval,{'num_leaves': (25, 4000),\n",
    "                                                'max_depth': (5, 63),\n",
    "                                                'lambda_l2': (0.0, 0.05),\n",
    "                                                'lambda_l1': (0.0, 0.05),\n",
    "                                                'min_child_samples': (50, 10000),\n",
    "                                                'min_data_in_leaf': (100, 2000)\n",
    "                                                })\n",
    "\n",
    "lgbBO.maximize(n_iter=10, init_points=2)"
   ]
  },
  {
   "cell_type": "markdown",
   "id": "e7117c25",
   "metadata": {},
   "source": [
    "We would like to see the best parameters and the mean RMSE for the training dataset prediction of UPDRS_1"
   ]
  },
  {
   "cell_type": "code",
   "execution_count": 9,
   "id": "9da5c01b",
   "metadata": {},
   "outputs": [
    {
     "data": {
      "text/plain": [
       "{'target': 5.32832278411098,\n",
       " 'params': {'lambda_l1': 0.03546828075193804,\n",
       "  'lambda_l2': 0.0148034797957523,\n",
       "  'max_depth': 12.405488064426054,\n",
       "  'min_child_samples': 1284.883105835797,\n",
       "  'min_data_in_leaf': 1850.1081453022489,\n",
       "  'num_leaves': 3874.8351282247586}}"
      ]
     },
     "execution_count": 9,
     "metadata": {},
     "output_type": "execute_result"
    }
   ],
   "source": [
    "lgbBO.max"
   ]
  },
  {
   "cell_type": "markdown",
   "id": "a91f1ec1",
   "metadata": {},
   "source": [
    "After cross validation the RMSE  5.32. We can see if adding the minimum visit month difference and visit_month can improve the RMSE.\n"
   ]
  },
  {
   "cell_type": "markdown",
   "id": "19426dbc",
   "metadata": {},
   "source": [
    "We have to convert the visit_month_difference NA which is for the visit month 0, which should be converted to 0 before using it as a feature\n"
   ]
  },
  {
   "cell_type": "code",
   "execution_count": 12,
   "id": "1a83e4b1",
   "metadata": {},
   "outputs": [],
   "source": [
    "X_train[\"visit_month_diff_min\"] = X_train[\"visit_month_diff_min\"].fillna(0)"
   ]
  },
  {
   "cell_type": "code",
   "execution_count": 13,
   "id": "332b1506",
   "metadata": {},
   "outputs": [
    {
     "name": "stdout",
     "output_type": "stream",
     "text": [
      "|   iter    |  target   | lambda_l1 | lambda_l2 | max_depth | min_ch... | min_da... | num_le... |\n",
      "-------------------------------------------------------------------------------------------------\n",
      "Training until validation scores don't improve for 1000 rounds\n",
      "Did not meet early stopping. Best iteration is:\n",
      "[1]\tcv_agg's valid rmse: 5.32832 + 0.0533255\n",
      "| \u001b[0m1        \u001b[0m | \u001b[0m5.328    \u001b[0m | \u001b[0m0.007227 \u001b[0m | \u001b[0m0.03252  \u001b[0m | \u001b[0m7.724    \u001b[0m | \u001b[0m4.666e+03\u001b[0m | \u001b[0m1.08e+03 \u001b[0m | \u001b[0m1.822e+03\u001b[0m |\n",
      "Training until validation scores don't improve for 1000 rounds\n",
      "Did not meet early stopping. Best iteration is:\n",
      "[99]\tcv_agg's valid rmse: 5.06122 + 0.0238773\n",
      "| \u001b[0m2        \u001b[0m | \u001b[0m5.061    \u001b[0m | \u001b[0m0.01674  \u001b[0m | \u001b[0m0.02403  \u001b[0m | \u001b[0m53.81    \u001b[0m | \u001b[0m2.239e+03\u001b[0m | \u001b[0m181.8    \u001b[0m | \u001b[0m664.1    \u001b[0m |\n",
      "Training until validation scores don't improve for 1000 rounds\n",
      "Did not meet early stopping. Best iteration is:\n",
      "[100]\tcv_agg's valid rmse: 5.12496 + 0.00576576\n",
      "| \u001b[0m3        \u001b[0m | \u001b[0m5.125    \u001b[0m | \u001b[0m0.01183  \u001b[0m | \u001b[0m0.02011  \u001b[0m | \u001b[0m43.71    \u001b[0m | \u001b[0m6.518e+03\u001b[0m | \u001b[0m263.4    \u001b[0m | \u001b[0m2.724e+03\u001b[0m |\n",
      "Training until validation scores don't improve for 1000 rounds\n",
      "Did not meet early stopping. Best iteration is:\n",
      "[1]\tcv_agg's valid rmse: 5.32832 + 0.0533255\n",
      "| \u001b[0m4        \u001b[0m | \u001b[0m5.328    \u001b[0m | \u001b[0m0.02909  \u001b[0m | \u001b[0m0.02482  \u001b[0m | \u001b[0m22.38    \u001b[0m | \u001b[0m3.381e+03\u001b[0m | \u001b[0m714.2    \u001b[0m | \u001b[0m1.282e+03\u001b[0m |\n",
      "Training until validation scores don't improve for 1000 rounds\n",
      "Did not meet early stopping. Best iteration is:\n",
      "[1]\tcv_agg's valid rmse: 5.32832 + 0.0533255\n",
      "| \u001b[0m5        \u001b[0m | \u001b[0m5.328    \u001b[0m | \u001b[0m0.008726 \u001b[0m | \u001b[0m0.02698  \u001b[0m | \u001b[0m46.26    \u001b[0m | \u001b[0m201.9    \u001b[0m | \u001b[0m1.426e+03\u001b[0m | \u001b[0m3.382e+03\u001b[0m |\n",
      "Training until validation scores don't improve for 1000 rounds\n",
      "Did not meet early stopping. Best iteration is:\n",
      "[1]\tcv_agg's valid rmse: 5.32832 + 0.0533255\n",
      "| \u001b[0m6        \u001b[0m | \u001b[0m5.328    \u001b[0m | \u001b[0m0.0076   \u001b[0m | \u001b[0m0.01335  \u001b[0m | \u001b[0m39.22    \u001b[0m | \u001b[0m7.729e+03\u001b[0m | \u001b[0m1.229e+03\u001b[0m | \u001b[0m1.011e+03\u001b[0m |\n",
      "Training until validation scores don't improve for 1000 rounds\n",
      "Did not meet early stopping. Best iteration is:\n",
      "[1]\tcv_agg's valid rmse: 5.32832 + 0.0533255\n",
      "| \u001b[0m7        \u001b[0m | \u001b[0m5.328    \u001b[0m | \u001b[0m0.01593  \u001b[0m | \u001b[0m0.01695  \u001b[0m | \u001b[0m14.73    \u001b[0m | \u001b[0m8.136e+03\u001b[0m | \u001b[0m625.0    \u001b[0m | \u001b[0m927.8    \u001b[0m |\n",
      "Training until validation scores don't improve for 1000 rounds\n",
      "Did not meet early stopping. Best iteration is:\n",
      "[1]\tcv_agg's valid rmse: 5.32832 + 0.0533255\n",
      "| \u001b[0m8        \u001b[0m | \u001b[0m5.328    \u001b[0m | \u001b[0m0.02489  \u001b[0m | \u001b[0m0.01022  \u001b[0m | \u001b[0m39.02    \u001b[0m | \u001b[0m168.0    \u001b[0m | \u001b[0m1.597e+03\u001b[0m | \u001b[0m3.385e+03\u001b[0m |\n",
      "Training until validation scores don't improve for 1000 rounds\n",
      "Did not meet early stopping. Best iteration is:\n",
      "[1]\tcv_agg's valid rmse: 5.32832 + 0.0533255\n",
      "| \u001b[0m9        \u001b[0m | \u001b[0m5.328    \u001b[0m | \u001b[0m0.00823  \u001b[0m | \u001b[0m0.0006622\u001b[0m | \u001b[0m56.78    \u001b[0m | \u001b[0m211.4    \u001b[0m | \u001b[0m1.393e+03\u001b[0m | \u001b[0m3.394e+03\u001b[0m |\n",
      "Training until validation scores don't improve for 1000 rounds\n",
      "Did not meet early stopping. Best iteration is:\n",
      "[1]\tcv_agg's valid rmse: 5.32832 + 0.0533255\n",
      "| \u001b[0m10       \u001b[0m | \u001b[0m5.328    \u001b[0m | \u001b[0m0.003857 \u001b[0m | \u001b[0m0.03565  \u001b[0m | \u001b[0m26.52    \u001b[0m | \u001b[0m3.24e+03 \u001b[0m | \u001b[0m1.996e+03\u001b[0m | \u001b[0m2.356e+03\u001b[0m |\n",
      "Training until validation scores don't improve for 1000 rounds\n",
      "Did not meet early stopping. Best iteration is:\n",
      "[1]\tcv_agg's valid rmse: 5.32832 + 0.0533255\n",
      "| \u001b[0m11       \u001b[0m | \u001b[0m5.328    \u001b[0m | \u001b[0m0.00818  \u001b[0m | \u001b[0m0.03998  \u001b[0m | \u001b[0m45.88    \u001b[0m | \u001b[0m4.447e+03\u001b[0m | \u001b[0m1.936e+03\u001b[0m | \u001b[0m463.6    \u001b[0m |\n",
      "Training until validation scores don't improve for 1000 rounds\n",
      "Did not meet early stopping. Best iteration is:\n",
      "[1]\tcv_agg's valid rmse: 5.32832 + 0.0533255\n",
      "| \u001b[0m12       \u001b[0m | \u001b[0m5.328    \u001b[0m | \u001b[0m0.008153 \u001b[0m | \u001b[0m0.01283  \u001b[0m | \u001b[0m7.494    \u001b[0m | \u001b[0m9.295e+03\u001b[0m | \u001b[0m1.888e+03\u001b[0m | \u001b[0m50.37    \u001b[0m |\n",
      "=================================================================================================\n"
     ]
    }
   ],
   "source": [
    "X_train_UPDRS1=X_train[features_UPDRS1.iloc[:,0].tolist()+[\"visit_month_diff_min\",\"visit_month\"]]\n",
    "\n",
    "X_tr_scaled_UPDRS1 = scaler.fit_transform(X_train_UPDRS1)\n",
    "\n",
    "def lgb_eval(num_leaves,max_depth,lambda_l2,lambda_l1,min_child_samples, min_data_in_leaf):\n",
    "    params = {\n",
    "        \"objective\" : \"regression\",\n",
    "        \"metric\" : \"RMSE\", \n",
    "        'is_unbalance': True,\n",
    "        \"num_leaves\" : int(num_leaves),\n",
    "        \"max_depth\" : int(max_depth),\n",
    "        \"lambda_l2\" : lambda_l2,\n",
    "        \"lambda_l1\" : lambda_l1,\n",
    "        \"num_threads\" : 20,\n",
    "        \"min_child_samples\" : int(min_child_samples),\n",
    "        'min_data_in_leaf': int(min_data_in_leaf),\n",
    "        \"learning_rate\" : 0.03,\n",
    "        \"subsample_freq\" : 5,\n",
    "        \"verbosity\" : -1\n",
    "    }\n",
    "    lgtrain = lightgbm.Dataset(X_tr_scaled_UPDRS1, y_train.updrs_1)\n",
    "    cv_result = lightgbm.cv(params,\n",
    "                       lgtrain,\n",
    "                        num_boost_round=100,\n",
    "                       stratified=False,\n",
    "    callbacks=[\n",
    "      lightgbm.early_stopping(stopping_rounds=1000),\n",
    "    ], nfold=3)\n",
    "    return cv_result['valid rmse-mean'][-1]\n",
    "lgbBO = BayesianOptimization(lgb_eval,{'num_leaves': (25, 4000),\n",
    "                                                'max_depth': (5, 63),\n",
    "                                                'lambda_l2': (0.0, 0.05),\n",
    "                                                'lambda_l1': (0.0, 0.05),\n",
    "                                                'min_child_samples': (50, 10000),\n",
    "                                                'min_data_in_leaf': (100, 2000)\n",
    "                                                })\n",
    "\n",
    "lgbBO.maximize(n_iter=10, init_points=2)\n"
   ]
  },
  {
   "cell_type": "markdown",
   "id": "518c49d9",
   "metadata": {},
   "source": [
    "Let us look at the best RMSE based on the best hyperparameters"
   ]
  },
  {
   "cell_type": "code",
   "execution_count": 14,
   "id": "98940ed1",
   "metadata": {},
   "outputs": [
    {
     "data": {
      "text/plain": [
       "{'target': 5.32832278411098,\n",
       " 'params': {'lambda_l1': 0.007226950545954053,\n",
       "  'lambda_l2': 0.03251507849571255,\n",
       "  'max_depth': 7.723790898095893,\n",
       "  'min_child_samples': 4665.753700337947,\n",
       "  'min_data_in_leaf': 1080.472603537603,\n",
       "  'num_leaves': 1822.339242886823}}"
      ]
     },
     "execution_count": 14,
     "metadata": {},
     "output_type": "execute_result"
    }
   ],
   "source": [
    "lgbBO.max"
   ]
  },
  {
   "cell_type": "markdown",
   "id": "499906c7",
   "metadata": {},
   "source": [
    "It does not seem to improve the RMSE to add the visit min difference and visit id. "
   ]
  },
  {
   "cell_type": "markdown",
   "id": "d21c8151",
   "metadata": {},
   "source": [
    "Let us add the RMSE values for the light gbm model for all the scores so that we can compare with SVM. "
   ]
  },
  {
   "cell_type": "code",
   "execution_count": 15,
   "id": "00a6cd20",
   "metadata": {},
   "outputs": [],
   "source": [
    "RMSE_lightgbm={\"UPDRS_1\":lgbBO.max[\"target\"]}"
   ]
  },
  {
   "cell_type": "markdown",
   "id": "69ad9cf1",
   "metadata": {},
   "source": [
    "Let me see if the same model with UPDRS associated boruta associated features along with adding visit min difference and visit id works well for cross validation for the other UPDRS scores. Although adding visit min difference and visit id did not effect the RMSE in cross validation, adding the features did not cause any decrease in performance so we will continue to add them for looking at the other scores."
   ]
  },
  {
   "cell_type": "code",
   "execution_count": 16,
   "id": "1df3dbc3",
   "metadata": {},
   "outputs": [],
   "source": [
    "X_train_UPDRS2=X_train[features_UPDRS2.iloc[:,0].tolist()+[\"visit_month_diff_min\",\"visit_month\"]]"
   ]
  },
  {
   "cell_type": "code",
   "execution_count": 17,
   "id": "1c37d0fa",
   "metadata": {},
   "outputs": [],
   "source": [
    "X_tr_scaled_UPDRS2 = scaler.fit_transform(X_train_UPDRS2)"
   ]
  },
  {
   "cell_type": "code",
   "execution_count": 18,
   "id": "a885160d",
   "metadata": {},
   "outputs": [
    {
     "name": "stdout",
     "output_type": "stream",
     "text": [
      "|   iter    |  target   | lambda_l1 | lambda_l2 | max_depth | min_ch... | min_da... | num_le... |\n",
      "-------------------------------------------------------------------------------------------------\n",
      "Training until validation scores don't improve for 1000 rounds\n",
      "Did not meet early stopping. Best iteration is:\n",
      "[1]\tcv_agg's valid rmse: 5.92679 + 0.225728\n",
      "| \u001b[0m1        \u001b[0m | \u001b[0m5.927    \u001b[0m | \u001b[0m0.03546  \u001b[0m | \u001b[0m0.04793  \u001b[0m | \u001b[0m61.79    \u001b[0m | \u001b[0m7.081e+03\u001b[0m | \u001b[0m790.0    \u001b[0m | \u001b[0m626.1    \u001b[0m |\n",
      "Training until validation scores don't improve for 1000 rounds\n",
      "Did not meet early stopping. Best iteration is:\n",
      "[1]\tcv_agg's valid rmse: 5.92679 + 0.225728\n",
      "| \u001b[0m2        \u001b[0m | \u001b[0m5.927    \u001b[0m | \u001b[0m0.04854  \u001b[0m | \u001b[0m0.03748  \u001b[0m | \u001b[0m18.67    \u001b[0m | \u001b[0m5.896e+03\u001b[0m | \u001b[0m1.564e+03\u001b[0m | \u001b[0m2.708e+03\u001b[0m |\n",
      "Training until validation scores don't improve for 1000 rounds\n",
      "Did not meet early stopping. Best iteration is:\n",
      "[100]\tcv_agg's valid rmse: 5.14934 + 0.2619\n",
      "| \u001b[0m3        \u001b[0m | \u001b[0m5.149    \u001b[0m | \u001b[0m0.03739  \u001b[0m | \u001b[0m0.01587  \u001b[0m | \u001b[0m12.59    \u001b[0m | \u001b[0m62.32    \u001b[0m | \u001b[0m145.1    \u001b[0m | \u001b[0m127.4    \u001b[0m |\n",
      "Training until validation scores don't improve for 1000 rounds\n",
      "Did not meet early stopping. Best iteration is:\n",
      "[1]\tcv_agg's valid rmse: 5.92679 + 0.225728\n",
      "| \u001b[0m4        \u001b[0m | \u001b[0m5.927    \u001b[0m | \u001b[0m0.02112  \u001b[0m | \u001b[0m0.02728  \u001b[0m | \u001b[0m35.71    \u001b[0m | \u001b[0m8.617e+03\u001b[0m | \u001b[0m710.3    \u001b[0m | \u001b[0m589.5    \u001b[0m |\n",
      "Training until validation scores don't improve for 1000 rounds\n",
      "Did not meet early stopping. Best iteration is:\n",
      "[1]\tcv_agg's valid rmse: 5.92679 + 0.225728\n",
      "| \u001b[0m5        \u001b[0m | \u001b[0m5.927    \u001b[0m | \u001b[0m0.01913  \u001b[0m | \u001b[0m0.00584  \u001b[0m | \u001b[0m42.17    \u001b[0m | \u001b[0m8.985e+03\u001b[0m | \u001b[0m1.816e+03\u001b[0m | \u001b[0m381.6    \u001b[0m |\n",
      "Training until validation scores don't improve for 1000 rounds\n",
      "Did not meet early stopping. Best iteration is:\n",
      "[1]\tcv_agg's valid rmse: 5.92679 + 0.225728\n",
      "| \u001b[0m6        \u001b[0m | \u001b[0m5.927    \u001b[0m | \u001b[0m0.03161  \u001b[0m | \u001b[0m0.0007953\u001b[0m | \u001b[0m39.73    \u001b[0m | \u001b[0m1.032e+03\u001b[0m | \u001b[0m1.903e+03\u001b[0m | \u001b[0m1.764e+03\u001b[0m |\n",
      "Training until validation scores don't improve for 1000 rounds\n",
      "Did not meet early stopping. Best iteration is:\n",
      "[1]\tcv_agg's valid rmse: 5.92679 + 0.225728\n",
      "| \u001b[0m7        \u001b[0m | \u001b[0m5.927    \u001b[0m | \u001b[0m0.05     \u001b[0m | \u001b[0m0.05     \u001b[0m | \u001b[0m63.0     \u001b[0m | \u001b[0m2.657e+03\u001b[0m | \u001b[0m2e+03    \u001b[0m | \u001b[0m3.867e+03\u001b[0m |\n",
      "Training until validation scores don't improve for 1000 rounds\n",
      "Did not meet early stopping. Best iteration is:\n",
      "[1]\tcv_agg's valid rmse: 5.92679 + 0.225728\n",
      "| \u001b[0m8        \u001b[0m | \u001b[0m5.927    \u001b[0m | \u001b[0m0.04347  \u001b[0m | \u001b[0m0.04378  \u001b[0m | \u001b[0m28.52    \u001b[0m | \u001b[0m3.092e+03\u001b[0m | \u001b[0m1.953e+03\u001b[0m | \u001b[0m1.861e+03\u001b[0m |\n",
      "Training until validation scores don't improve for 1000 rounds\n",
      "Did not meet early stopping. Best iteration is:\n",
      "[1]\tcv_agg's valid rmse: 5.92679 + 0.225728\n",
      "| \u001b[0m9        \u001b[0m | \u001b[0m5.927    \u001b[0m | \u001b[0m0.04357  \u001b[0m | \u001b[0m0.04118  \u001b[0m | \u001b[0m27.11    \u001b[0m | \u001b[0m905.6    \u001b[0m | \u001b[0m1.3e+03  \u001b[0m | \u001b[0m1.029e+03\u001b[0m |\n",
      "Training until validation scores don't improve for 1000 rounds\n",
      "Did not meet early stopping. Best iteration is:\n",
      "[1]\tcv_agg's valid rmse: 5.92679 + 0.225728\n",
      "| \u001b[0m10       \u001b[0m | \u001b[0m5.927    \u001b[0m | \u001b[0m0.01568  \u001b[0m | \u001b[0m0.04125  \u001b[0m | \u001b[0m54.1     \u001b[0m | \u001b[0m7.73e+03 \u001b[0m | \u001b[0m1.807e+03\u001b[0m | \u001b[0m1.902e+03\u001b[0m |\n",
      "Training until validation scores don't improve for 1000 rounds\n",
      "Did not meet early stopping. Best iteration is:\n",
      "[1]\tcv_agg's valid rmse: 5.92679 + 0.225728\n",
      "| \u001b[0m11       \u001b[0m | \u001b[0m5.927    \u001b[0m | \u001b[0m0.03272  \u001b[0m | \u001b[0m0.03611  \u001b[0m | \u001b[0m36.78    \u001b[0m | \u001b[0m9.295e+03\u001b[0m | \u001b[0m1.889e+03\u001b[0m | \u001b[0m168.3    \u001b[0m |\n",
      "Training until validation scores don't improve for 1000 rounds\n",
      "Did not meet early stopping. Best iteration is:\n",
      "[100]\tcv_agg's valid rmse: 5.04783 + 0.212245\n",
      "| \u001b[0m12       \u001b[0m | \u001b[0m5.048    \u001b[0m | \u001b[0m0.01382  \u001b[0m | \u001b[0m0.01829  \u001b[0m | \u001b[0m25.78    \u001b[0m | \u001b[0m4.021e+03\u001b[0m | \u001b[0m137.2    \u001b[0m | \u001b[0m3.326e+03\u001b[0m |\n",
      "=================================================================================================\n"
     ]
    }
   ],
   "source": [
    "\n",
    "def lgb_eval(num_leaves,max_depth,lambda_l2,lambda_l1,min_child_samples, min_data_in_leaf):\n",
    "    params = {\n",
    "        \"objective\" : \"regression\",\n",
    "        \"metric\" : \"RMSE\",\n",
    "        'is_unbalance': True,\n",
    "        \"num_leaves\" : int(num_leaves),\n",
    "        \"max_depth\" : int(max_depth),\n",
    "        \"lambda_l2\" : lambda_l2,\n",
    "        \"lambda_l1\" : lambda_l1,\n",
    "        \"num_threads\" : 20,\n",
    "        \"min_child_samples\" : int(min_child_samples),\n",
    "        'min_data_in_leaf': int(min_data_in_leaf),\n",
    "        \"learning_rate\" : 0.03,\n",
    "        \"subsample_freq\" : 5,\n",
    "        \"verbosity\" : -1\n",
    "    }\n",
    "    lgtrain = lightgbm.Dataset(X_tr_scaled_UPDRS2, y_train.updrs_2)\n",
    "    cv_result = lightgbm.cv(params,\n",
    "                       lgtrain,\n",
    "                        num_boost_round=100,\n",
    "                       stratified=False,\n",
    "    callbacks=[\n",
    "      lightgbm.early_stopping(stopping_rounds=1000),\n",
    "    ], nfold=3)\n",
    "    return cv_result['valid rmse-mean'][-1]\n",
    "lgbBO = BayesianOptimization(lgb_eval,{'num_leaves': (25, 4000),\n",
    "                                                'max_depth': (5, 63),\n",
    "                                                'lambda_l2': (0.0, 0.05),\n",
    "                                                'lambda_l1': (0.0, 0.05),\n",
    "                                                'min_child_samples': (50, 10000),\n",
    "                                                'min_data_in_leaf': (100, 2000)\n",
    "                                                })\n",
    "\n",
    "lgbBO.maximize(n_iter=10, init_points=2)\n"
   ]
  },
  {
   "cell_type": "code",
   "execution_count": 19,
   "id": "67587b4d",
   "metadata": {},
   "outputs": [
    {
     "data": {
      "text/plain": [
       "{'target': 5.926793395486719,\n",
       " 'params': {'lambda_l1': 0.035457163492870536,\n",
       "  'lambda_l2': 0.047927783077294145,\n",
       "  'max_depth': 61.791820568227806,\n",
       "  'min_child_samples': 7080.577155513798,\n",
       "  'min_data_in_leaf': 789.9894378533228,\n",
       "  'num_leaves': 626.1395586289303}}"
      ]
     },
     "execution_count": 19,
     "metadata": {},
     "output_type": "execute_result"
    }
   ],
   "source": [
    "lgbBO.max"
   ]
  },
  {
   "cell_type": "code",
   "execution_count": 20,
   "id": "84dbeedf",
   "metadata": {},
   "outputs": [],
   "source": [
    "RMSE_lightgbm[\"UPDRS_2\"]=lgbBO.max[\"target\"]\n"
   ]
  },
  {
   "cell_type": "markdown",
   "id": "9ef5eef6",
   "metadata": {},
   "source": [
    "The best RMSE for lightgb, is 5.93 for predicting UPDRS2"
   ]
  },
  {
   "cell_type": "markdown",
   "id": "91b48240",
   "metadata": {},
   "source": [
    "Let us see the performance of light gbm with UPDRS3. We will be using the upd23b_clinical_state_on_medication as a feature as well along with the important protein/peptide abundance scores and visit_month and minimum visit_difference. upd23b_clinical_state_on_medication  is supposed to effect the UPDRS3 scores according to the initially provided information.\n",
    "Since our previous notebooks showed that upd23b_clinical_state_on_medication had many missing values and this itself may have some significance, we can replace missing values with a value like “Unknown” or “Missing” using the fillna() method. "
   ]
  },
  {
   "cell_type": "code",
   "execution_count": 21,
   "id": "1db41401",
   "metadata": {},
   "outputs": [],
   "source": [
    "X_train[\"upd23b_clinical_state_on_medication\"] = X_train.upd23b_clinical_state_on_medication.fillna(\"Unknown\")"
   ]
  },
  {
   "cell_type": "code",
   "execution_count": 40,
   "id": "6b173248",
   "metadata": {},
   "outputs": [],
   "source": [
    "X_train_UPDRS3=X_train[features_UPDRS3.iloc[:,0].tolist()+[\"visit_month_diff_min\",\"visit_month\",\"upd23b_clinical_state_on_medication\"]]"
   ]
  },
  {
   "cell_type": "markdown",
   "id": "30d2b507",
   "metadata": {},
   "source": [
    "We need to transform the UPDRS3 scores as we have both numerical and categorical variables"
   ]
  },
  {
   "cell_type": "code",
   "execution_count": 41,
   "id": "1281ac96",
   "metadata": {},
   "outputs": [],
   "source": [
    "numeric_columns = X_train_UPDRS3.select_dtypes(include=['int64', 'float64']).columns\n",
    "categorical_columns =X_train_UPDRS3.select_dtypes(include=['object', 'bool']).columns\n",
    "\n",
    "pipeline=ColumnTransformer([\n",
    "    ('num',StandardScaler(),numeric_columns),\n",
    "    ('cat',OneHotEncoder(),categorical_columns),\n",
    "])\n",
    "\n",
    "X_tr_scaled_UPDRS3=pipeline.fit_transform(X_train_UPDRS3)"
   ]
  },
  {
   "cell_type": "code",
   "execution_count": 23,
   "id": "a49f3a4d",
   "metadata": {},
   "outputs": [
    {
     "name": "stdout",
     "output_type": "stream",
     "text": [
      "|   iter    |  target   | lambda_l1 | lambda_l2 | max_depth | min_ch... | min_da... | num_le... |\n",
      "-------------------------------------------------------------------------------------------------\n",
      "Training until validation scores don't improve for 1000 rounds\n",
      "Did not meet early stopping. Best iteration is:\n",
      "[1]\tcv_agg's valid rmse: 14.9414 + 0.321264\n",
      "| \u001b[0m1        \u001b[0m | \u001b[0m14.94    \u001b[0m | \u001b[0m0.007741 \u001b[0m | \u001b[0m0.01431  \u001b[0m | \u001b[0m18.62    \u001b[0m | \u001b[0m9.365e+03\u001b[0m | \u001b[0m735.6    \u001b[0m | \u001b[0m3.467e+03\u001b[0m |\n",
      "Training until validation scores don't improve for 1000 rounds\n",
      "Did not meet early stopping. Best iteration is:\n",
      "[1]\tcv_agg's valid rmse: 14.9414 + 0.321264\n",
      "| \u001b[0m2        \u001b[0m | \u001b[0m14.94    \u001b[0m | \u001b[0m0.002207 \u001b[0m | \u001b[0m0.01569  \u001b[0m | \u001b[0m61.78    \u001b[0m | \u001b[0m1.349e+03\u001b[0m | \u001b[0m1.714e+03\u001b[0m | \u001b[0m730.1    \u001b[0m |\n",
      "Training until validation scores don't improve for 1000 rounds\n",
      "Did not meet early stopping. Best iteration is:\n",
      "[100]\tcv_agg's valid rmse: 11.2784 + 0.458659\n",
      "| \u001b[0m3        \u001b[0m | \u001b[0m11.28    \u001b[0m | \u001b[0m0.0274   \u001b[0m | \u001b[0m0.03681  \u001b[0m | \u001b[0m43.8     \u001b[0m | \u001b[0m179.6    \u001b[0m | \u001b[0m225.0    \u001b[0m | \u001b[0m3.892e+03\u001b[0m |\n",
      "Training until validation scores don't improve for 1000 rounds\n",
      "Did not meet early stopping. Best iteration is:\n",
      "[1]\tcv_agg's valid rmse: 14.9414 + 0.321264\n",
      "| \u001b[0m4        \u001b[0m | \u001b[0m14.94    \u001b[0m | \u001b[0m0.01017  \u001b[0m | \u001b[0m0.0247   \u001b[0m | \u001b[0m55.34    \u001b[0m | \u001b[0m2.619e+03\u001b[0m | \u001b[0m471.4    \u001b[0m | \u001b[0m932.3    \u001b[0m |\n",
      "Training until validation scores don't improve for 1000 rounds\n",
      "Did not meet early stopping. Best iteration is:\n",
      "[1]\tcv_agg's valid rmse: 14.9414 + 0.321264\n",
      "| \u001b[0m5        \u001b[0m | \u001b[0m14.94    \u001b[0m | \u001b[0m0.01146  \u001b[0m | \u001b[0m0.02336  \u001b[0m | \u001b[0m24.45    \u001b[0m | \u001b[0m2.663e+03\u001b[0m | \u001b[0m367.7    \u001b[0m | \u001b[0m731.8    \u001b[0m |\n",
      "Training until validation scores don't improve for 1000 rounds\n",
      "Did not meet early stopping. Best iteration is:\n",
      "[1]\tcv_agg's valid rmse: 14.9414 + 0.321264\n",
      "| \u001b[0m6        \u001b[0m | \u001b[0m14.94    \u001b[0m | \u001b[0m0.00268  \u001b[0m | \u001b[0m0.01456  \u001b[0m | \u001b[0m52.2     \u001b[0m | \u001b[0m5.359e+03\u001b[0m | \u001b[0m543.2    \u001b[0m | \u001b[0m2.057e+03\u001b[0m |\n",
      "Training until validation scores don't improve for 1000 rounds\n",
      "Did not meet early stopping. Best iteration is:\n",
      "[1]\tcv_agg's valid rmse: 14.9414 + 0.321264\n",
      "| \u001b[0m7        \u001b[0m | \u001b[0m14.94    \u001b[0m | \u001b[0m0.0      \u001b[0m | \u001b[0m0.01092  \u001b[0m | \u001b[0m40.26    \u001b[0m | \u001b[0m8.625e+03\u001b[0m | \u001b[0m2e+03    \u001b[0m | \u001b[0m25.0     \u001b[0m |\n",
      "Training until validation scores don't improve for 1000 rounds\n",
      "Did not meet early stopping. Best iteration is:\n",
      "[1]\tcv_agg's valid rmse: 14.9414 + 0.321264\n",
      "| \u001b[0m8        \u001b[0m | \u001b[0m14.94    \u001b[0m | \u001b[0m0.0      \u001b[0m | \u001b[0m0.0      \u001b[0m | \u001b[0m63.0     \u001b[0m | \u001b[0m4.535e+03\u001b[0m | \u001b[0m2e+03    \u001b[0m | \u001b[0m25.0     \u001b[0m |\n",
      "Training until validation scores don't improve for 1000 rounds\n",
      "Did not meet early stopping. Best iteration is:\n",
      "[100]\tcv_agg's valid rmse: 10.0042 + 0.49495\n",
      "| \u001b[0m9        \u001b[0m | \u001b[0m10.0     \u001b[0m | \u001b[0m0.04519  \u001b[0m | \u001b[0m0.05     \u001b[0m | \u001b[0m5.0      \u001b[0m | \u001b[0m1e+04    \u001b[0m | \u001b[0m100.0    \u001b[0m | \u001b[0m25.0     \u001b[0m |\n",
      "Training until validation scores don't improve for 1000 rounds\n",
      "Did not meet early stopping. Best iteration is:\n",
      "[1]\tcv_agg's valid rmse: 14.9414 + 0.321264\n",
      "| \u001b[0m10       \u001b[0m | \u001b[0m14.94    \u001b[0m | \u001b[0m0.05     \u001b[0m | \u001b[0m0.01239  \u001b[0m | \u001b[0m63.0     \u001b[0m | \u001b[0m7.241e+03\u001b[0m | \u001b[0m2e+03    \u001b[0m | \u001b[0m1.877e+03\u001b[0m |\n",
      "Training until validation scores don't improve for 1000 rounds\n",
      "Did not meet early stopping. Best iteration is:\n",
      "[1]\tcv_agg's valid rmse: 14.9414 + 0.321264\n",
      "| \u001b[0m11       \u001b[0m | \u001b[0m14.94    \u001b[0m | \u001b[0m0.007675 \u001b[0m | \u001b[0m0.0155   \u001b[0m | \u001b[0m39.35    \u001b[0m | \u001b[0m2.674e+03\u001b[0m | \u001b[0m496.6    \u001b[0m | \u001b[0m1.005e+03\u001b[0m |\n",
      "Training until validation scores don't improve for 1000 rounds\n",
      "Did not meet early stopping. Best iteration is:\n",
      "[100]\tcv_agg's valid rmse: 10.0042 + 0.49495\n",
      "| \u001b[0m12       \u001b[0m | \u001b[0m10.0     \u001b[0m | \u001b[0m0.05     \u001b[0m | \u001b[0m0.05     \u001b[0m | \u001b[0m5.0      \u001b[0m | \u001b[0m6.925e+03\u001b[0m | \u001b[0m100.0    \u001b[0m | \u001b[0m4e+03    \u001b[0m |\n",
      "=================================================================================================\n"
     ]
    }
   ],
   "source": [
    "def lgb_eval(num_leaves,max_depth,lambda_l2,lambda_l1,min_child_samples, min_data_in_leaf):\n",
    "    params = {\n",
    "        \"objective\" : \"regression\",\n",
    "        \"metric\" : \"RMSE\", \"\"\n",
    "        'is_unbalance': True,\n",
    "        \"num_leaves\" : int(num_leaves),\n",
    "        \"max_depth\" : int(max_depth),\n",
    "        \"lambda_l2\" : lambda_l2,\n",
    "        \"lambda_l1\" : lambda_l1,\n",
    "        \"num_threads\" : 20,\n",
    "        \"min_child_samples\" : int(min_child_samples),\n",
    "        'min_data_in_leaf': int(min_data_in_leaf),\n",
    "        \"learning_rate\" : 0.03,\n",
    "        \"subsample_freq\" : 5,\n",
    "        \"verbosity\" : -1\n",
    "    }\n",
    "    lgtrain = lightgbm.Dataset(X_tr_scaled_UPDRS3, y_train.updrs_3)\n",
    "    cv_result = lightgbm.cv(params,\n",
    "                       lgtrain,\n",
    "                        num_boost_round=100,\n",
    "                       stratified=False,\n",
    "    callbacks=[\n",
    "      lightgbm.early_stopping(stopping_rounds=1000),\n",
    "    ], nfold=3)\n",
    "    return cv_result['valid rmse-mean'][-1]\n",
    "lgbBO = BayesianOptimization(lgb_eval,{'num_leaves': (25, 4000),\n",
    "                                                'max_depth': (5, 63),\n",
    "                                                'lambda_l2': (0.0, 0.05),\n",
    "                                                'lambda_l1': (0.0, 0.05),\n",
    "                                                'min_child_samples': (50, 10000),\n",
    "                                                'min_data_in_leaf': (100, 2000)\n",
    "                                                })\n",
    "\n",
    "lgbBO.maximize(n_iter=10, init_points=2)\n"
   ]
  },
  {
   "cell_type": "code",
   "execution_count": 119,
   "id": "43dfa2cf",
   "metadata": {},
   "outputs": [
    {
     "name": "stdout",
     "output_type": "stream",
     "text": [
      "|   iter    |  target   | lambda_l1 | lambda_l2 | max_depth | min_ch... | min_da... | num_le... |\n",
      "-------------------------------------------------------------------------------------------------\n",
      "Training until validation scores don't improve for 1000 rounds\n",
      "Did not meet early stopping. Best iteration is:\n",
      "[1]\tcv_agg's valid rmse: 2.4313 + 0.216878\n",
      "| \u001b[0m1        \u001b[0m | \u001b[0m2.431    \u001b[0m | \u001b[0m0.02343  \u001b[0m | \u001b[0m0.03025  \u001b[0m | \u001b[0m43.67    \u001b[0m | \u001b[0m7.206e+03\u001b[0m | \u001b[0m1.073e+03\u001b[0m | \u001b[0m2.595e+03\u001b[0m |\n",
      "Training until validation scores don't improve for 1000 rounds\n",
      "Did not meet early stopping. Best iteration is:\n",
      "[1]\tcv_agg's valid rmse: 2.4313 + 0.216878\n",
      "| \u001b[0m2        \u001b[0m | \u001b[0m2.431    \u001b[0m | \u001b[0m0.03314  \u001b[0m | \u001b[0m0.01789  \u001b[0m | \u001b[0m12.35    \u001b[0m | \u001b[0m752.5    \u001b[0m | \u001b[0m659.2    \u001b[0m | \u001b[0m3.799e+03\u001b[0m |\n",
      "Training until validation scores don't improve for 1000 rounds\n",
      "Did not meet early stopping. Best iteration is:\n",
      "[1]\tcv_agg's valid rmse: 2.4313 + 0.216878\n",
      "| \u001b[0m3        \u001b[0m | \u001b[0m2.431    \u001b[0m | \u001b[0m0.03181  \u001b[0m | \u001b[0m0.03001  \u001b[0m | \u001b[0m29.53    \u001b[0m | \u001b[0m3.189e+03\u001b[0m | \u001b[0m1.632e+03\u001b[0m | \u001b[0m51.8     \u001b[0m |\n",
      "Training until validation scores don't improve for 1000 rounds\n",
      "Did not meet early stopping. Best iteration is:\n",
      "[1]\tcv_agg's valid rmse: 2.4313 + 0.216878\n",
      "| \u001b[0m4        \u001b[0m | \u001b[0m2.431    \u001b[0m | \u001b[0m0.04467  \u001b[0m | \u001b[0m0.01905  \u001b[0m | \u001b[0m37.91    \u001b[0m | \u001b[0m7.441e+03\u001b[0m | \u001b[0m734.0    \u001b[0m | \u001b[0m2.204e+03\u001b[0m |\n",
      "Training until validation scores don't improve for 1000 rounds\n",
      "Did not meet early stopping. Best iteration is:\n",
      "[1]\tcv_agg's valid rmse: 2.4313 + 0.216878\n",
      "| \u001b[0m5        \u001b[0m | \u001b[0m2.431    \u001b[0m | \u001b[0m0.002772 \u001b[0m | \u001b[0m0.0206   \u001b[0m | \u001b[0m11.53    \u001b[0m | \u001b[0m2.068e+03\u001b[0m | \u001b[0m1.926e+03\u001b[0m | \u001b[0m3.741e+03\u001b[0m |\n",
      "Training until validation scores don't improve for 1000 rounds\n",
      "Did not meet early stopping. Best iteration is:\n",
      "[1]\tcv_agg's valid rmse: 2.4313 + 0.216878\n",
      "| \u001b[0m6        \u001b[0m | \u001b[0m2.431    \u001b[0m | \u001b[0m0.04844  \u001b[0m | \u001b[0m0.02217  \u001b[0m | \u001b[0m33.86    \u001b[0m | \u001b[0m9.974e+03\u001b[0m | \u001b[0m1.836e+03\u001b[0m | \u001b[0m128.7    \u001b[0m |\n",
      "Training until validation scores don't improve for 1000 rounds\n",
      "Did not meet early stopping. Best iteration is:\n",
      "[1]\tcv_agg's valid rmse: 2.4313 + 0.216878\n",
      "| \u001b[0m7        \u001b[0m | \u001b[0m2.431    \u001b[0m | \u001b[0m0.02065  \u001b[0m | \u001b[0m0.0173   \u001b[0m | \u001b[0m43.45    \u001b[0m | \u001b[0m9.99e+03 \u001b[0m | \u001b[0m1.425e+03\u001b[0m | \u001b[0m3.993e+03\u001b[0m |\n",
      "Training until validation scores don't improve for 1000 rounds\n",
      "Did not meet early stopping. Best iteration is:\n",
      "[100]\tcv_agg's valid rmse: 2.27968 + 0.142762\n",
      "| \u001b[0m8        \u001b[0m | \u001b[0m2.28     \u001b[0m | \u001b[0m0.01141  \u001b[0m | \u001b[0m0.01844  \u001b[0m | \u001b[0m39.5     \u001b[0m | \u001b[0m63.88    \u001b[0m | \u001b[0m152.7    \u001b[0m | \u001b[0m99.56    \u001b[0m |\n",
      "Training until validation scores don't improve for 1000 rounds\n",
      "Did not meet early stopping. Best iteration is:\n",
      "[1]\tcv_agg's valid rmse: 2.4313 + 0.216878\n",
      "| \u001b[0m9        \u001b[0m | \u001b[0m2.431    \u001b[0m | \u001b[0m0.04673  \u001b[0m | \u001b[0m0.04812  \u001b[0m | \u001b[0m50.62    \u001b[0m | \u001b[0m5.773e+03\u001b[0m | \u001b[0m1.954e+03\u001b[0m | \u001b[0m48.22    \u001b[0m |\n",
      "Training until validation scores don't improve for 1000 rounds\n",
      "Did not meet early stopping. Best iteration is:\n",
      "[1]\tcv_agg's valid rmse: 2.4313 + 0.216878\n",
      "| \u001b[0m10       \u001b[0m | \u001b[0m2.431    \u001b[0m | \u001b[0m0.01119  \u001b[0m | \u001b[0m0.04625  \u001b[0m | \u001b[0m60.28    \u001b[0m | \u001b[0m9.311e+03\u001b[0m | \u001b[0m1.35e+03 \u001b[0m | \u001b[0m3.637e+03\u001b[0m |\n",
      "Training until validation scores don't improve for 1000 rounds\n",
      "Did not meet early stopping. Best iteration is:\n",
      "[100]\tcv_agg's valid rmse: 2.34981 + 0.199349\n",
      "| \u001b[0m11       \u001b[0m | \u001b[0m2.35     \u001b[0m | \u001b[0m0.04094  \u001b[0m | \u001b[0m0.0148   \u001b[0m | \u001b[0m50.16    \u001b[0m | \u001b[0m4.404e+03\u001b[0m | \u001b[0m215.3    \u001b[0m | \u001b[0m3.9e+03  \u001b[0m |\n",
      "Training until validation scores don't improve for 1000 rounds\n",
      "Did not meet early stopping. Best iteration is:\n",
      "[100]\tcv_agg's valid rmse: 2.24996 + 0.165438\n",
      "| \u001b[0m12       \u001b[0m | \u001b[0m2.25     \u001b[0m | \u001b[0m0.02462  \u001b[0m | \u001b[0m0.0121   \u001b[0m | \u001b[0m49.91    \u001b[0m | \u001b[0m9.963e+03\u001b[0m | \u001b[0m136.8    \u001b[0m | \u001b[0m1.922e+03\u001b[0m |\n",
      "=================================================================================================\n"
     ]
    }
   ],
   "source": [
    "X_train_UPDRS4=X_train[[\"C(UniMod_4)AEENC(UniMod_4)FIQK\",\n",
    "\"LDEVKEQVAEVR\",\"visit_month_diff_min\",\"visit_month\"]]\n",
    "\n",
    "X_tr_scaled_UPDRS4 = scaler.fit_transform(X_train_UPDRS4)\n",
    "\n",
    "def lgb_eval(num_leaves,max_depth,lambda_l2,lambda_l1,min_child_samples, min_data_in_leaf):\n",
    "    params = {\n",
    "        \"objective\" : \"regression\",\n",
    "        \"metric\" : \"RMSE\", \"\"\n",
    "        'is_unbalance': True,\n",
    "        \"num_leaves\" : int(num_leaves),\n",
    "        \"max_depth\" : int(max_depth),\n",
    "        \"lambda_l2\" : lambda_l2,\n",
    "        \"lambda_l1\" : lambda_l1,\n",
    "        \"num_threads\" : 20,\n",
    "        \"min_child_samples\" : int(min_child_samples),\n",
    "        'min_data_in_leaf': int(min_data_in_leaf),\n",
    "        \"learning_rate\" : 0.03,\n",
    "        \"subsample_freq\" : 5,\n",
    "        \"verbosity\" : -1\n",
    "    }\n",
    "    lgtrain = lightgbm.Dataset(X_tr_scaled_UPDRS4, y_train.updrs_4)\n",
    "    cv_result = lightgbm.cv(params,\n",
    "                       lgtrain,\n",
    "                        num_boost_round=100,\n",
    "                       stratified=False,\n",
    "    callbacks=[\n",
    "      lightgbm.early_stopping(stopping_rounds=1000),\n",
    "    ], nfold=3)\n",
    "    return cv_result['valid rmse-mean'][-1]\n",
    "lgbBO = BayesianOptimization(lgb_eval,{'num_leaves': (25, 4000),\n",
    "                                                'max_depth': (5, 63),\n",
    "                                                'lambda_l2': (0.0, 0.05),\n",
    "                                                'lambda_l1': (0.0, 0.05),\n",
    "                                                'min_child_samples': (50, 10000),\n",
    "                                                'min_data_in_leaf': (100, 2000)\n",
    "                                                })\n",
    "\n",
    "lgbBO.maximize(n_iter=10, init_points=2)\n"
   ]
  },
  {
   "cell_type": "code",
   "execution_count": 24,
   "id": "27467c27",
   "metadata": {},
   "outputs": [
    {
     "data": {
      "text/plain": [
       "{'target': 5.926793395486719,\n",
       " 'params': {'lambda_l1': 0.035457163492870536,\n",
       "  'lambda_l2': 0.047927783077294145,\n",
       "  'max_depth': 61.791820568227806,\n",
       "  'min_child_samples': 7080.577155513798,\n",
       "  'min_data_in_leaf': 789.9894378533228,\n",
       "  'num_leaves': 626.1395586289303}}"
      ]
     },
     "execution_count": 24,
     "metadata": {},
     "output_type": "execute_result"
    }
   ],
   "source": [
    "lgbBO.max"
   ]
  },
  {
   "cell_type": "code",
   "execution_count": 25,
   "id": "bbccf2ee",
   "metadata": {},
   "outputs": [],
   "source": [
    "RMSE_lightgbm[\"UPDRS_3\"]=lgbBO.max[\"target\"]\n"
   ]
  },
  {
   "cell_type": "markdown",
   "id": "a8c02250",
   "metadata": {},
   "source": [
    "The best RMSE for UPDRS3 is 14.94"
   ]
  },
  {
   "cell_type": "markdown",
   "id": "0b56ff63",
   "metadata": {},
   "source": [
    "Now for UPDRS4 using light gbm for analysing performance of training data."
   ]
  },
  {
   "cell_type": "code",
   "execution_count": 26,
   "id": "9923c3a7",
   "metadata": {},
   "outputs": [
    {
     "name": "stdout",
     "output_type": "stream",
     "text": [
      "|   iter    |  target   | lambda_l1 | lambda_l2 | max_depth | min_ch... | min_da... | num_le... |\n",
      "-------------------------------------------------------------------------------------------------\n",
      "Training until validation scores don't improve for 1000 rounds\n",
      "Did not meet early stopping. Best iteration is:\n",
      "[1]\tcv_agg's valid rmse: 2.4313 + 0.216878\n",
      "| \u001b[0m1        \u001b[0m | \u001b[0m2.431    \u001b[0m | \u001b[0m0.0118   \u001b[0m | \u001b[0m0.04891  \u001b[0m | \u001b[0m42.13    \u001b[0m | \u001b[0m1.961e+03\u001b[0m | \u001b[0m1.675e+03\u001b[0m | \u001b[0m3.233e+03\u001b[0m |\n",
      "Training until validation scores don't improve for 1000 rounds\n",
      "Did not meet early stopping. Best iteration is:\n",
      "[1]\tcv_agg's valid rmse: 2.4313 + 0.216878\n",
      "| \u001b[0m2        \u001b[0m | \u001b[0m2.431    \u001b[0m | \u001b[0m0.01008  \u001b[0m | \u001b[0m0.03571  \u001b[0m | \u001b[0m37.14    \u001b[0m | \u001b[0m3.188e+03\u001b[0m | \u001b[0m678.2    \u001b[0m | \u001b[0m2.492e+03\u001b[0m |\n",
      "Training until validation scores don't improve for 1000 rounds\n",
      "Did not meet early stopping. Best iteration is:\n",
      "[1]\tcv_agg's valid rmse: 2.4313 + 0.216878\n",
      "| \u001b[0m3        \u001b[0m | \u001b[0m2.431    \u001b[0m | \u001b[0m0.001627 \u001b[0m | \u001b[0m0.01682  \u001b[0m | \u001b[0m50.13    \u001b[0m | \u001b[0m9.887e+03\u001b[0m | \u001b[0m1.955e+03\u001b[0m | \u001b[0m3.989e+03\u001b[0m |\n",
      "Training until validation scores don't improve for 1000 rounds\n",
      "Did not meet early stopping. Best iteration is:\n",
      "[1]\tcv_agg's valid rmse: 2.4313 + 0.216878\n",
      "| \u001b[0m4        \u001b[0m | \u001b[0m2.431    \u001b[0m | \u001b[0m9.59e-05 \u001b[0m | \u001b[0m0.03923  \u001b[0m | \u001b[0m22.57    \u001b[0m | \u001b[0m9.671e+03\u001b[0m | \u001b[0m1.874e+03\u001b[0m | \u001b[0m31.5     \u001b[0m |\n",
      "Training until validation scores don't improve for 1000 rounds\n",
      "Did not meet early stopping. Best iteration is:\n",
      "[1]\tcv_agg's valid rmse: 2.4313 + 0.216878\n",
      "| \u001b[0m5        \u001b[0m | \u001b[0m2.431    \u001b[0m | \u001b[0m0.0386   \u001b[0m | \u001b[0m0.01291  \u001b[0m | \u001b[0m48.17    \u001b[0m | \u001b[0m82.91    \u001b[0m | \u001b[0m816.1    \u001b[0m | \u001b[0m27.7     \u001b[0m |\n",
      "Training until validation scores don't improve for 1000 rounds\n",
      "Did not meet early stopping. Best iteration is:\n",
      "[100]\tcv_agg's valid rmse: 2.21882 + 0.174266\n",
      "| \u001b[0m6        \u001b[0m | \u001b[0m2.219    \u001b[0m | \u001b[0m0.03148  \u001b[0m | \u001b[0m0.02185  \u001b[0m | \u001b[0m31.36    \u001b[0m | \u001b[0m205.3    \u001b[0m | \u001b[0m130.9    \u001b[0m | \u001b[0m3.952e+03\u001b[0m |\n",
      "Training until validation scores don't improve for 1000 rounds\n",
      "Did not meet early stopping. Best iteration is:\n",
      "[1]\tcv_agg's valid rmse: 2.4313 + 0.216878\n",
      "| \u001b[0m7        \u001b[0m | \u001b[0m2.431    \u001b[0m | \u001b[0m0.006328 \u001b[0m | \u001b[0m0.001419 \u001b[0m | \u001b[0m45.36    \u001b[0m | \u001b[0m2.903e+03\u001b[0m | \u001b[0m795.8    \u001b[0m | \u001b[0m2.497e+03\u001b[0m |\n",
      "Training until validation scores don't improve for 1000 rounds\n",
      "Did not meet early stopping. Best iteration is:\n",
      "[1]\tcv_agg's valid rmse: 2.4313 + 0.216878\n",
      "| \u001b[0m8        \u001b[0m | \u001b[0m2.431    \u001b[0m | \u001b[0m0.005132 \u001b[0m | \u001b[0m0.024    \u001b[0m | \u001b[0m6.214    \u001b[0m | \u001b[0m2.745e+03\u001b[0m | \u001b[0m1.989e+03\u001b[0m | \u001b[0m116.6    \u001b[0m |\n",
      "Training until validation scores don't improve for 1000 rounds\n",
      "Did not meet early stopping. Best iteration is:\n",
      "[1]\tcv_agg's valid rmse: 2.4313 + 0.216878\n",
      "| \u001b[0m9        \u001b[0m | \u001b[0m2.431    \u001b[0m | \u001b[0m0.02052  \u001b[0m | \u001b[0m0.02441  \u001b[0m | \u001b[0m22.48    \u001b[0m | \u001b[0m9.33e+03 \u001b[0m | \u001b[0m674.2    \u001b[0m | \u001b[0m3.464e+03\u001b[0m |\n",
      "Training until validation scores don't improve for 1000 rounds\n",
      "Did not meet early stopping. Best iteration is:\n",
      "[1]\tcv_agg's valid rmse: 2.4313 + 0.216878\n",
      "| \u001b[0m10       \u001b[0m | \u001b[0m2.431    \u001b[0m | \u001b[0m0.01092  \u001b[0m | \u001b[0m0.006088 \u001b[0m | \u001b[0m55.78    \u001b[0m | \u001b[0m2.917e+03\u001b[0m | \u001b[0m777.7    \u001b[0m | \u001b[0m2.531e+03\u001b[0m |\n",
      "Training until validation scores don't improve for 1000 rounds\n",
      "Did not meet early stopping. Best iteration is:\n",
      "[1]\tcv_agg's valid rmse: 2.4313 + 0.216878\n",
      "| \u001b[0m11       \u001b[0m | \u001b[0m2.431    \u001b[0m | \u001b[0m0.004785 \u001b[0m | \u001b[0m0.03046  \u001b[0m | \u001b[0m38.23    \u001b[0m | \u001b[0m5.119e+03\u001b[0m | \u001b[0m1.989e+03\u001b[0m | \u001b[0m3.972e+03\u001b[0m |\n",
      "Training until validation scores don't improve for 1000 rounds\n",
      "Did not meet early stopping. Best iteration is:\n",
      "[100]\tcv_agg's valid rmse: 2.2816 + 0.141047\n",
      "| \u001b[0m12       \u001b[0m | \u001b[0m2.282    \u001b[0m | \u001b[0m0.003156 \u001b[0m | \u001b[0m0.0134   \u001b[0m | \u001b[0m11.69    \u001b[0m | \u001b[0m6.657e+03\u001b[0m | \u001b[0m147.3    \u001b[0m | \u001b[0m133.3    \u001b[0m |\n",
      "=================================================================================================\n"
     ]
    }
   ],
   "source": [
    "X_train_UPDRS4=X_train[features_UPDRS4.iloc[:,0].tolist()+[\"visit_month_diff_min\",\"visit_month\"]]\n",
    "X_tr_scaled_UPDRS4 = scaler.fit_transform(X_train_UPDRS4)\n",
    "def lgb_eval(num_leaves,max_depth,lambda_l2,lambda_l1,min_child_samples, min_data_in_leaf):\n",
    "    params = {\n",
    "        \"objective\" : \"regression\",\n",
    "        \"metric\" : \"RMSE\",\n",
    "        'is_unbalance': True,\n",
    "        \"num_leaves\" : int(num_leaves),\n",
    "        \"max_depth\" : int(max_depth),\n",
    "        \"lambda_l2\" : lambda_l2,\n",
    "        \"lambda_l1\" : lambda_l1,\n",
    "        \"num_threads\" : 20,\n",
    "        \"min_child_samples\" : int(min_child_samples),\n",
    "        'min_data_in_leaf': int(min_data_in_leaf),\n",
    "        \"learning_rate\" : 0.03,\n",
    "        \"subsample_freq\" : 5,\n",
    "        \"verbosity\" : -1\n",
    "    }\n",
    "    lgtrain = lightgbm.Dataset(X_tr_scaled_UPDRS4, y_train.updrs_4)\n",
    "    cv_result = lightgbm.cv(params,\n",
    "                       lgtrain,\n",
    "                        num_boost_round=100,\n",
    "                       stratified=False,\n",
    "    callbacks=[\n",
    "      lightgbm.early_stopping(stopping_rounds=1000),\n",
    "    ], nfold=3)\n",
    "    return cv_result['valid rmse-mean'][-1]\n",
    "lgbBO = BayesianOptimization(lgb_eval,{'num_leaves': (25, 4000),\n",
    "                                                'max_depth': (5, 63),\n",
    "                                                'lambda_l2': (0.0, 0.05),\n",
    "                                                'lambda_l1': (0.0, 0.05),\n",
    "                                                'min_child_samples': (50, 10000),\n",
    "                                                'min_data_in_leaf': (100, 2000)\n",
    "                                                })\n",
    "\n",
    "lgbBO.maximize(n_iter=10, init_points=2)\n",
    "\n"
   ]
  },
  {
   "cell_type": "code",
   "execution_count": 27,
   "id": "69a797c7",
   "metadata": {},
   "outputs": [
    {
     "name": "stdout",
     "output_type": "stream",
     "text": [
      "{'target': 2.4312964721402337, 'params': {'lambda_l1': 0.011797622311499563, 'lambda_l2': 0.0489110702424097, 'max_depth': 42.13032707410743, 'min_child_samples': 1960.846075329814, 'min_data_in_leaf': 1674.9644907790528, 'num_leaves': 3232.9345934308494}}\n"
     ]
    }
   ],
   "source": [
    "\n",
    "RMSE_lightgbm[\"UPDRS_4\"]=lgbBO.max[\"target\"]\n",
    "print(lgbBO.max)"
   ]
  },
  {
   "cell_type": "markdown",
   "id": "4e91cc3b",
   "metadata": {},
   "source": [
    "Best RMSE is 2.43."
   ]
  },
  {
   "cell_type": "markdown",
   "id": "4322934b",
   "metadata": {},
   "source": [
    "Let me see how elastic net regression performs in cross validation in RMSE using the same features that we used for prediction for each of the UPDRS scores. We will be doing five fold cross validation using grid search for hyper parameter tuning looking at different kernels and regularization parameter C. We can use do an exhaustive search using grid search looking at all possible combinations rather than a smart bayesian based approach as we have fewer parameters to tune."
   ]
  },
  {
   "cell_type": "code",
   "execution_count": 28,
   "id": "158b5b88",
   "metadata": {},
   "outputs": [],
   "source": [
    "def pred(x,y):\n",
    "    param_grid = {'C': [0.1, 1, 10], 'kernel': ['linear', 'rbf', 'poly']}\n",
    "    grid = GridSearchCV(SVC(), param_grid, refit = True, verbose = 3,scoring=\"neg_root_mean_squared_error\") \n",
    "  # fitting the models for grid search \n",
    "    grid.fit(x, y) \n",
    "    best_params = grid.best_params_\n",
    "    best_score = grid.best_score_\n",
    "    return(best_params,best_score)"
   ]
  },
  {
   "cell_type": "code",
   "execution_count": 49,
   "id": "5ca44129",
   "metadata": {},
   "outputs": [
    {
     "name": "stdout",
     "output_type": "stream",
     "text": [
      "Fitting 5 folds for each of 9 candidates, totalling 45 fits\n",
      "[CV 1/5] END .............C=0.1, kernel=linear;, score=-6.610 total time=   0.1s\n",
      "[CV 2/5] END .............C=0.1, kernel=linear;, score=-6.072 total time=   0.0s\n",
      "[CV 3/5] END .............C=0.1, kernel=linear;, score=-6.635 total time=   0.0s\n",
      "[CV 4/5] END .............C=0.1, kernel=linear;, score=-6.508 total time=   0.0s\n",
      "[CV 5/5] END .............C=0.1, kernel=linear;, score=-5.963 total time=   0.0s\n",
      "[CV 1/5] END ................C=0.1, kernel=rbf;, score=-7.741 total time=   0.1s\n",
      "[CV 2/5] END ................C=0.1, kernel=rbf;, score=-7.751 total time=   0.1s\n",
      "[CV 3/5] END ................C=0.1, kernel=rbf;, score=-7.929 total time=   0.1s\n",
      "[CV 4/5] END ................C=0.1, kernel=rbf;, score=-7.560 total time=   0.1s\n",
      "[CV 5/5] END ................C=0.1, kernel=rbf;, score=-7.540 total time=   0.1s\n",
      "[CV 1/5] END ...............C=0.1, kernel=poly;, score=-7.296 total time=   0.0s\n",
      "[CV 2/5] END ...............C=0.1, kernel=poly;, score=-7.448 total time=   0.0s\n",
      "[CV 3/5] END ...............C=0.1, kernel=poly;, score=-7.556 total time=   0.0s\n",
      "[CV 4/5] END ...............C=0.1, kernel=poly;, score=-7.341 total time=   0.0s\n",
      "[CV 5/5] END ...............C=0.1, kernel=poly;, score=-7.193 total time=   0.0s\n",
      "[CV 1/5] END ...............C=1, kernel=linear;, score=-6.095 total time=   0.1s\n",
      "[CV 2/5] END ...............C=1, kernel=linear;, score=-6.153 total time=   0.1s\n",
      "[CV 3/5] END ...............C=1, kernel=linear;, score=-6.276 total time=   0.1s\n",
      "[CV 4/5] END ...............C=1, kernel=linear;, score=-6.097 total time=   0.1s\n",
      "[CV 5/5] END ...............C=1, kernel=linear;, score=-6.134 total time=   0.1s\n",
      "[CV 1/5] END ..................C=1, kernel=rbf;, score=-6.403 total time=   0.1s\n",
      "[CV 2/5] END ..................C=1, kernel=rbf;, score=-6.236 total time=   0.1s\n",
      "[CV 3/5] END ..................C=1, kernel=rbf;, score=-6.303 total time=   0.1s\n",
      "[CV 4/5] END ..................C=1, kernel=rbf;, score=-6.307 total time=   0.1s\n",
      "[CV 5/5] END ..................C=1, kernel=rbf;, score=-6.416 total time=   0.1s\n",
      "[CV 1/5] END .................C=1, kernel=poly;, score=-7.138 total time=   0.0s\n",
      "[CV 2/5] END .................C=1, kernel=poly;, score=-6.875 total time=   0.0s\n",
      "[CV 3/5] END .................C=1, kernel=poly;, score=-7.367 total time=   0.0s\n",
      "[CV 4/5] END .................C=1, kernel=poly;, score=-7.042 total time=   0.0s\n",
      "[CV 5/5] END .................C=1, kernel=poly;, score=-6.770 total time=   0.0s\n",
      "[CV 1/5] END ..............C=10, kernel=linear;, score=-6.005 total time=   0.3s\n",
      "[CV 2/5] END ..............C=10, kernel=linear;, score=-6.098 total time=   0.2s\n",
      "[CV 3/5] END ..............C=10, kernel=linear;, score=-6.609 total time=   0.3s\n",
      "[CV 4/5] END ..............C=10, kernel=linear;, score=-6.124 total time=   0.3s\n",
      "[CV 5/5] END ..............C=10, kernel=linear;, score=-5.800 total time=   0.3s\n",
      "[CV 1/5] END .................C=10, kernel=rbf;, score=-6.361 total time=   0.1s\n",
      "[CV 2/5] END .................C=10, kernel=rbf;, score=-5.923 total time=   0.1s\n",
      "[CV 3/5] END .................C=10, kernel=rbf;, score=-6.744 total time=   0.1s\n",
      "[CV 4/5] END .................C=10, kernel=rbf;, score=-5.941 total time=   0.1s\n",
      "[CV 5/5] END .................C=10, kernel=rbf;, score=-5.847 total time=   0.1s\n",
      "[CV 1/5] END ................C=10, kernel=poly;, score=-6.221 total time=   0.1s\n",
      "[CV 2/5] END ................C=10, kernel=poly;, score=-6.220 total time=   0.1s\n",
      "[CV 3/5] END ................C=10, kernel=poly;, score=-6.719 total time=   0.1s\n",
      "[CV 4/5] END ................C=10, kernel=poly;, score=-5.899 total time=   0.1s\n",
      "[CV 5/5] END ................C=10, kernel=poly;, score=-5.892 total time=   0.1s\n"
     ]
    }
   ],
   "source": [
    "SVM_1=pred(X_tr_scaled_UPDRS1, y_train.updrs_1)"
   ]
  },
  {
   "cell_type": "code",
   "execution_count": 52,
   "id": "d8da1a7d",
   "metadata": {},
   "outputs": [
    {
     "name": "stdout",
     "output_type": "stream",
     "text": [
      "Fitting 5 folds for each of 9 candidates, totalling 45 fits\n",
      "[CV 1/5] END .............C=0.1, kernel=linear;, score=-6.657 total time=   0.1s\n",
      "[CV 2/5] END .............C=0.1, kernel=linear;, score=-6.594 total time=   0.0s\n",
      "[CV 3/5] END .............C=0.1, kernel=linear;, score=-6.570 total time=   0.0s\n",
      "[CV 4/5] END .............C=0.1, kernel=linear;, score=-5.945 total time=   0.0s\n",
      "[CV 5/5] END .............C=0.1, kernel=linear;, score=-6.342 total time=   0.0s\n",
      "[CV 1/5] END ................C=0.1, kernel=rbf;, score=-8.194 total time=   0.1s\n",
      "[CV 2/5] END ................C=0.1, kernel=rbf;, score=-8.314 total time=   0.1s\n",
      "[CV 3/5] END ................C=0.1, kernel=rbf;, score=-8.503 total time=   0.1s\n",
      "[CV 4/5] END ................C=0.1, kernel=rbf;, score=-8.356 total time=   0.1s\n",
      "[CV 5/5] END ................C=0.1, kernel=rbf;, score=-8.172 total time=   0.1s\n",
      "[CV 1/5] END ...............C=0.1, kernel=poly;, score=-8.088 total time=   0.0s\n",
      "[CV 2/5] END ...............C=0.1, kernel=poly;, score=-8.289 total time=   0.1s\n",
      "[CV 3/5] END ...............C=0.1, kernel=poly;, score=-8.260 total time=   0.0s\n",
      "[CV 4/5] END ...............C=0.1, kernel=poly;, score=-7.736 total time=   0.1s\n",
      "[CV 5/5] END ...............C=0.1, kernel=poly;, score=-8.108 total time=   0.1s\n",
      "[CV 1/5] END ...............C=1, kernel=linear;, score=-6.400 total time=   0.1s\n",
      "[CV 2/5] END ...............C=1, kernel=linear;, score=-6.683 total time=   0.1s\n",
      "[CV 3/5] END ...............C=1, kernel=linear;, score=-6.920 total time=   0.1s\n",
      "[CV 4/5] END ...............C=1, kernel=linear;, score=-5.723 total time=   0.1s\n",
      "[CV 5/5] END ...............C=1, kernel=linear;, score=-6.727 total time=   0.1s\n",
      "[CV 1/5] END ..................C=1, kernel=rbf;, score=-6.951 total time=   0.1s\n",
      "[CV 2/5] END ..................C=1, kernel=rbf;, score=-6.656 total time=   0.1s\n",
      "[CV 3/5] END ..................C=1, kernel=rbf;, score=-7.095 total time=   0.1s\n",
      "[CV 4/5] END ..................C=1, kernel=rbf;, score=-6.964 total time=   0.1s\n",
      "[CV 5/5] END ..................C=1, kernel=rbf;, score=-6.876 total time=   0.1s\n",
      "[CV 1/5] END .................C=1, kernel=poly;, score=-7.979 total time=   0.1s\n",
      "[CV 2/5] END .................C=1, kernel=poly;, score=-8.055 total time=   0.1s\n",
      "[CV 3/5] END .................C=1, kernel=poly;, score=-7.889 total time=   0.1s\n",
      "[CV 4/5] END .................C=1, kernel=poly;, score=-7.585 total time=   0.1s\n",
      "[CV 5/5] END .................C=1, kernel=poly;, score=-7.782 total time=   0.1s\n",
      "[CV 1/5] END ..............C=10, kernel=linear;, score=-7.005 total time=   0.5s\n",
      "[CV 2/5] END ..............C=10, kernel=linear;, score=-6.901 total time=   0.5s\n",
      "[CV 3/5] END ..............C=10, kernel=linear;, score=-7.060 total time=   0.5s\n",
      "[CV 4/5] END ..............C=10, kernel=linear;, score=-6.916 total time=   0.5s\n",
      "[CV 5/5] END ..............C=10, kernel=linear;, score=-6.479 total time=   0.4s\n",
      "[CV 1/5] END .................C=10, kernel=rbf;, score=-6.488 total time=   0.1s\n",
      "[CV 2/5] END .................C=10, kernel=rbf;, score=-6.384 total time=   0.1s\n",
      "[CV 3/5] END .................C=10, kernel=rbf;, score=-7.022 total time=   0.1s\n",
      "[CV 4/5] END .................C=10, kernel=rbf;, score=-6.110 total time=   0.1s\n",
      "[CV 5/5] END .................C=10, kernel=rbf;, score=-6.064 total time=   0.1s\n",
      "[CV 1/5] END ................C=10, kernel=poly;, score=-7.195 total time=   0.1s\n",
      "[CV 2/5] END ................C=10, kernel=poly;, score=-7.328 total time=   0.1s\n",
      "[CV 3/5] END ................C=10, kernel=poly;, score=-7.519 total time=   0.1s\n",
      "[CV 4/5] END ................C=10, kernel=poly;, score=-6.789 total time=   0.1s\n",
      "[CV 5/5] END ................C=10, kernel=poly;, score=-7.293 total time=   0.1s\n"
     ]
    }
   ],
   "source": [
    "SVM_updrs2=pred(X_tr_scaled_UPDRS2, y_train.updrs_2)"
   ]
  },
  {
   "cell_type": "code",
   "execution_count": 51,
   "id": "9fb6e4cb",
   "metadata": {},
   "outputs": [
    {
     "name": "stdout",
     "output_type": "stream",
     "text": [
      "Fitting 5 folds for each of 9 candidates, totalling 45 fits\n",
      "[CV 1/5] END ............C=0.1, kernel=linear;, score=-13.557 total time=   0.1s\n",
      "[CV 2/5] END ............C=0.1, kernel=linear;, score=-14.120 total time=   0.1s\n",
      "[CV 3/5] END ............C=0.1, kernel=linear;, score=-14.274 total time=   0.1s\n",
      "[CV 4/5] END ............C=0.1, kernel=linear;, score=-12.144 total time=   0.1s\n",
      "[CV 5/5] END ............C=0.1, kernel=linear;, score=-14.439 total time=   0.1s\n",
      "[CV 1/5] END ...............C=0.1, kernel=rbf;, score=-22.653 total time=   0.1s\n",
      "[CV 2/5] END ...............C=0.1, kernel=rbf;, score=-23.443 total time=   0.1s\n",
      "[CV 3/5] END ...............C=0.1, kernel=rbf;, score=-23.063 total time=   0.1s\n",
      "[CV 4/5] END ...............C=0.1, kernel=rbf;, score=-22.485 total time=   0.1s\n",
      "[CV 5/5] END ...............C=0.1, kernel=rbf;, score=-22.693 total time=   0.1s\n",
      "[CV 1/5] END ..............C=0.1, kernel=poly;, score=-22.284 total time=   0.1s\n",
      "[CV 2/5] END ..............C=0.1, kernel=poly;, score=-23.116 total time=   0.1s\n",
      "[CV 3/5] END ..............C=0.1, kernel=poly;, score=-21.834 total time=   0.1s\n",
      "[CV 4/5] END ..............C=0.1, kernel=poly;, score=-22.119 total time=   0.1s\n",
      "[CV 5/5] END ..............C=0.1, kernel=poly;, score=-22.665 total time=   0.1s\n",
      "[CV 1/5] END ..............C=1, kernel=linear;, score=-15.313 total time=   0.1s\n",
      "[CV 2/5] END ..............C=1, kernel=linear;, score=-13.325 total time=   0.1s\n",
      "[CV 3/5] END ..............C=1, kernel=linear;, score=-15.770 total time=   0.1s\n",
      "[CV 4/5] END ..............C=1, kernel=linear;, score=-12.689 total time=   0.1s\n",
      "[CV 5/5] END ..............C=1, kernel=linear;, score=-13.080 total time=   0.1s\n",
      "[CV 1/5] END .................C=1, kernel=rbf;, score=-18.685 total time=   0.1s\n",
      "[CV 2/5] END .................C=1, kernel=rbf;, score=-18.113 total time=   0.1s\n",
      "[CV 3/5] END .................C=1, kernel=rbf;, score=-18.080 total time=   0.1s\n",
      "[CV 4/5] END .................C=1, kernel=rbf;, score=-16.931 total time=   0.1s\n",
      "[CV 5/5] END .................C=1, kernel=rbf;, score=-18.733 total time=   0.1s\n",
      "[CV 1/5] END ................C=1, kernel=poly;, score=-21.721 total time=   0.1s\n",
      "[CV 2/5] END ................C=1, kernel=poly;, score=-22.548 total time=   0.1s\n",
      "[CV 3/5] END ................C=1, kernel=poly;, score=-21.592 total time=   0.1s\n",
      "[CV 4/5] END ................C=1, kernel=poly;, score=-21.163 total time=   0.1s\n",
      "[CV 5/5] END ................C=1, kernel=poly;, score=-21.889 total time=   0.1s\n",
      "[CV 1/5] END .............C=10, kernel=linear;, score=-15.367 total time=   0.3s\n",
      "[CV 2/5] END .............C=10, kernel=linear;, score=-13.873 total time=   0.3s\n",
      "[CV 3/5] END .............C=10, kernel=linear;, score=-17.191 total time=   0.2s\n",
      "[CV 4/5] END .............C=10, kernel=linear;, score=-13.710 total time=   0.3s\n",
      "[CV 5/5] END .............C=10, kernel=linear;, score=-15.048 total time=   0.3s\n",
      "[CV 1/5] END ................C=10, kernel=rbf;, score=-14.318 total time=   0.1s\n",
      "[CV 2/5] END ................C=10, kernel=rbf;, score=-13.566 total time=   0.1s\n",
      "[CV 3/5] END ................C=10, kernel=rbf;, score=-15.211 total time=   0.1s\n",
      "[CV 4/5] END ................C=10, kernel=rbf;, score=-12.851 total time=   0.1s\n",
      "[CV 5/5] END ................C=10, kernel=rbf;, score=-13.268 total time=   0.1s\n",
      "[CV 1/5] END ...............C=10, kernel=poly;, score=-17.640 total time=   0.1s\n",
      "[CV 2/5] END ...............C=10, kernel=poly;, score=-18.555 total time=   0.1s\n",
      "[CV 3/5] END ...............C=10, kernel=poly;, score=-19.288 total time=   0.1s\n",
      "[CV 4/5] END ...............C=10, kernel=poly;, score=-18.334 total time=   0.1s\n",
      "[CV 5/5] END ...............C=10, kernel=poly;, score=-19.200 total time=   0.1s\n"
     ]
    }
   ],
   "source": [
    "SVM_updrs3=pred(X_tr_scaled_UPDRS3, y_train.updrs_3)"
   ]
  },
  {
   "cell_type": "code",
   "execution_count": 50,
   "id": "4805dfa1",
   "metadata": {},
   "outputs": [
    {
     "name": "stdout",
     "output_type": "stream",
     "text": [
      "Fitting 5 folds for each of 9 candidates, totalling 45 fits\n",
      "[CV 1/5] END .............C=0.1, kernel=linear;, score=-2.676 total time=   0.0s\n",
      "[CV 2/5] END .............C=0.1, kernel=linear;, score=-2.880 total time=   0.0s\n",
      "[CV 3/5] END .............C=0.1, kernel=linear;, score=-2.630 total time=   0.0s\n",
      "[CV 4/5] END .............C=0.1, kernel=linear;, score=-2.441 total time=   0.0s\n",
      "[CV 5/5] END .............C=0.1, kernel=linear;, score=-2.560 total time=   0.0s\n",
      "[CV 1/5] END ................C=0.1, kernel=rbf;, score=-2.676 total time=   0.0s\n",
      "[CV 2/5] END ................C=0.1, kernel=rbf;, score=-2.880 total time=   0.0s\n",
      "[CV 3/5] END ................C=0.1, kernel=rbf;, score=-2.630 total time=   0.0s\n",
      "[CV 4/5] END ................C=0.1, kernel=rbf;, score=-2.441 total time=   0.0s\n",
      "[CV 5/5] END ................C=0.1, kernel=rbf;, score=-2.560 total time=   0.0s\n",
      "[CV 1/5] END ...............C=0.1, kernel=poly;, score=-2.676 total time=   0.0s\n",
      "[CV 2/5] END ...............C=0.1, kernel=poly;, score=-2.880 total time=   0.0s\n",
      "[CV 3/5] END ...............C=0.1, kernel=poly;, score=-2.630 total time=   0.0s\n",
      "[CV 4/5] END ...............C=0.1, kernel=poly;, score=-2.441 total time=   0.0s\n",
      "[CV 5/5] END ...............C=0.1, kernel=poly;, score=-2.560 total time=   0.0s\n",
      "[CV 1/5] END ...............C=1, kernel=linear;, score=-2.676 total time=   0.0s\n",
      "[CV 2/5] END ...............C=1, kernel=linear;, score=-2.880 total time=   0.0s\n",
      "[CV 3/5] END ...............C=1, kernel=linear;, score=-2.630 total time=   0.0s\n",
      "[CV 4/5] END ...............C=1, kernel=linear;, score=-2.441 total time=   0.0s\n",
      "[CV 5/5] END ...............C=1, kernel=linear;, score=-2.560 total time=   0.0s\n",
      "[CV 1/5] END ..................C=1, kernel=rbf;, score=-2.676 total time=   0.0s\n",
      "[CV 2/5] END ..................C=1, kernel=rbf;, score=-2.880 total time=   0.0s\n",
      "[CV 3/5] END ..................C=1, kernel=rbf;, score=-2.630 total time=   0.0s\n",
      "[CV 4/5] END ..................C=1, kernel=rbf;, score=-2.441 total time=   0.0s\n",
      "[CV 5/5] END ..................C=1, kernel=rbf;, score=-2.560 total time=   0.0s\n",
      "[CV 1/5] END .................C=1, kernel=poly;, score=-2.829 total time=   0.0s\n",
      "[CV 2/5] END .................C=1, kernel=poly;, score=-2.801 total time=   0.0s\n",
      "[CV 3/5] END .................C=1, kernel=poly;, score=-2.630 total time=   0.0s\n",
      "[CV 4/5] END .................C=1, kernel=poly;, score=-2.441 total time=   0.0s\n",
      "[CV 5/5] END .................C=1, kernel=poly;, score=-2.560 total time=   0.0s\n",
      "[CV 1/5] END ..............C=10, kernel=linear;, score=-2.676 total time=   0.0s\n",
      "[CV 2/5] END ..............C=10, kernel=linear;, score=-2.880 total time=   0.0s\n",
      "[CV 3/5] END ..............C=10, kernel=linear;, score=-2.630 total time=   0.0s\n",
      "[CV 4/5] END ..............C=10, kernel=linear;, score=-2.441 total time=   0.0s\n",
      "[CV 5/5] END ..............C=10, kernel=linear;, score=-2.560 total time=   0.0s\n",
      "[CV 1/5] END .................C=10, kernel=rbf;, score=-2.686 total time=   0.1s\n",
      "[CV 2/5] END .................C=10, kernel=rbf;, score=-2.801 total time=   0.0s\n",
      "[CV 3/5] END .................C=10, kernel=rbf;, score=-2.630 total time=   0.1s\n",
      "[CV 4/5] END .................C=10, kernel=rbf;, score=-2.429 total time=   0.1s\n",
      "[CV 5/5] END .................C=10, kernel=rbf;, score=-2.528 total time=   0.1s\n",
      "[CV 1/5] END ................C=10, kernel=poly;, score=-2.817 total time=   0.1s\n",
      "[CV 2/5] END ................C=10, kernel=poly;, score=-2.801 total time=   0.1s\n",
      "[CV 3/5] END ................C=10, kernel=poly;, score=-2.652 total time=   0.1s\n",
      "[CV 4/5] END ................C=10, kernel=poly;, score=-2.488 total time=   0.1s\n",
      "[CV 5/5] END ................C=10, kernel=poly;, score=-2.486 total time=   0.1s\n"
     ]
    }
   ],
   "source": [
    "SVM_4=pred(X_tr_scaled_UPDRS4, y_train.updrs_4)"
   ]
  },
  {
   "cell_type": "code",
   "execution_count": 54,
   "id": "1de9ba31",
   "metadata": {},
   "outputs": [
    {
     "ename": "NameError",
     "evalue": "name 'SVM_3' is not defined",
     "output_type": "error",
     "traceback": [
      "\u001b[0;31m---------------------------------------------------------------------------\u001b[0m",
      "\u001b[0;31mNameError\u001b[0m                                 Traceback (most recent call last)",
      "Input \u001b[0;32mIn [54]\u001b[0m, in \u001b[0;36m<cell line: 1>\u001b[0;34m()\u001b[0m\n\u001b[0;32m----> 1\u001b[0m RMSE_SVM\u001b[38;5;241m=\u001b[39m{\u001b[38;5;124m\"\u001b[39m\u001b[38;5;124mUPDRS_1\u001b[39m\u001b[38;5;124m\"\u001b[39m:SVM_1[\u001b[38;5;241m1\u001b[39m],\u001b[38;5;124m\"\u001b[39m\u001b[38;5;124mUPDRS_2\u001b[39m\u001b[38;5;124m\"\u001b[39m:SVM_2[\u001b[38;5;241m1\u001b[39m],\u001b[38;5;124m\"\u001b[39m\u001b[38;5;124mUPDRS_3\u001b[39m\u001b[38;5;124m\"\u001b[39m:\u001b[43mSVM_3\u001b[49m[\u001b[38;5;241m1\u001b[39m],\u001b[38;5;124m\"\u001b[39m\u001b[38;5;124mUPDRS_4\u001b[39m\u001b[38;5;124m\"\u001b[39m:SVM_4[\u001b[38;5;241m1\u001b[39m]}\n\u001b[1;32m      2\u001b[0m \u001b[38;5;28mprint\u001b[39m(RMSE_SVM)\n",
      "\u001b[0;31mNameError\u001b[0m: name 'SVM_3' is not defined"
     ]
    }
   ],
   "source": [
    "RMSE_SVM={\"UPDRS_1\":SVM_1[1],\"UPDRS_2\":SVM_2[1],\"UPDRS_3\":SVM_3[1],\"UPDRS_4\":SVM_4[1]}\n",
    "print(RMSE_SVM)"
   ]
  },
  {
   "cell_type": "markdown",
   "id": "2c4a1ab9",
   "metadata": {},
   "source": [
    "Compare RMSE of light gbm with SVM"
   ]
  },
  {
   "cell_type": "code",
   "execution_count": 45,
   "id": "216a5f81",
   "metadata": {},
   "outputs": [
    {
     "name": "stdout",
     "output_type": "stream",
     "text": [
      "{'UPDRS_1': 5.32832278411098, 'UPDRS_2': 5.926793395486719, 'UPDRS_3': 5.926793395486719, 'UPDRS_4': 2.4312964721402337}\n"
     ]
    }
   ],
   "source": [
    "print(RMSE_lightgbm)"
   ]
  },
  {
   "cell_type": "markdown",
   "id": "56fa0d76",
   "metadata": {},
   "source": [
    "The RMSE for light gbm is much smaller than SVM and light gbm should be the model used on the test dataset."
   ]
  }
 ],
 "metadata": {
  "kernelspec": {
   "display_name": "Python 3 (ipykernel)",
   "language": "python",
   "name": "python3"
  },
  "language_info": {
   "codemirror_mode": {
    "name": "ipython",
    "version": 3
   },
   "file_extension": ".py",
   "mimetype": "text/x-python",
   "name": "python",
   "nbconvert_exporter": "python",
   "pygments_lexer": "ipython3",
   "version": "3.9.18"
  }
 },
 "nbformat": 4,
 "nbformat_minor": 5
}
