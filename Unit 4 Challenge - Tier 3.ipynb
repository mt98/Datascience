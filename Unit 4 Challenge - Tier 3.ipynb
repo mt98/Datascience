{
 "cells": [
  {
   "cell_type": "markdown",
   "metadata": {
    "colab_type": "text",
    "id": "Tia3MP1SJpgj"
   },
   "source": [
    "# Springboard Data Science Career Track Unit 4 Challenge - Tier 3 Complete\n",
    "\n",
    "## Objectives\n",
    "Hey! Great job getting through those challenging DataCamp courses. You're learning a lot in a short span of time. \n",
    "\n",
    "In this notebook, you're going to apply the skills you've been learning, bridging the gap between the controlled environment of DataCamp and the *slightly* messier work that data scientists do with actual datasets!\n",
    "\n",
    "Here’s the mystery we’re going to solve: ***which boroughs of London have seen the greatest increase in housing prices, on average, over the last two decades?***\n",
    "\n",
    "\n",
    "A borough is just a fancy word for district. You may be familiar with the five boroughs of New York… well, there are 32 boroughs within Greater London [(here's some info for the curious)](https://en.wikipedia.org/wiki/London_boroughs). Some of them are more desirable areas to live in, and the data will reflect that with a greater rise in housing prices.\n",
    "\n",
    "***This is the Tier 3 notebook, which means it's not filled in at all: we'll just give you the skeleton of a project, the brief and the data. It's up to you to play around with it and see what you can find out! Good luck! If you struggle, feel free to look at easier tiers for help; but try to dip in and out of them, as the more independent work you do, the better it is for your learning!***\n",
    "\n",
    "This challenge will make use of only what you learned in the following DataCamp courses: \n",
    "- Prework courses (Introduction to Python for Data Science, Intermediate Python for Data Science)\n",
    "- Data Types for Data Science\n",
    "- Python Data Science Toolbox (Part One) \n",
    "- pandas Foundations\n",
    "- Manipulating DataFrames with pandas\n",
    "- Merging DataFrames with pandas\n",
    "\n",
    "Of the tools, techniques and concepts in the above DataCamp courses, this challenge should require the application of the following: \n",
    "- **pandas**\n",
    "    - **data ingestion and inspection** (pandas Foundations, Module One) \n",
    "    - **exploratory data analysis** (pandas Foundations, Module Two)\n",
    "    - **tidying and cleaning** (Manipulating DataFrames with pandas, Module Three) \n",
    "    - **transforming DataFrames** (Manipulating DataFrames with pandas, Module One)\n",
    "    - **subsetting DataFrames with lists** (Manipulating DataFrames with pandas, Module One) \n",
    "    - **filtering DataFrames** (Manipulating DataFrames with pandas, Module One) \n",
    "    - **grouping data** (Manipulating DataFrames with pandas, Module Four) \n",
    "    - **melting data** (Manipulating DataFrames with pandas, Module Three) \n",
    "    - **advanced indexing** (Manipulating DataFrames with pandas, Module Four) \n",
    "- **matplotlib** (Intermediate Python for Data Science, Module One)\n",
    "- **fundamental data types** (Data Types for Data Science, Module One) \n",
    "- **dictionaries** (Intermediate Python for Data Science, Module Two)\n",
    "- **handling dates and times** (Data Types for Data Science, Module Four)\n",
    "- **function definition** (Python Data Science Toolbox - Part One, Module One)\n",
    "- **default arguments, variable length, and scope** (Python Data Science Toolbox - Part One, Module Two) \n",
    "- **lambda functions and error handling** (Python Data Science Toolbox - Part One, Module Four) "
   ]
  },
  {
   "cell_type": "markdown",
   "metadata": {
    "colab_type": "text",
    "id": "Ipgd2nV8Jpgl"
   },
   "source": [
    "## The Data Science Pipeline\n",
    "\n",
    "This is Tier Three, so we'll get you started. But after that, it's all in your hands! When you feel done with your investigations, look back over what you've accomplished, and prepare a quick presentation of your findings for the next mentor meeting. \n",
    "\n",
    "Data Science is magical. In this case study, you'll get to apply some complex machine learning algorithms. But as  [David Spiegelhalter](https://www.youtube.com/watch?v=oUs1uvsz0Ok) reminds us, there is no substitute for simply **taking a really, really good look at the data.** Sometimes, this is all we need to answer our question.\n",
    "\n",
    "Data Science projects generally adhere to the four stages of Data Science Pipeline:\n",
    "1. Sourcing and loading \n",
    "2. Cleaning, transforming, and visualizing \n",
    "3. Modeling \n",
    "4. Evaluating and concluding \n"
   ]
  },
  {
   "cell_type": "markdown",
   "metadata": {
    "colab_type": "text",
    "id": "zswDqbefJpgm"
   },
   "source": [
    "### 1. Sourcing and Loading \n",
    "\n",
    "Any Data Science project kicks off by importing  ***pandas***. The documentation of this wonderful library can be found [here](https://pandas.pydata.org/). As you've seen, pandas is conveniently connected to the [Numpy](http://www.numpy.org/) and [Matplotlib](https://matplotlib.org/) libraries. \n",
    "\n",
    "***Hint:*** This part of the data science pipeline will test those skills you acquired in the pandas Foundations course, Module One. "
   ]
  },
  {
   "cell_type": "markdown",
   "metadata": {
    "colab_type": "text",
    "id": "aEau5nEvJpgm"
   },
   "source": [
    "#### 1.1. Importing Libraries"
   ]
  },
  {
   "cell_type": "code",
   "execution_count": 38,
   "metadata": {
    "colab": {},
    "colab_type": "code",
    "id": "7Bt_Q_oPJpgn"
   },
   "outputs": [],
   "source": [
    "# Let's import the pandas, numpy libraries as pd, and np respectively. \n",
    "import pandas as pd\n",
    "import numpy as np\n",
    "import requests\n",
    "# Load the pyplot collection of functions from matplotlib, as plt \n",
    "from matplotlib import pyplot as plt\n",
    "from io import BytesIO\n",
    "\n",
    "\n"
   ]
  },
  {
   "cell_type": "markdown",
   "metadata": {
    "colab_type": "text",
    "id": "koUrawxsJpgq"
   },
   "source": [
    "#### 1.2.  Loading the data\n",
    "Your data comes from the [London Datastore](https://data.london.gov.uk/): a free, open-source data-sharing portal for London-oriented datasets. "
   ]
  },
  {
   "cell_type": "code",
   "execution_count": 39,
   "metadata": {
    "colab": {},
    "colab_type": "code",
    "id": "AiLiD4v3Jpgr"
   },
   "outputs": [],
   "source": [
    "# First, make a variable called url_LondonHousePrices, and assign it the following link, enclosed in quotation-marks as a string:\n",
    "# https://data.london.gov.uk/download/uk-house-price-index/70ac0766-8902-4eb5-aab5-01951aaed773/UK%20House%20price%20index.xls\n",
    "\n",
    "url_LondonHousePrices = \"https://data.london.gov.uk/download/uk-house-price-index/70ac0766-8902-4eb5-aab5-01951aaed773/UK%20House%20price%20index.xls\"\n",
    "\n",
    "# The dataset we're interested in contains the Average prices of the houses, and is actually on a particular sheet of the Excel file. \n",
    "# As a result, we need to specify the sheet name in the read_excel() method.\n",
    "# Put this data into a variable called properties.  \n",
    "\n",
    "london=requests.get(url_LondonHousePrices)\n",
    "with BytesIO(london.content) as fh:\n",
    "    properties = pd.read_excel(fh, sheet_name='Average price', index_col= None)"
   ]
  },
  {
   "cell_type": "markdown",
   "metadata": {
    "colab_type": "text",
    "id": "POukEJXgJpgu"
   },
   "source": [
    "### 2. Cleaning, transforming, and visualizing\n",
    "This second stage is arguably the most important part of any Data Science project. The first thing to do is take a proper look at the \n",
    "data. Cleaning forms the majority of this stage, and can be done both before or after Transformation.\n",
    "\n",
    "The end goal of data cleaning is to have tidy data. When data is tidy: \n",
    "\n",
    "1. Each variable has a column.\n",
    "2. Each observation forms a row.\n",
    "\n",
    "Keep the end goal in mind as you move through this process, every step will take you closer. \n",
    "\n",
    "\n",
    "\n",
    "***Hint:*** This part of the data science pipeline should test those skills you acquired in: \n",
    "- Intermediate Python for data science, all modules.\n",
    "- pandas Foundations, all modules. \n",
    "- Manipulating DataFrames with pandas, all modules.\n",
    "- Data Types for Data Science, Module Four.\n",
    "- Python Data Science Toolbox - Part One, all modules"
   ]
  },
  {
   "cell_type": "markdown",
   "metadata": {
    "colab_type": "text",
    "id": "Te0Q548tnzZa"
   },
   "source": [
    "**2.1. Exploring your data** \n",
    "\n",
    "Think about your pandas functions for checking out a dataframe. "
   ]
  },
  {
   "cell_type": "code",
   "execution_count": 40,
   "metadata": {
    "colab": {},
    "colab_type": "code",
    "id": "Rxirxw_qoAJa"
   },
   "outputs": [
    {
     "data": {
      "text/plain": [
       "<bound method DataFrame.info of     Unnamed: 0 City of London Barking & Dagenham       Barnet       Bexley  \\\n",
       "0          NaT      E09000001          E09000002    E09000003    E09000004   \n",
       "1   1995-01-01    91448.98487         50460.2266  93284.51832  64958.09036   \n",
       "2   1995-02-01    82202.77314        51085.77983  93190.16963  64787.92069   \n",
       "3   1995-03-01    79120.70256        51268.96956  92247.52435  64367.49344   \n",
       "4   1995-04-01    77101.20804        53133.50526  90762.87492  64277.66881   \n",
       "..         ...            ...                ...          ...          ...   \n",
       "338 2023-02-01         859323             344414       601278       400870   \n",
       "339 2023-03-01         910666             343709       593957       399844   \n",
       "340 2023-04-01         908299             350872       586289       402319   \n",
       "341 2023-05-01         978395             353925       575131       398450   \n",
       "342 2023-06-01        1001644             347148       574285       396025   \n",
       "\n",
       "           Brent      Bromley       Camden      Croydon       Ealing  ...  \\\n",
       "0      E09000005    E09000006    E09000007    E09000008    E09000009  ...   \n",
       "1    71306.56698  81671.47692  120932.8881  69158.16225  79885.89069  ...   \n",
       "2    72022.26197  81657.55944  119508.8622  68951.09542  80897.06551  ...   \n",
       "3    72015.76274  81449.31143  120282.2131  68712.44341  81379.86288  ...   \n",
       "4    72965.63094  81124.41227   120097.899  68610.04641  82188.90498  ...   \n",
       "..           ...          ...          ...          ...          ...  ...   \n",
       "338       535593       504830       863956       427751       540003  ...   \n",
       "339       529308       500870       854754       420323       527516  ...   \n",
       "340       532286       504246       878850       414731       530674  ...   \n",
       "341       531523       505519       854930       411490       530012  ...   \n",
       "342       541559       505758       880889       410784       536338  ...   \n",
       "\n",
       "      NORTH WEST YORKS & THE HUMBER EAST MIDLANDS WEST MIDLANDS  \\\n",
       "0      E12000002          E12000003     E12000004     E12000005   \n",
       "1    43958.48001        44803.42878   45544.52227   48527.52339   \n",
       "2    43925.42289        44528.80721   46051.57066   49341.29029   \n",
       "3     44434.8681        45200.46775   45383.82395   49442.17973   \n",
       "4     44267.7796        45614.34341   46124.23045   49455.93299   \n",
       "..           ...                ...           ...           ...   \n",
       "338       212168             205740        246996        253361   \n",
       "339       209855             203302        245907        243795   \n",
       "340       211738             205012        245788        245639   \n",
       "341       212970             204662        245439        248954   \n",
       "342       215631             208867        248678        250743   \n",
       "\n",
       "    EAST OF ENGLAND       LONDON   SOUTH EAST   SOUTH WEST Unnamed: 47  \\\n",
       "0         E12000006    E12000007    E12000008    E12000009         NaN   \n",
       "1        56701.5961  74435.76052  64018.87894   54705.1579         NaN   \n",
       "2       56593.59475  72777.93709  63715.02399  54356.14843         NaN   \n",
       "3       56171.18278  73896.84204  64113.60858  53583.07667         NaN   \n",
       "4       56567.89582  74455.28754  64623.22395  54786.01938         NaN   \n",
       "..              ...          ...          ...          ...         ...   \n",
       "338          355292       529715       390810       325271         NaN   \n",
       "339          350570       521321       391992       325445         NaN   \n",
       "340          347769       531282       390925       323685         NaN   \n",
       "341          346711       525327       389216       322803         NaN   \n",
       "342          351213       527979       391406       321152         NaN   \n",
       "\n",
       "         England  \n",
       "0      E92000001  \n",
       "1    53202.77128  \n",
       "2     53096.1549  \n",
       "3     53201.2843  \n",
       "4     53590.8548  \n",
       "..           ...  \n",
       "338       305859  \n",
       "339       302772  \n",
       "340       304102  \n",
       "341       303671  \n",
       "342       306447  \n",
       "\n",
       "[343 rows x 49 columns]>"
      ]
     },
     "execution_count": 40,
     "metadata": {},
     "output_type": "execute_result"
    }
   ],
   "source": [
    "properties.head()\n",
    "properties.shape\n",
    "properties.info"
   ]
  },
  {
   "cell_type": "markdown",
   "metadata": {
    "colab_type": "text",
    "id": "tE9Sqt9-oAta"
   },
   "source": [
    "**2.2. Cleaning the data**\n",
    "\n",
    "You might find you need to transpose your dataframe, check out what its row indexes are, and reset the index. You  also might find you need to assign the values of the first row to your column headings  . (Hint: recall the .columns feature of DataFrames, as well as the iloc[] method).\n",
    "\n",
    "Don't be afraid to use StackOverflow for help  with this."
   ]
  },
  {
   "cell_type": "code",
   "execution_count": 40,
   "metadata": {
    "colab": {},
    "colab_type": "code",
    "id": "cdAu1A3YoH_r",
    "scrolled": true
   },
   "outputs": [
    {
     "data": {
      "text/html": [
       "<div>\n",
       "<style scoped>\n",
       "    .dataframe tbody tr th:only-of-type {\n",
       "        vertical-align: middle;\n",
       "    }\n",
       "\n",
       "    .dataframe tbody tr th {\n",
       "        vertical-align: top;\n",
       "    }\n",
       "\n",
       "    .dataframe thead th {\n",
       "        text-align: right;\n",
       "    }\n",
       "</style>\n",
       "<table border=\"1\" class=\"dataframe\">\n",
       "  <thead>\n",
       "    <tr style=\"text-align: right;\">\n",
       "      <th></th>\n",
       "      <th>Unnamed: 0</th>\n",
       "      <th>NaT</th>\n",
       "      <th>1995-01-01 00:00:00</th>\n",
       "      <th>1995-02-01 00:00:00</th>\n",
       "      <th>1995-03-01 00:00:00</th>\n",
       "      <th>1995-04-01 00:00:00</th>\n",
       "      <th>1995-05-01 00:00:00</th>\n",
       "      <th>1995-06-01 00:00:00</th>\n",
       "      <th>1995-07-01 00:00:00</th>\n",
       "      <th>1995-08-01 00:00:00</th>\n",
       "      <th>...</th>\n",
       "      <th>2022-09-01 00:00:00</th>\n",
       "      <th>2022-10-01 00:00:00</th>\n",
       "      <th>2022-11-01 00:00:00</th>\n",
       "      <th>2022-12-01 00:00:00</th>\n",
       "      <th>2023-01-01 00:00:00</th>\n",
       "      <th>2023-02-01 00:00:00</th>\n",
       "      <th>2023-03-01 00:00:00</th>\n",
       "      <th>2023-04-01 00:00:00</th>\n",
       "      <th>2023-05-01 00:00:00</th>\n",
       "      <th>2023-06-01 00:00:00</th>\n",
       "    </tr>\n",
       "  </thead>\n",
       "  <tbody>\n",
       "    <tr>\n",
       "      <th>1</th>\n",
       "      <td>City of London</td>\n",
       "      <td>E09000001</td>\n",
       "      <td>91448.98487</td>\n",
       "      <td>82202.77314</td>\n",
       "      <td>79120.70256</td>\n",
       "      <td>77101.20804</td>\n",
       "      <td>84409.14932</td>\n",
       "      <td>94900.51244</td>\n",
       "      <td>110128.0423</td>\n",
       "      <td>112329.4376</td>\n",
       "      <td>...</td>\n",
       "      <td>892558</td>\n",
       "      <td>911172</td>\n",
       "      <td>952194</td>\n",
       "      <td>953962</td>\n",
       "      <td>975524</td>\n",
       "      <td>859323</td>\n",
       "      <td>910666</td>\n",
       "      <td>908299</td>\n",
       "      <td>978395</td>\n",
       "      <td>1001644</td>\n",
       "    </tr>\n",
       "    <tr>\n",
       "      <th>2</th>\n",
       "      <td>Barking &amp; Dagenham</td>\n",
       "      <td>E09000002</td>\n",
       "      <td>50460.2266</td>\n",
       "      <td>51085.77983</td>\n",
       "      <td>51268.96956</td>\n",
       "      <td>53133.50526</td>\n",
       "      <td>53042.24852</td>\n",
       "      <td>53700.34831</td>\n",
       "      <td>52113.12157</td>\n",
       "      <td>52232.19868</td>\n",
       "      <td>...</td>\n",
       "      <td>347323</td>\n",
       "      <td>350138</td>\n",
       "      <td>353968</td>\n",
       "      <td>356131</td>\n",
       "      <td>352116</td>\n",
       "      <td>344414</td>\n",
       "      <td>343709</td>\n",
       "      <td>350872</td>\n",
       "      <td>353925</td>\n",
       "      <td>347148</td>\n",
       "    </tr>\n",
       "    <tr>\n",
       "      <th>3</th>\n",
       "      <td>Barnet</td>\n",
       "      <td>E09000003</td>\n",
       "      <td>93284.51832</td>\n",
       "      <td>93190.16963</td>\n",
       "      <td>92247.52435</td>\n",
       "      <td>90762.87492</td>\n",
       "      <td>90258.00033</td>\n",
       "      <td>90107.23471</td>\n",
       "      <td>91441.24768</td>\n",
       "      <td>92361.31512</td>\n",
       "      <td>...</td>\n",
       "      <td>602339</td>\n",
       "      <td>599296</td>\n",
       "      <td>593031</td>\n",
       "      <td>593804</td>\n",
       "      <td>597651</td>\n",
       "      <td>601278</td>\n",
       "      <td>593957</td>\n",
       "      <td>586289</td>\n",
       "      <td>575131</td>\n",
       "      <td>574285</td>\n",
       "    </tr>\n",
       "    <tr>\n",
       "      <th>4</th>\n",
       "      <td>Bexley</td>\n",
       "      <td>E09000004</td>\n",
       "      <td>64958.09036</td>\n",
       "      <td>64787.92069</td>\n",
       "      <td>64367.49344</td>\n",
       "      <td>64277.66881</td>\n",
       "      <td>63997.13588</td>\n",
       "      <td>64252.32335</td>\n",
       "      <td>63722.70055</td>\n",
       "      <td>64432.60005</td>\n",
       "      <td>...</td>\n",
       "      <td>406183</td>\n",
       "      <td>410677</td>\n",
       "      <td>409367</td>\n",
       "      <td>408708</td>\n",
       "      <td>401081</td>\n",
       "      <td>400870</td>\n",
       "      <td>399844</td>\n",
       "      <td>402319</td>\n",
       "      <td>398450</td>\n",
       "      <td>396025</td>\n",
       "    </tr>\n",
       "    <tr>\n",
       "      <th>5</th>\n",
       "      <td>Brent</td>\n",
       "      <td>E09000005</td>\n",
       "      <td>71306.56698</td>\n",
       "      <td>72022.26197</td>\n",
       "      <td>72015.76274</td>\n",
       "      <td>72965.63094</td>\n",
       "      <td>73704.04743</td>\n",
       "      <td>74310.48167</td>\n",
       "      <td>74127.03788</td>\n",
       "      <td>73547.0411</td>\n",
       "      <td>...</td>\n",
       "      <td>577581</td>\n",
       "      <td>569656</td>\n",
       "      <td>564091</td>\n",
       "      <td>553092</td>\n",
       "      <td>549679</td>\n",
       "      <td>535593</td>\n",
       "      <td>529308</td>\n",
       "      <td>532286</td>\n",
       "      <td>531523</td>\n",
       "      <td>541559</td>\n",
       "    </tr>\n",
       "  </tbody>\n",
       "</table>\n",
       "<p>5 rows × 344 columns</p>\n",
       "</div>"
      ],
      "text/plain": [
       "0          Unnamed: 0        NaT 1995-01-01 00:00:00 1995-02-01 00:00:00  \\\n",
       "1      City of London  E09000001         91448.98487         82202.77314   \n",
       "2  Barking & Dagenham  E09000002          50460.2266         51085.77983   \n",
       "3              Barnet  E09000003         93284.51832         93190.16963   \n",
       "4              Bexley  E09000004         64958.09036         64787.92069   \n",
       "5               Brent  E09000005         71306.56698         72022.26197   \n",
       "\n",
       "0 1995-03-01 00:00:00 1995-04-01 00:00:00 1995-05-01 00:00:00  \\\n",
       "1         79120.70256         77101.20804         84409.14932   \n",
       "2         51268.96956         53133.50526         53042.24852   \n",
       "3         92247.52435         90762.87492         90258.00033   \n",
       "4         64367.49344         64277.66881         63997.13588   \n",
       "5         72015.76274         72965.63094         73704.04743   \n",
       "\n",
       "0 1995-06-01 00:00:00 1995-07-01 00:00:00 1995-08-01 00:00:00  ...  \\\n",
       "1         94900.51244         110128.0423         112329.4376  ...   \n",
       "2         53700.34831         52113.12157         52232.19868  ...   \n",
       "3         90107.23471         91441.24768         92361.31512  ...   \n",
       "4         64252.32335         63722.70055         64432.60005  ...   \n",
       "5         74310.48167         74127.03788          73547.0411  ...   \n",
       "\n",
       "0 2022-09-01 00:00:00 2022-10-01 00:00:00 2022-11-01 00:00:00  \\\n",
       "1              892558              911172              952194   \n",
       "2              347323              350138              353968   \n",
       "3              602339              599296              593031   \n",
       "4              406183              410677              409367   \n",
       "5              577581              569656              564091   \n",
       "\n",
       "0 2022-12-01 00:00:00 2023-01-01 00:00:00 2023-02-01 00:00:00  \\\n",
       "1              953962              975524              859323   \n",
       "2              356131              352116              344414   \n",
       "3              593804              597651              601278   \n",
       "4              408708              401081              400870   \n",
       "5              553092              549679              535593   \n",
       "\n",
       "0 2023-03-01 00:00:00 2023-04-01 00:00:00 2023-05-01 00:00:00  \\\n",
       "1              910666              908299              978395   \n",
       "2              343709              350872              353925   \n",
       "3              593957              586289              575131   \n",
       "4              399844              402319              398450   \n",
       "5              529308              532286              531523   \n",
       "\n",
       "0 2023-06-01 00:00:00  \n",
       "1             1001644  \n",
       "2              347148  \n",
       "3              574285  \n",
       "4              396025  \n",
       "5              541559  \n",
       "\n",
       "[5 rows x 344 columns]"
      ]
     },
     "execution_count": 40,
     "metadata": {},
     "output_type": "execute_result"
    }
   ],
   "source": [
    "###Transpose dataframe\n",
    "properties_t=properties.T\n",
    "properties_t = properties_t.reset_index()\n",
    "properties_t.columns=properties_t.iloc[0]\n",
    "properties_t = properties_t[1:]\n",
    "properties_t.head()\n"
   ]
  },
  {
   "cell_type": "markdown",
   "metadata": {
    "colab_type": "text",
    "id": "o1uLbJAsoIjK"
   },
   "source": [
    "**2.3. Cleaning the data (part 2)**\n",
    "\n",
    "You might we have to **rename** a couple columns. How do you do this? The clue's pretty bold..."
   ]
  },
  {
   "cell_type": "code",
   "execution_count": 41,
   "metadata": {
    "colab": {},
    "colab_type": "code",
    "id": "GKkmn1AnoVZS"
   },
   "outputs": [],
   "source": [
    "properties_t.rename(columns={\"Unnamed: 0\":\"London Borough\",pd.NaT:\"ID\"},inplace=True)\n"
   ]
  },
  {
   "cell_type": "markdown",
   "metadata": {
    "colab_type": "text",
    "id": "jy8BzXHmoWEw"
   },
   "source": [
    "**2.4.Transforming the data**\n",
    "\n",
    "Remember what Wes McKinney said about tidy data? \n",
    "\n",
    "You might need to **melt** your DataFrame here. "
   ]
  },
  {
   "cell_type": "code",
   "execution_count": 50,
   "metadata": {
    "colab": {},
    "colab_type": "code",
    "id": "S2wM0qLuo2Zt"
   },
   "outputs": [],
   "source": [
    "properties_t=properties_t.melt(id_vars=[\"London Borough\",\"ID\"],var_name=\"Month\",value_name=\"Average Price\")\n"
   ]
  },
  {
   "cell_type": "markdown",
   "metadata": {
    "colab_type": "text",
    "id": "7kIsgAo7o3mf"
   },
   "source": [
    "Remember to make sure your column data types are all correct. Average prices, for example, should be floating point numbers... "
   ]
  },
  {
   "cell_type": "code",
   "execution_count": 51,
   "metadata": {
    "colab": {},
    "colab_type": "code",
    "id": "ZcR4IHbcpOaq"
   },
   "outputs": [],
   "source": [
    "properties_t['Average Price']=properties_t['Average Price'].astype(float)\n"
   ]
  },
  {
   "cell_type": "markdown",
   "metadata": {
    "colab_type": "text",
    "id": "knLUXHLypOtw"
   },
   "source": [
    "**2.5. Cleaning the data (part 3)**\n",
    "\n",
    "Do we have an equal number of observations in the ID, Average Price, Month, and London Borough columns? Remember that there are only 32 London Boroughs. How many entries do you have in that column? \n",
    "\n",
    "Check out the contents of the London Borough column, and if you find null values, get rid of them however you see fit. "
   ]
  },
  {
   "cell_type": "code",
   "execution_count": 52,
   "metadata": {
    "colab": {},
    "colab_type": "code",
    "id": "BnvTW5a3p0fC"
   },
   "outputs": [],
   "source": [
    "#48 entries in that column\n",
    "properties_t[\"London Borough\"].unique()\n",
    "properties_t=properties_t[properties_t['London Borough'].str.contains('Unnamed')==False]\n"
   ]
  },
  {
   "cell_type": "markdown",
   "metadata": {
    "colab_type": "text",
    "id": "PGEx6mJsp6dG"
   },
   "source": [
    "**2.6. Visualizing the data**\n",
    "\n",
    "To visualize the data, why not subset on a particular London Borough? Maybe do a line plot of Month against Average Price?"
   ]
  },
  {
   "cell_type": "code",
   "execution_count": 53,
   "metadata": {
    "colab": {},
    "colab_type": "code",
    "id": "nAg5pT9cqHAR"
   },
   "outputs": [
    {
     "data": {
      "text/plain": [
       "<AxesSubplot:xlabel='Month'>"
      ]
     },
     "execution_count": 53,
     "metadata": {},
     "output_type": "execute_result"
    },
    {
     "data": {
      "image/png": "[encoded data removed]",
      "text/plain": [
       "<Figure size 432x288 with 1 Axes>"
      ]
     },
     "metadata": {
      "needs_background": "light"
     },
     "output_type": "display_data"
    }
   ],
   "source": [
    "Brent=properties_t[properties_t[\"London Borough\"].isin([\"Brent\"])]\n",
    "\n",
    "Brent.plot.line(x=\"Month\",y=\"Average Price\")"
   ]
  },
  {
   "cell_type": "markdown",
   "metadata": {
    "colab_type": "text",
    "id": "aWTPqSJeqHnC"
   },
   "source": [
    "To limit the number of data points you have, you might want to extract the year from every month value your *Month* column. \n",
    "\n",
    "To this end, you *could* apply a ***lambda function***. Your logic could work as follows:\n",
    "1. look through the `Month` column\n",
    "2. extract the year from each individual value in that column \n",
    "3. store that corresponding year as separate column. \n",
    "\n",
    "Whether you go ahead with this is up to you. Just so long as you answer our initial brief: which boroughs of London have seen the greatest house price increase, on average, over the past two decades? "
   ]
  },
  {
   "cell_type": "code",
   "execution_count": 54,
   "metadata": {
    "colab": {},
    "colab_type": "code",
    "id": "e0DF92cyqnu8"
   },
   "outputs": [
    {
     "data": {
      "text/html": [
       "<div>\n",
       "<style scoped>\n",
       "    .dataframe tbody tr th:only-of-type {\n",
       "        vertical-align: middle;\n",
       "    }\n",
       "\n",
       "    .dataframe tbody tr th {\n",
       "        vertical-align: top;\n",
       "    }\n",
       "\n",
       "    .dataframe thead th {\n",
       "        text-align: right;\n",
       "    }\n",
       "</style>\n",
       "<table border=\"1\" class=\"dataframe\">\n",
       "  <thead>\n",
       "    <tr style=\"text-align: right;\">\n",
       "      <th></th>\n",
       "      <th>London Borough</th>\n",
       "      <th>ID</th>\n",
       "      <th>Month</th>\n",
       "      <th>Average Price</th>\n",
       "      <th>Year</th>\n",
       "    </tr>\n",
       "  </thead>\n",
       "  <tbody>\n",
       "    <tr>\n",
       "      <th>0</th>\n",
       "      <td>City of London</td>\n",
       "      <td>E09000001</td>\n",
       "      <td>1995-01-01 00:00:00</td>\n",
       "      <td>91448.98487</td>\n",
       "      <td>1995</td>\n",
       "    </tr>\n",
       "    <tr>\n",
       "      <th>1</th>\n",
       "      <td>Barking &amp; Dagenham</td>\n",
       "      <td>E09000002</td>\n",
       "      <td>1995-01-01 00:00:00</td>\n",
       "      <td>50460.22660</td>\n",
       "      <td>1995</td>\n",
       "    </tr>\n",
       "    <tr>\n",
       "      <th>2</th>\n",
       "      <td>Barnet</td>\n",
       "      <td>E09000003</td>\n",
       "      <td>1995-01-01 00:00:00</td>\n",
       "      <td>93284.51832</td>\n",
       "      <td>1995</td>\n",
       "    </tr>\n",
       "    <tr>\n",
       "      <th>3</th>\n",
       "      <td>Bexley</td>\n",
       "      <td>E09000004</td>\n",
       "      <td>1995-01-01 00:00:00</td>\n",
       "      <td>64958.09036</td>\n",
       "      <td>1995</td>\n",
       "    </tr>\n",
       "    <tr>\n",
       "      <th>4</th>\n",
       "      <td>Brent</td>\n",
       "      <td>E09000005</td>\n",
       "      <td>1995-01-01 00:00:00</td>\n",
       "      <td>71306.56698</td>\n",
       "      <td>1995</td>\n",
       "    </tr>\n",
       "  </tbody>\n",
       "</table>\n",
       "</div>"
      ],
      "text/plain": [
       "       London Borough         ID                Month  Average Price  Year\n",
       "0      City of London  E09000001  1995-01-01 00:00:00    91448.98487  1995\n",
       "1  Barking & Dagenham  E09000002  1995-01-01 00:00:00    50460.22660  1995\n",
       "2              Barnet  E09000003  1995-01-01 00:00:00    93284.51832  1995\n",
       "3              Bexley  E09000004  1995-01-01 00:00:00    64958.09036  1995\n",
       "4               Brent  E09000005  1995-01-01 00:00:00    71306.56698  1995"
      ]
     },
     "execution_count": 54,
     "metadata": {},
     "output_type": "execute_result"
    }
   ],
   "source": [
    "properties_t[\"Year\"]=list(map(lambda x:x.strftime(\"%Y\"), properties_t[\"Month\"]))\n"
   ]
  },
  {
   "cell_type": "markdown",
   "metadata": {
    "colab_type": "text",
    "id": "2knuTxAEqoJ4"
   },
   "source": [
    "**3. Modeling**\n",
    "\n",
    "Consider creating a function that will calculate a ratio of house prices, comparing the price of a house in 2018 to the price in 1998.\n",
    "\n",
    "Consider calling this function create_price_ratio.\n",
    "\n",
    "You'd want this function to:\n",
    "1. Take a filter of dfg, specifically where this filter constrains the London_Borough, as an argument. For example, one admissible argument should be: dfg[dfg['London_Borough']=='Camden'].\n",
    "2. Get the Average Price for that Borough, for the years 1998 and 2018.\n",
    "4. Calculate the ratio of the Average Price for 1998 divided by the Average Price for 2018.\n",
    "5. Return that ratio.\n",
    "\n",
    "Once you've written this function, you ultimately want to use it to iterate through all the unique London_Boroughs and work out the ratio capturing the difference of house prices between 1998 and 2018.\n",
    "\n",
    "Bear in mind: you don't have to write a function like this if you don't want to. If you can solve the brief otherwise, then great! \n",
    "\n",
    "***Hint***: This section should test the skills you acquired in:\n",
    "- Python Data Science Toolbox - Part One, all modules"
   ]
  },
  {
   "cell_type": "code",
   "execution_count": 89,
   "metadata": {
    "colab": {},
    "colab_type": "code",
    "id": "cKTyr437UgDa"
   },
   "outputs": [
    {
     "data": {
      "text/plain": [
       "{'City of London': 0.18862157770244364,\n",
       " 'Barking & Dagenham': 0.2042225623539368,\n",
       " 'Barnet': 0.229452741207858,\n",
       " 'Bexley': 0.23535076540630112,\n",
       " 'Brent': 0.2043086864360114,\n",
       " 'Bromley': 0.24421308489837307,\n",
       " 'Camden': 0.20261973503252542,\n",
       " 'Croydon': 0.23803288028014052,\n",
       " 'Ealing': 0.23194048191708758,\n",
       " 'Enfield': 0.23455064269011858,\n",
       " 'Greenwich': 0.20995010893854218,\n",
       " 'Hackney': 0.16133493530705734,\n",
       " 'Hammersmith & Fulham': 0.24167443054605853,\n",
       " 'Haringey': 0.19475619095546956,\n",
       " 'Harrow': 0.24635417785626296,\n",
       " 'Havering': 0.23120155787014757,\n",
       " 'Hillingdon': 0.23807975835429931,\n",
       " 'Hounslow': 0.25148317824115635,\n",
       " 'Islington': 0.20643891170300288,\n",
       " 'Kensington & Chelsea': 0.19675491852791566,\n",
       " 'Kingston upon Thames': 0.23416190234282552,\n",
       " 'Lambeth': 0.20170435486140822,\n",
       " 'Lewisham': 0.1835124676472171,\n",
       " 'Merton': 0.21091380604361798,\n",
       " 'Newham': 0.18848754146121072,\n",
       " 'Redbridge': 0.2236545053715767,\n",
       " 'Richmond upon Thames': 0.24967779731157863,\n",
       " 'Southwark': 0.18127484171283462,\n",
       " 'Sutton': 0.24280551426824518,\n",
       " 'Tower Hamlets': 0.2161367227623553,\n",
       " 'Waltham Forest': 0.17138677824394877,\n",
       " 'Wandsworth': 0.21018518091593216,\n",
       " 'Westminster': 0.1867914047302468,\n",
       " 'Inner London': 0.19339152138506577,\n",
       " 'Outer London': 0.22629811224913093,\n",
       " 'NORTH EAST': 0.3535967231925915,\n",
       " 'NORTH WEST': 0.297316807594284,\n",
       " 'YORKS & THE HUMBER': 0.2979679995370457,\n",
       " 'EAST MIDLANDS': 0.27527471457895053,\n",
       " 'WEST MIDLANDS': 0.30199964293728065,\n",
       " 'EAST OF ENGLAND': 0.23998652920722383,\n",
       " 'LONDON': 0.2136854299558557,\n",
       " 'SOUTH EAST': 0.2612065640720062,\n",
       " 'SOUTH WEST': 0.2634700981993535,\n",
       " 'England': 0.26243599006976337}"
      ]
     },
     "execution_count": 89,
     "metadata": {},
     "output_type": "execute_result"
    }
   ],
   "source": [
    "def  create_price_ratio(x):\n",
    "    first=properties_t[(properties_t['London Borough']==x)&(properties_t['Year']==\"1998\")][\"Average Price\"].mean()\n",
    "    second=properties_t[(properties_t['London Borough']==x)&(properties_t['Year']==\"2018\")][\"Average Price\"].mean()\n",
    "    return first/second\n",
    "\n",
    "output_list = [create_price_ratio(x) for x in properties_t[\"London Borough\"].unique()]\n",
    "\n",
    "dictionary_ratio = dict(zip(properties_t[\"London Borough\"].unique(),output_list))\n",
    "dictionary_ratio\n",
    "Greatest_increase = min(dictionary_ratio.values())\n",
    "Borough = []\n",
    "for key, value in dictionary_ratio.items():\n",
    "    if(value == Greatest_increase):\n",
    "    Borough.append(key)\n",
    " \n",
    "# printing result\n",
    "print(\"Borough with greatest increase in average prices over two decades is: \" + str((Borough)))\n"
   ]
  },
  {
   "cell_type": "markdown",
   "metadata": {
    "colab_type": "text",
    "id": "NzYUI7FxJpgv"
   },
   "source": [
    "\n",
    "### 4. Conclusion\n",
    "What can you conclude? Type out your conclusion below. \n",
    "Borough with greatest increase in average prices over two decades is Hackney\n",
    "\n",
    "Look back at your notebook. Think about how you might summarize what you have done, and prepare a quick presentation on it to your mentor at your next meeting. \n",
    "I downloaded the properties section (house prices at different months across different years) for London Boroughs from  a sheet of an excel file as a pandas dataframe. Data cleaning  was then performed by transposing the dataframe and then select the first row as a header. The first two columns which had no names were renamed as \"London Boroughs\" and \"ID\" respectively. As part of the transformation step, the dataframe was melted to create a dataframe with all dates in one column and was renamed as the \"Month\" column. \n",
    "For cleaning the transformed dataframe ,the Values column for the dates was rennamed as \"Average Prices\", unnamed London Boroughs were also removed and the data types in the dataframe were ensured to be the expected data type. For the \"Average Prices\" column, the data type was converted into a float.\n",
    "For the modeling steps using a lambda function a Year column was created from the datetime object \"Month\" column. Ratios between Average Prices in 2008/Average Prices in 2018 were calculated for each of the London Boroughs by using the create_price_ratio function. This was then used to find the Hackney borough as having the highest price increase from 2008 to 2018 based on having the lowest calculated ratio.\n",
    "\n",
    "\n",
    "\n",
    "\n",
    "We hope you enjoyed this practical project. It should have consolidated your data hygiene and pandas skills by looking at a real-world problem involving just the kind of dataset you might encounter as a budding data scientist. Congratulations, and looking forward to seeing you at the next step in the course! "
   ]
  }
 ],
 "metadata": {
  "colab": {
   "collapsed_sections": [],
   "name": "Springboard Data Science Career Track Unit 4 Challenge - Tier 3 Complete .ipynb",
   "provenance": []
  },
  "kernelspec": {
   "display_name": "Python 3 (ipykernel)",
   "language": "python",
   "name": "python3"
  },
  "language_info": {
   "codemirror_mode": {
    "name": "ipython",
    "version": 3
   },
   "file_extension": ".py",
   "mimetype": "text/x-python",
   "name": "python",
   "nbconvert_exporter": "python",
   "pygments_lexer": "ipython3",
   "version": "3.9.12"
  }
 },
 "nbformat": 4,
 "nbformat_minor": 1
}
